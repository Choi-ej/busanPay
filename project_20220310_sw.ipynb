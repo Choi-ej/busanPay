{
 "cells": [
  {
   "cell_type": "code",
   "execution_count": 13,
   "id": "ccfbc869",
   "metadata": {},
   "outputs": [],
   "source": [
    "import pandas as pd\n",
    "import numpy as np"
   ]
  },
  {
   "cell_type": "code",
   "execution_count": 31,
   "id": "434268c6",
   "metadata": {},
   "outputs": [],
   "source": [
    "a6=pd.read_csv(\"2022.06_행정동 단위 업종별 지역화폐 거래 데이터.csv\", encoding='cp949')\n",
    "a7=pd.read_csv(\"2022.07_행정동 단위 업종별 지역화폐 거래 데이터.csv\", encoding='cp949')\n",
    "a8=pd.read_csv(\"2022.08_행정동 단위 업종별 지역화폐 거래 데이터.csv\", encoding='cp949')"
   ]
  },
  {
   "cell_type": "code",
   "execution_count": 15,
   "id": "c96f1163",
   "metadata": {},
   "outputs": [
    {
     "name": "stdout",
     "output_type": "stream",
     "text": [
      "<class 'pandas.core.frame.DataFrame'>\n",
      "RangeIndex: 10061735 entries, 0 to 10061734\n",
      "Data columns (total 13 columns):\n",
      " #   Column         Dtype \n",
      "---  ------         ----- \n",
      " 0   strd_date      int64 \n",
      " 1   strd_tizn_val  int64 \n",
      " 2   ctpr_nm        object\n",
      " 3   ccg_nm         object\n",
      " 4   adn_dgnm       object\n",
      " 5   adng_no        int64 \n",
      " 6   cardc_nm       object\n",
      " 7   tpbuz_cd       int64 \n",
      " 8   tpbuz_nm       object\n",
      " 9   bth_yr         int64 \n",
      " 10  sex_cd         object\n",
      " 11  trns_cnt       int64 \n",
      " 12  ttl_trns_amt   int64 \n",
      "dtypes: int64(7), object(6)\n",
      "memory usage: 997.9+ MB\n"
     ]
    }
   ],
   "source": [
    "a6.info()"
   ]
  },
  {
   "cell_type": "code",
   "execution_count": 16,
   "id": "63db6655",
   "metadata": {},
   "outputs": [
    {
     "name": "stdout",
     "output_type": "stream",
     "text": [
      "<class 'pandas.core.frame.DataFrame'>\n",
      "RangeIndex: 9756266 entries, 0 to 9756265\n",
      "Data columns (total 13 columns):\n",
      " #   Column         Dtype \n",
      "---  ------         ----- \n",
      " 0   strd_date      int64 \n",
      " 1   strd_tizn_val  int64 \n",
      " 2   ctpr_nm        object\n",
      " 3   ccg_nm         object\n",
      " 4   adn_dgnm       object\n",
      " 5   adng_no        int64 \n",
      " 6   cardc_nm       object\n",
      " 7   tpbuz_cd       int64 \n",
      " 8   tpbuz_nm       object\n",
      " 9   bth_yr         int64 \n",
      " 10  sex_cd         object\n",
      " 11  trns_cnt       int64 \n",
      " 12  ttl_trns_amt   int64 \n",
      "dtypes: int64(7), object(6)\n",
      "memory usage: 967.6+ MB\n"
     ]
    }
   ],
   "source": [
    "a7.info()"
   ]
  },
  {
   "cell_type": "code",
   "execution_count": 17,
   "id": "86d3b6ca",
   "metadata": {},
   "outputs": [
    {
     "name": "stdout",
     "output_type": "stream",
     "text": [
      "<class 'pandas.core.frame.DataFrame'>\n",
      "RangeIndex: 7317159 entries, 0 to 7317158\n",
      "Data columns (total 13 columns):\n",
      " #   Column         Dtype \n",
      "---  ------         ----- \n",
      " 0   strd_date      int64 \n",
      " 1   strd_tizn_val  int64 \n",
      " 2   ctpr_nm        object\n",
      " 3   ccg_nm         object\n",
      " 4   adn_dgnm       object\n",
      " 5   adng_no        int64 \n",
      " 6   cardc_nm       object\n",
      " 7   tpbuz_cd       int64 \n",
      " 8   tpbuz_nm       object\n",
      " 9   bth_yr         int64 \n",
      " 10  sex_cd         object\n",
      " 11  trns_cnt       int64 \n",
      " 12  ttl_trns_amt   int64 \n",
      "dtypes: int64(7), object(6)\n",
      "memory usage: 725.7+ MB\n"
     ]
    }
   ],
   "source": [
    "a8.info()"
   ]
  },
  {
   "cell_type": "code",
   "execution_count": 6,
   "id": "db0efbd8",
   "metadata": {},
   "outputs": [
    {
     "data": {
      "text/plain": [
       "strd_date        0\n",
       "strd_tizn_val    0\n",
       "ctpr_nm          0\n",
       "ccg_nm           0\n",
       "adn_dgnm         0\n",
       "adng_no          0\n",
       "cardc_nm         0\n",
       "tpbuz_cd         0\n",
       "tpbuz_nm         0\n",
       "bth_yr           0\n",
       "sex_cd           0\n",
       "trns_cnt         0\n",
       "ttl_trns_amt     0\n",
       "dtype: int64"
      ]
     },
     "execution_count": 6,
     "metadata": {},
     "output_type": "execute_result"
    }
   ],
   "source": [
    "a6.isnull().sum()"
   ]
  },
  {
   "cell_type": "code",
   "execution_count": 7,
   "id": "647b7f82",
   "metadata": {},
   "outputs": [
    {
     "data": {
      "text/plain": [
       "strd_date        0\n",
       "strd_tizn_val    0\n",
       "ctpr_nm          0\n",
       "ccg_nm           0\n",
       "adn_dgnm         0\n",
       "adng_no          0\n",
       "cardc_nm         0\n",
       "tpbuz_cd         0\n",
       "tpbuz_nm         0\n",
       "bth_yr           0\n",
       "sex_cd           0\n",
       "trns_cnt         0\n",
       "ttl_trns_amt     0\n",
       "dtype: int64"
      ]
     },
     "execution_count": 7,
     "metadata": {},
     "output_type": "execute_result"
    }
   ],
   "source": [
    "a7.isnull().sum()"
   ]
  },
  {
   "cell_type": "code",
   "execution_count": 8,
   "id": "27648906",
   "metadata": {},
   "outputs": [
    {
     "data": {
      "text/plain": [
       "strd_date        0\n",
       "strd_tizn_val    0\n",
       "ctpr_nm          0\n",
       "ccg_nm           0\n",
       "adn_dgnm         0\n",
       "adng_no          0\n",
       "cardc_nm         0\n",
       "tpbuz_cd         0\n",
       "tpbuz_nm         0\n",
       "bth_yr           0\n",
       "sex_cd           0\n",
       "trns_cnt         0\n",
       "ttl_trns_amt     0\n",
       "dtype: int64"
      ]
     },
     "execution_count": 8,
     "metadata": {},
     "output_type": "execute_result"
    }
   ],
   "source": [
    "a8.isnull().sum()"
   ]
  },
  {
   "cell_type": "code",
   "execution_count": 46,
   "id": "c345866a",
   "metadata": {},
   "outputs": [],
   "source": [
    "df=pd.concat([a6,a7,a8], axis=0)"
   ]
  },
  {
   "cell_type": "code",
   "execution_count": 52,
   "id": "0d86047c",
   "metadata": {
    "scrolled": false
   },
   "outputs": [
    {
     "data": {
      "text/html": [
       "<div>\n",
       "<style scoped>\n",
       "    .dataframe tbody tr th:only-of-type {\n",
       "        vertical-align: middle;\n",
       "    }\n",
       "\n",
       "    .dataframe tbody tr th {\n",
       "        vertical-align: top;\n",
       "    }\n",
       "\n",
       "    .dataframe thead th {\n",
       "        text-align: right;\n",
       "    }\n",
       "</style>\n",
       "<table border=\"1\" class=\"dataframe\">\n",
       "  <thead>\n",
       "    <tr style=\"text-align: right;\">\n",
       "      <th></th>\n",
       "      <th>strd_date</th>\n",
       "      <th>strd_tizn_val</th>\n",
       "      <th>ccg_nm</th>\n",
       "      <th>adn_dgnm</th>\n",
       "      <th>adng_no</th>\n",
       "      <th>cardc_nm</th>\n",
       "      <th>tpbuz_cd</th>\n",
       "      <th>tpbuz_nm</th>\n",
       "      <th>bth_yr</th>\n",
       "      <th>sex_cd</th>\n",
       "      <th>trns_cnt</th>\n",
       "      <th>ttl_trns_amt</th>\n",
       "    </tr>\n",
       "  </thead>\n",
       "  <tbody>\n",
       "    <tr>\n",
       "      <th>0</th>\n",
       "      <td>2022-06-01</td>\n",
       "      <td>0</td>\n",
       "      <td>중구</td>\n",
       "      <td>대청동</td>\n",
       "      <td>21010530</td>\n",
       "      <td>코나</td>\n",
       "      <td>4010</td>\n",
       "      <td>편 의 점</td>\n",
       "      <td>1973</td>\n",
       "      <td>M</td>\n",
       "      <td>1</td>\n",
       "      <td>7350</td>\n",
       "    </tr>\n",
       "    <tr>\n",
       "      <th>1</th>\n",
       "      <td>2022-06-01</td>\n",
       "      <td>0</td>\n",
       "      <td>중구</td>\n",
       "      <td>중앙동</td>\n",
       "      <td>21010510</td>\n",
       "      <td>부산</td>\n",
       "      <td>4010</td>\n",
       "      <td>편 의 점</td>\n",
       "      <td>1981</td>\n",
       "      <td>F</td>\n",
       "      <td>1</td>\n",
       "      <td>3700</td>\n",
       "    </tr>\n",
       "    <tr>\n",
       "      <th>2</th>\n",
       "      <td>2022-06-01</td>\n",
       "      <td>0</td>\n",
       "      <td>중구</td>\n",
       "      <td>중앙동</td>\n",
       "      <td>21010510</td>\n",
       "      <td>부산</td>\n",
       "      <td>4010</td>\n",
       "      <td>편 의 점</td>\n",
       "      <td>1992</td>\n",
       "      <td>M</td>\n",
       "      <td>1</td>\n",
       "      <td>7500</td>\n",
       "    </tr>\n",
       "    <tr>\n",
       "      <th>3</th>\n",
       "      <td>2022-06-01</td>\n",
       "      <td>0</td>\n",
       "      <td>중구</td>\n",
       "      <td>중앙동</td>\n",
       "      <td>21010510</td>\n",
       "      <td>부산</td>\n",
       "      <td>4010</td>\n",
       "      <td>편 의 점</td>\n",
       "      <td>1995</td>\n",
       "      <td>M</td>\n",
       "      <td>1</td>\n",
       "      <td>2700</td>\n",
       "    </tr>\n",
       "    <tr>\n",
       "      <th>4</th>\n",
       "      <td>2022-06-01</td>\n",
       "      <td>0</td>\n",
       "      <td>중구</td>\n",
       "      <td>중앙동</td>\n",
       "      <td>21010510</td>\n",
       "      <td>코나</td>\n",
       "      <td>4010</td>\n",
       "      <td>편 의 점</td>\n",
       "      <td>1976</td>\n",
       "      <td>M</td>\n",
       "      <td>1</td>\n",
       "      <td>13900</td>\n",
       "    </tr>\n",
       "    <tr>\n",
       "      <th>...</th>\n",
       "      <td>...</td>\n",
       "      <td>...</td>\n",
       "      <td>...</td>\n",
       "      <td>...</td>\n",
       "      <td>...</td>\n",
       "      <td>...</td>\n",
       "      <td>...</td>\n",
       "      <td>...</td>\n",
       "      <td>...</td>\n",
       "      <td>...</td>\n",
       "      <td>...</td>\n",
       "      <td>...</td>\n",
       "    </tr>\n",
       "    <tr>\n",
       "      <th>7317154</th>\n",
       "      <td>2022-08-01</td>\n",
       "      <td>0</td>\n",
       "      <td>영도구</td>\n",
       "      <td>동삼1동</td>\n",
       "      <td>21040650</td>\n",
       "      <td>코나</td>\n",
       "      <td>4020</td>\n",
       "      <td>슈퍼마켓</td>\n",
       "      <td>1958</td>\n",
       "      <td>M</td>\n",
       "      <td>1</td>\n",
       "      <td>30000</td>\n",
       "    </tr>\n",
       "    <tr>\n",
       "      <th>7317155</th>\n",
       "      <td>2022-08-01</td>\n",
       "      <td>0</td>\n",
       "      <td>영도구</td>\n",
       "      <td>동삼1동</td>\n",
       "      <td>21040650</td>\n",
       "      <td>코나</td>\n",
       "      <td>8013</td>\n",
       "      <td>주점</td>\n",
       "      <td>1998</td>\n",
       "      <td>M</td>\n",
       "      <td>1</td>\n",
       "      <td>59600</td>\n",
       "    </tr>\n",
       "    <tr>\n",
       "      <th>7317156</th>\n",
       "      <td>2022-08-01</td>\n",
       "      <td>0</td>\n",
       "      <td>영도구</td>\n",
       "      <td>동삼1동</td>\n",
       "      <td>21040650</td>\n",
       "      <td>코나</td>\n",
       "      <td>8399</td>\n",
       "      <td>기타음료식품</td>\n",
       "      <td>1998</td>\n",
       "      <td>F</td>\n",
       "      <td>1</td>\n",
       "      <td>7500</td>\n",
       "    </tr>\n",
       "    <tr>\n",
       "      <th>7317157</th>\n",
       "      <td>2022-08-01</td>\n",
       "      <td>0</td>\n",
       "      <td>영도구</td>\n",
       "      <td>동삼1동</td>\n",
       "      <td>21040650</td>\n",
       "      <td>하나</td>\n",
       "      <td>4010</td>\n",
       "      <td>편 의 점</td>\n",
       "      <td>1971</td>\n",
       "      <td>F</td>\n",
       "      <td>2</td>\n",
       "      <td>7600</td>\n",
       "    </tr>\n",
       "    <tr>\n",
       "      <th>7317158</th>\n",
       "      <td>2022-08-01</td>\n",
       "      <td>0</td>\n",
       "      <td>영도구</td>\n",
       "      <td>동삼1동</td>\n",
       "      <td>21040650</td>\n",
       "      <td>하나</td>\n",
       "      <td>4010</td>\n",
       "      <td>편 의 점</td>\n",
       "      <td>2001</td>\n",
       "      <td>M</td>\n",
       "      <td>1</td>\n",
       "      <td>2200</td>\n",
       "    </tr>\n",
       "  </tbody>\n",
       "</table>\n",
       "<p>27135160 rows × 12 columns</p>\n",
       "</div>"
      ],
      "text/plain": [
       "         strd_date  strd_tizn_val ccg_nm adn_dgnm   adng_no cardc_nm  \\\n",
       "0       2022-06-01              0     중구      대청동  21010530       코나   \n",
       "1       2022-06-01              0     중구      중앙동  21010510       부산   \n",
       "2       2022-06-01              0     중구      중앙동  21010510       부산   \n",
       "3       2022-06-01              0     중구      중앙동  21010510       부산   \n",
       "4       2022-06-01              0     중구      중앙동  21010510       코나   \n",
       "...            ...            ...    ...      ...       ...      ...   \n",
       "7317154 2022-08-01              0    영도구     동삼1동  21040650       코나   \n",
       "7317155 2022-08-01              0    영도구     동삼1동  21040650       코나   \n",
       "7317156 2022-08-01              0    영도구     동삼1동  21040650       코나   \n",
       "7317157 2022-08-01              0    영도구     동삼1동  21040650       하나   \n",
       "7317158 2022-08-01              0    영도구     동삼1동  21040650       하나   \n",
       "\n",
       "         tpbuz_cd tpbuz_nm  bth_yr sex_cd  trns_cnt  ttl_trns_amt  \n",
       "0            4010    편 의 점    1973      M         1          7350  \n",
       "1            4010    편 의 점    1981      F         1          3700  \n",
       "2            4010    편 의 점    1992      M         1          7500  \n",
       "3            4010    편 의 점    1995      M         1          2700  \n",
       "4            4010    편 의 점    1976      M         1         13900  \n",
       "...           ...      ...     ...    ...       ...           ...  \n",
       "7317154      4020     슈퍼마켓    1958      M         1         30000  \n",
       "7317155      8013       주점    1998      M         1         59600  \n",
       "7317156      8399   기타음료식품    1998      F         1          7500  \n",
       "7317157      4010    편 의 점    1971      F         2          7600  \n",
       "7317158      4010    편 의 점    2001      M         1          2200  \n",
       "\n",
       "[27135160 rows x 12 columns]"
      ]
     },
     "execution_count": 52,
     "metadata": {},
     "output_type": "execute_result"
    }
   ],
   "source": [
    "df"
   ]
  },
  {
   "cell_type": "code",
   "execution_count": 48,
   "id": "677ae66b",
   "metadata": {},
   "outputs": [],
   "source": [
    "df=df.astype({'strd_date' : str})"
   ]
  },
  {
   "cell_type": "code",
   "execution_count": 50,
   "id": "8496e0d4",
   "metadata": {},
   "outputs": [],
   "source": [
    "df['strd_date']=pd.to_datetime(df['strd_date'])"
   ]
  },
  {
   "cell_type": "code",
   "execution_count": 51,
   "id": "be5f5289",
   "metadata": {},
   "outputs": [],
   "source": [
    "df=df.drop(['ctpr_nm'], axis=1)"
   ]
  },
  {
   "cell_type": "code",
   "execution_count": 54,
   "id": "ef364c5f",
   "metadata": {},
   "outputs": [
    {
     "ename": "NameError",
     "evalue": "name 'count' is not defined",
     "output_type": "error",
     "traceback": [
      "\u001b[1;31m---------------------------------------------------------------------------\u001b[0m",
      "\u001b[1;31mNameError\u001b[0m                                 Traceback (most recent call last)",
      "\u001b[1;32m~\\AppData\\Local\\Temp\\ipykernel_3356\\3790104662.py\u001b[0m in \u001b[0;36m<module>\u001b[1;34m\u001b[0m\n\u001b[1;32m----> 1\u001b[1;33m \u001b[0mcount\u001b[0m\u001b[1;33m(\u001b[0m\u001b[0mdf\u001b[0m\u001b[1;33m[\u001b[0m\u001b[1;34m'adn_dgnm'\u001b[0m\u001b[1;33m]\u001b[0m\u001b[1;33m)\u001b[0m\u001b[1;33m\u001b[0m\u001b[1;33m\u001b[0m\u001b[0m\n\u001b[0m",
      "\u001b[1;31mNameError\u001b[0m: name 'count' is not defined"
     ]
    }
   ],
   "source": [
    "df[df['adn_dgnm'])]"
   ]
  },
  {
   "cell_type": "code",
   "execution_count": 38,
   "id": "803a588d",
   "metadata": {
    "scrolled": true
   },
   "outputs": [
    {
     "name": "stdout",
     "output_type": "stream",
     "text": [
      "<class 'pandas.core.frame.DataFrame'>\n",
      "Int64Index: 27135160 entries, 0 to 7317158\n",
      "Data columns (total 13 columns):\n",
      " #   Column         Dtype         \n",
      "---  ------         -----         \n",
      " 0   strd_date      datetime64[ns]\n",
      " 1   strd_tizn_val  int64         \n",
      " 2   ctpr_nm        object        \n",
      " 3   ccg_nm         object        \n",
      " 4   adn_dgnm       object        \n",
      " 5   adng_no        int64         \n",
      " 6   cardc_nm       object        \n",
      " 7   tpbuz_cd       int64         \n",
      " 8   tpbuz_nm       object        \n",
      " 9   bth_yr         int64         \n",
      " 10  sex_cd         object        \n",
      " 11  trns_cnt       int64         \n",
      " 12  ttl_trns_amt   int64         \n",
      "dtypes: datetime64[ns](1), int64(6), object(6)\n",
      "memory usage: 2.8+ GB\n"
     ]
    }
   ],
   "source": [
    "df.info()"
   ]
  },
  {
   "cell_type": "code",
   "execution_count": null,
   "id": "3774a983",
   "metadata": {},
   "outputs": [],
   "source": []
  }
 ],
 "metadata": {
  "kernelspec": {
   "display_name": "Python 3 (ipykernel)",
   "language": "python",
   "name": "python3"
  },
  "language_info": {
   "codemirror_mode": {
    "name": "ipython",
    "version": 3
   },
   "file_extension": ".py",
   "mimetype": "text/x-python",
   "name": "python",
   "nbconvert_exporter": "python",
   "pygments_lexer": "ipython3",
   "version": "3.9.16"
  }
 },
 "nbformat": 4,
 "nbformat_minor": 5
}
