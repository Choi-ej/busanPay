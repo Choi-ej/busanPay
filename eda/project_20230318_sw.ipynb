{
 "cells": [
  {
   "cell_type": "code",
   "execution_count": 1,
   "id": "ccfbc869",
   "metadata": {},
   "outputs": [],
   "source": [
    "import pandas as pd\n",
    "import numpy as np\n",
    "from pandas import Series, DataFrame\n",
    "import matplotlib.pyplot as plt\n",
    "import seaborn as sns"
   ]
  },
  {
   "cell_type": "code",
   "execution_count": 2,
   "id": "434268c6",
   "metadata": {},
   "outputs": [],
   "source": [
    "a6=pd.read_csv(\"2022.06_행정동 단위 업종별 지역화폐 거래 데이터.csv\", encoding='cp949')\n",
    "a7=pd.read_csv(\"2022.07_행정동 단위 업종별 지역화폐 거래 데이터.csv\", encoding='cp949')\n",
    "a8=pd.read_csv(\"2022.08_행정동 단위 업종별 지역화폐 거래 데이터.csv\", encoding='cp949')"
   ]
  },
  {
   "cell_type": "code",
   "execution_count": 3,
   "id": "c96f1163",
   "metadata": {},
   "outputs": [
    {
     "name": "stdout",
     "output_type": "stream",
     "text": [
      "<class 'pandas.core.frame.DataFrame'>\n",
      "RangeIndex: 10061735 entries, 0 to 10061734\n",
      "Data columns (total 13 columns):\n",
      " #   Column         Dtype \n",
      "---  ------         ----- \n",
      " 0   strd_date      int64 \n",
      " 1   strd_tizn_val  int64 \n",
      " 2   ctpr_nm        object\n",
      " 3   ccg_nm         object\n",
      " 4   adn_dgnm       object\n",
      " 5   adng_no        int64 \n",
      " 6   cardc_nm       object\n",
      " 7   tpbuz_cd       int64 \n",
      " 8   tpbuz_nm       object\n",
      " 9   bth_yr         int64 \n",
      " 10  sex_cd         object\n",
      " 11  trns_cnt       int64 \n",
      " 12  ttl_trns_amt   int64 \n",
      "dtypes: int64(7), object(6)\n",
      "memory usage: 997.9+ MB\n"
     ]
    }
   ],
   "source": [
    "a6.info()"
   ]
  },
  {
   "cell_type": "code",
   "execution_count": 4,
   "id": "63db6655",
   "metadata": {},
   "outputs": [
    {
     "name": "stdout",
     "output_type": "stream",
     "text": [
      "<class 'pandas.core.frame.DataFrame'>\n",
      "RangeIndex: 9756266 entries, 0 to 9756265\n",
      "Data columns (total 13 columns):\n",
      " #   Column         Dtype \n",
      "---  ------         ----- \n",
      " 0   strd_date      int64 \n",
      " 1   strd_tizn_val  int64 \n",
      " 2   ctpr_nm        object\n",
      " 3   ccg_nm         object\n",
      " 4   adn_dgnm       object\n",
      " 5   adng_no        int64 \n",
      " 6   cardc_nm       object\n",
      " 7   tpbuz_cd       int64 \n",
      " 8   tpbuz_nm       object\n",
      " 9   bth_yr         int64 \n",
      " 10  sex_cd         object\n",
      " 11  trns_cnt       int64 \n",
      " 12  ttl_trns_amt   int64 \n",
      "dtypes: int64(7), object(6)\n",
      "memory usage: 967.6+ MB\n"
     ]
    }
   ],
   "source": [
    "a7.info()"
   ]
  },
  {
   "cell_type": "code",
   "execution_count": 5,
   "id": "86d3b6ca",
   "metadata": {},
   "outputs": [
    {
     "name": "stdout",
     "output_type": "stream",
     "text": [
      "<class 'pandas.core.frame.DataFrame'>\n",
      "RangeIndex: 7317159 entries, 0 to 7317158\n",
      "Data columns (total 13 columns):\n",
      " #   Column         Dtype \n",
      "---  ------         ----- \n",
      " 0   strd_date      int64 \n",
      " 1   strd_tizn_val  int64 \n",
      " 2   ctpr_nm        object\n",
      " 3   ccg_nm         object\n",
      " 4   adn_dgnm       object\n",
      " 5   adng_no        int64 \n",
      " 6   cardc_nm       object\n",
      " 7   tpbuz_cd       int64 \n",
      " 8   tpbuz_nm       object\n",
      " 9   bth_yr         int64 \n",
      " 10  sex_cd         object\n",
      " 11  trns_cnt       int64 \n",
      " 12  ttl_trns_amt   int64 \n",
      "dtypes: int64(7), object(6)\n",
      "memory usage: 725.7+ MB\n"
     ]
    }
   ],
   "source": [
    "a8.info()"
   ]
  },
  {
   "cell_type": "code",
   "execution_count": 6,
   "id": "db0efbd8",
   "metadata": {},
   "outputs": [
    {
     "data": {
      "text/plain": [
       "strd_date        0\n",
       "strd_tizn_val    0\n",
       "ctpr_nm          0\n",
       "ccg_nm           0\n",
       "adn_dgnm         0\n",
       "adng_no          0\n",
       "cardc_nm         0\n",
       "tpbuz_cd         0\n",
       "tpbuz_nm         0\n",
       "bth_yr           0\n",
       "sex_cd           0\n",
       "trns_cnt         0\n",
       "ttl_trns_amt     0\n",
       "dtype: int64"
      ]
     },
     "execution_count": 6,
     "metadata": {},
     "output_type": "execute_result"
    }
   ],
   "source": [
    "a6.isnull().sum()"
   ]
  },
  {
   "cell_type": "code",
   "execution_count": 7,
   "id": "647b7f82",
   "metadata": {},
   "outputs": [
    {
     "data": {
      "text/plain": [
       "strd_date        0\n",
       "strd_tizn_val    0\n",
       "ctpr_nm          0\n",
       "ccg_nm           0\n",
       "adn_dgnm         0\n",
       "adng_no          0\n",
       "cardc_nm         0\n",
       "tpbuz_cd         0\n",
       "tpbuz_nm         0\n",
       "bth_yr           0\n",
       "sex_cd           0\n",
       "trns_cnt         0\n",
       "ttl_trns_amt     0\n",
       "dtype: int64"
      ]
     },
     "execution_count": 7,
     "metadata": {},
     "output_type": "execute_result"
    }
   ],
   "source": [
    "a7.isnull().sum()"
   ]
  },
  {
   "cell_type": "code",
   "execution_count": 8,
   "id": "27648906",
   "metadata": {},
   "outputs": [
    {
     "data": {
      "text/plain": [
       "strd_date        0\n",
       "strd_tizn_val    0\n",
       "ctpr_nm          0\n",
       "ccg_nm           0\n",
       "adn_dgnm         0\n",
       "adng_no          0\n",
       "cardc_nm         0\n",
       "tpbuz_cd         0\n",
       "tpbuz_nm         0\n",
       "bth_yr           0\n",
       "sex_cd           0\n",
       "trns_cnt         0\n",
       "ttl_trns_amt     0\n",
       "dtype: int64"
      ]
     },
     "execution_count": 8,
     "metadata": {},
     "output_type": "execute_result"
    }
   ],
   "source": [
    "a8.isnull().sum()"
   ]
  },
  {
   "cell_type": "code",
   "execution_count": 9,
   "id": "c345866a",
   "metadata": {},
   "outputs": [],
   "source": [
    "df=pd.concat([a6,a7,a8], axis=0)"
   ]
  },
  {
   "cell_type": "code",
   "execution_count": 10,
   "id": "0d86047c",
   "metadata": {
    "scrolled": false
   },
   "outputs": [
    {
     "data": {
      "text/html": [
       "<div>\n",
       "<style scoped>\n",
       "    .dataframe tbody tr th:only-of-type {\n",
       "        vertical-align: middle;\n",
       "    }\n",
       "\n",
       "    .dataframe tbody tr th {\n",
       "        vertical-align: top;\n",
       "    }\n",
       "\n",
       "    .dataframe thead th {\n",
       "        text-align: right;\n",
       "    }\n",
       "</style>\n",
       "<table border=\"1\" class=\"dataframe\">\n",
       "  <thead>\n",
       "    <tr style=\"text-align: right;\">\n",
       "      <th></th>\n",
       "      <th>strd_date</th>\n",
       "      <th>strd_tizn_val</th>\n",
       "      <th>ctpr_nm</th>\n",
       "      <th>ccg_nm</th>\n",
       "      <th>adn_dgnm</th>\n",
       "      <th>adng_no</th>\n",
       "      <th>cardc_nm</th>\n",
       "      <th>tpbuz_cd</th>\n",
       "      <th>tpbuz_nm</th>\n",
       "      <th>bth_yr</th>\n",
       "      <th>sex_cd</th>\n",
       "      <th>trns_cnt</th>\n",
       "      <th>ttl_trns_amt</th>\n",
       "    </tr>\n",
       "  </thead>\n",
       "  <tbody>\n",
       "    <tr>\n",
       "      <th>0</th>\n",
       "      <td>20220601</td>\n",
       "      <td>0</td>\n",
       "      <td>부산광역시</td>\n",
       "      <td>중구</td>\n",
       "      <td>대청동</td>\n",
       "      <td>21010530</td>\n",
       "      <td>코나</td>\n",
       "      <td>4010</td>\n",
       "      <td>편 의 점</td>\n",
       "      <td>1973</td>\n",
       "      <td>M</td>\n",
       "      <td>1</td>\n",
       "      <td>7350</td>\n",
       "    </tr>\n",
       "    <tr>\n",
       "      <th>1</th>\n",
       "      <td>20220601</td>\n",
       "      <td>0</td>\n",
       "      <td>부산광역시</td>\n",
       "      <td>중구</td>\n",
       "      <td>중앙동</td>\n",
       "      <td>21010510</td>\n",
       "      <td>부산</td>\n",
       "      <td>4010</td>\n",
       "      <td>편 의 점</td>\n",
       "      <td>1981</td>\n",
       "      <td>F</td>\n",
       "      <td>1</td>\n",
       "      <td>3700</td>\n",
       "    </tr>\n",
       "    <tr>\n",
       "      <th>2</th>\n",
       "      <td>20220601</td>\n",
       "      <td>0</td>\n",
       "      <td>부산광역시</td>\n",
       "      <td>중구</td>\n",
       "      <td>중앙동</td>\n",
       "      <td>21010510</td>\n",
       "      <td>부산</td>\n",
       "      <td>4010</td>\n",
       "      <td>편 의 점</td>\n",
       "      <td>1992</td>\n",
       "      <td>M</td>\n",
       "      <td>1</td>\n",
       "      <td>7500</td>\n",
       "    </tr>\n",
       "    <tr>\n",
       "      <th>3</th>\n",
       "      <td>20220601</td>\n",
       "      <td>0</td>\n",
       "      <td>부산광역시</td>\n",
       "      <td>중구</td>\n",
       "      <td>중앙동</td>\n",
       "      <td>21010510</td>\n",
       "      <td>부산</td>\n",
       "      <td>4010</td>\n",
       "      <td>편 의 점</td>\n",
       "      <td>1995</td>\n",
       "      <td>M</td>\n",
       "      <td>1</td>\n",
       "      <td>2700</td>\n",
       "    </tr>\n",
       "    <tr>\n",
       "      <th>4</th>\n",
       "      <td>20220601</td>\n",
       "      <td>0</td>\n",
       "      <td>부산광역시</td>\n",
       "      <td>중구</td>\n",
       "      <td>중앙동</td>\n",
       "      <td>21010510</td>\n",
       "      <td>코나</td>\n",
       "      <td>4010</td>\n",
       "      <td>편 의 점</td>\n",
       "      <td>1976</td>\n",
       "      <td>M</td>\n",
       "      <td>1</td>\n",
       "      <td>13900</td>\n",
       "    </tr>\n",
       "    <tr>\n",
       "      <th>...</th>\n",
       "      <td>...</td>\n",
       "      <td>...</td>\n",
       "      <td>...</td>\n",
       "      <td>...</td>\n",
       "      <td>...</td>\n",
       "      <td>...</td>\n",
       "      <td>...</td>\n",
       "      <td>...</td>\n",
       "      <td>...</td>\n",
       "      <td>...</td>\n",
       "      <td>...</td>\n",
       "      <td>...</td>\n",
       "      <td>...</td>\n",
       "    </tr>\n",
       "    <tr>\n",
       "      <th>7317154</th>\n",
       "      <td>20220801</td>\n",
       "      <td>0</td>\n",
       "      <td>부산광역시</td>\n",
       "      <td>영도구</td>\n",
       "      <td>동삼1동</td>\n",
       "      <td>21040650</td>\n",
       "      <td>코나</td>\n",
       "      <td>4020</td>\n",
       "      <td>슈퍼마켓</td>\n",
       "      <td>1958</td>\n",
       "      <td>M</td>\n",
       "      <td>1</td>\n",
       "      <td>30000</td>\n",
       "    </tr>\n",
       "    <tr>\n",
       "      <th>7317155</th>\n",
       "      <td>20220801</td>\n",
       "      <td>0</td>\n",
       "      <td>부산광역시</td>\n",
       "      <td>영도구</td>\n",
       "      <td>동삼1동</td>\n",
       "      <td>21040650</td>\n",
       "      <td>코나</td>\n",
       "      <td>8013</td>\n",
       "      <td>주점</td>\n",
       "      <td>1998</td>\n",
       "      <td>M</td>\n",
       "      <td>1</td>\n",
       "      <td>59600</td>\n",
       "    </tr>\n",
       "    <tr>\n",
       "      <th>7317156</th>\n",
       "      <td>20220801</td>\n",
       "      <td>0</td>\n",
       "      <td>부산광역시</td>\n",
       "      <td>영도구</td>\n",
       "      <td>동삼1동</td>\n",
       "      <td>21040650</td>\n",
       "      <td>코나</td>\n",
       "      <td>8399</td>\n",
       "      <td>기타음료식품</td>\n",
       "      <td>1998</td>\n",
       "      <td>F</td>\n",
       "      <td>1</td>\n",
       "      <td>7500</td>\n",
       "    </tr>\n",
       "    <tr>\n",
       "      <th>7317157</th>\n",
       "      <td>20220801</td>\n",
       "      <td>0</td>\n",
       "      <td>부산광역시</td>\n",
       "      <td>영도구</td>\n",
       "      <td>동삼1동</td>\n",
       "      <td>21040650</td>\n",
       "      <td>하나</td>\n",
       "      <td>4010</td>\n",
       "      <td>편 의 점</td>\n",
       "      <td>1971</td>\n",
       "      <td>F</td>\n",
       "      <td>2</td>\n",
       "      <td>7600</td>\n",
       "    </tr>\n",
       "    <tr>\n",
       "      <th>7317158</th>\n",
       "      <td>20220801</td>\n",
       "      <td>0</td>\n",
       "      <td>부산광역시</td>\n",
       "      <td>영도구</td>\n",
       "      <td>동삼1동</td>\n",
       "      <td>21040650</td>\n",
       "      <td>하나</td>\n",
       "      <td>4010</td>\n",
       "      <td>편 의 점</td>\n",
       "      <td>2001</td>\n",
       "      <td>M</td>\n",
       "      <td>1</td>\n",
       "      <td>2200</td>\n",
       "    </tr>\n",
       "  </tbody>\n",
       "</table>\n",
       "<p>27135160 rows × 13 columns</p>\n",
       "</div>"
      ],
      "text/plain": [
       "         strd_date  strd_tizn_val ctpr_nm ccg_nm adn_dgnm   adng_no cardc_nm  \\\n",
       "0         20220601              0   부산광역시     중구      대청동  21010530       코나   \n",
       "1         20220601              0   부산광역시     중구      중앙동  21010510       부산   \n",
       "2         20220601              0   부산광역시     중구      중앙동  21010510       부산   \n",
       "3         20220601              0   부산광역시     중구      중앙동  21010510       부산   \n",
       "4         20220601              0   부산광역시     중구      중앙동  21010510       코나   \n",
       "...            ...            ...     ...    ...      ...       ...      ...   \n",
       "7317154   20220801              0   부산광역시    영도구     동삼1동  21040650       코나   \n",
       "7317155   20220801              0   부산광역시    영도구     동삼1동  21040650       코나   \n",
       "7317156   20220801              0   부산광역시    영도구     동삼1동  21040650       코나   \n",
       "7317157   20220801              0   부산광역시    영도구     동삼1동  21040650       하나   \n",
       "7317158   20220801              0   부산광역시    영도구     동삼1동  21040650       하나   \n",
       "\n",
       "         tpbuz_cd tpbuz_nm  bth_yr sex_cd  trns_cnt  ttl_trns_amt  \n",
       "0            4010    편 의 점    1973      M         1          7350  \n",
       "1            4010    편 의 점    1981      F         1          3700  \n",
       "2            4010    편 의 점    1992      M         1          7500  \n",
       "3            4010    편 의 점    1995      M         1          2700  \n",
       "4            4010    편 의 점    1976      M         1         13900  \n",
       "...           ...      ...     ...    ...       ...           ...  \n",
       "7317154      4020     슈퍼마켓    1958      M         1         30000  \n",
       "7317155      8013       주점    1998      M         1         59600  \n",
       "7317156      8399   기타음료식품    1998      F         1          7500  \n",
       "7317157      4010    편 의 점    1971      F         2          7600  \n",
       "7317158      4010    편 의 점    2001      M         1          2200  \n",
       "\n",
       "[27135160 rows x 13 columns]"
      ]
     },
     "execution_count": 10,
     "metadata": {},
     "output_type": "execute_result"
    }
   ],
   "source": [
    "df"
   ]
  },
  {
   "cell_type": "code",
   "execution_count": 11,
   "id": "954ae009",
   "metadata": {},
   "outputs": [],
   "source": [
    "df=df.astype({'strd_date' : str})"
   ]
  },
  {
   "cell_type": "code",
   "execution_count": 12,
   "id": "99586892",
   "metadata": {},
   "outputs": [],
   "source": [
    "df['strd_date']=pd.to_datetime(df['strd_date'])"
   ]
  },
  {
   "cell_type": "code",
   "execution_count": 13,
   "id": "8819ec9d",
   "metadata": {},
   "outputs": [],
   "source": [
    "df=df.drop(['ctpr_nm'], axis=1)"
   ]
  },
  {
   "cell_type": "code",
   "execution_count": 14,
   "id": "d51ca6ca",
   "metadata": {},
   "outputs": [
    {
     "data": {
      "text/html": [
       "<div>\n",
       "<style scoped>\n",
       "    .dataframe tbody tr th:only-of-type {\n",
       "        vertical-align: middle;\n",
       "    }\n",
       "\n",
       "    .dataframe tbody tr th {\n",
       "        vertical-align: top;\n",
       "    }\n",
       "\n",
       "    .dataframe thead th {\n",
       "        text-align: right;\n",
       "    }\n",
       "</style>\n",
       "<table border=\"1\" class=\"dataframe\">\n",
       "  <thead>\n",
       "    <tr style=\"text-align: right;\">\n",
       "      <th></th>\n",
       "      <th>strd_date</th>\n",
       "      <th>strd_tizn_val</th>\n",
       "      <th>ccg_nm</th>\n",
       "      <th>adn_dgnm</th>\n",
       "      <th>adng_no</th>\n",
       "      <th>cardc_nm</th>\n",
       "      <th>tpbuz_cd</th>\n",
       "      <th>tpbuz_nm</th>\n",
       "      <th>bth_yr</th>\n",
       "      <th>sex_cd</th>\n",
       "      <th>trns_cnt</th>\n",
       "      <th>ttl_trns_amt</th>\n",
       "    </tr>\n",
       "  </thead>\n",
       "  <tbody>\n",
       "    <tr>\n",
       "      <th>0</th>\n",
       "      <td>2022-06-01</td>\n",
       "      <td>0</td>\n",
       "      <td>중구</td>\n",
       "      <td>대청동</td>\n",
       "      <td>21010530</td>\n",
       "      <td>코나</td>\n",
       "      <td>4010</td>\n",
       "      <td>편 의 점</td>\n",
       "      <td>1973</td>\n",
       "      <td>M</td>\n",
       "      <td>1</td>\n",
       "      <td>7350</td>\n",
       "    </tr>\n",
       "    <tr>\n",
       "      <th>1</th>\n",
       "      <td>2022-06-01</td>\n",
       "      <td>0</td>\n",
       "      <td>중구</td>\n",
       "      <td>중앙동</td>\n",
       "      <td>21010510</td>\n",
       "      <td>부산</td>\n",
       "      <td>4010</td>\n",
       "      <td>편 의 점</td>\n",
       "      <td>1981</td>\n",
       "      <td>F</td>\n",
       "      <td>1</td>\n",
       "      <td>3700</td>\n",
       "    </tr>\n",
       "    <tr>\n",
       "      <th>2</th>\n",
       "      <td>2022-06-01</td>\n",
       "      <td>0</td>\n",
       "      <td>중구</td>\n",
       "      <td>중앙동</td>\n",
       "      <td>21010510</td>\n",
       "      <td>부산</td>\n",
       "      <td>4010</td>\n",
       "      <td>편 의 점</td>\n",
       "      <td>1992</td>\n",
       "      <td>M</td>\n",
       "      <td>1</td>\n",
       "      <td>7500</td>\n",
       "    </tr>\n",
       "    <tr>\n",
       "      <th>3</th>\n",
       "      <td>2022-06-01</td>\n",
       "      <td>0</td>\n",
       "      <td>중구</td>\n",
       "      <td>중앙동</td>\n",
       "      <td>21010510</td>\n",
       "      <td>부산</td>\n",
       "      <td>4010</td>\n",
       "      <td>편 의 점</td>\n",
       "      <td>1995</td>\n",
       "      <td>M</td>\n",
       "      <td>1</td>\n",
       "      <td>2700</td>\n",
       "    </tr>\n",
       "    <tr>\n",
       "      <th>4</th>\n",
       "      <td>2022-06-01</td>\n",
       "      <td>0</td>\n",
       "      <td>중구</td>\n",
       "      <td>중앙동</td>\n",
       "      <td>21010510</td>\n",
       "      <td>코나</td>\n",
       "      <td>4010</td>\n",
       "      <td>편 의 점</td>\n",
       "      <td>1976</td>\n",
       "      <td>M</td>\n",
       "      <td>1</td>\n",
       "      <td>13900</td>\n",
       "    </tr>\n",
       "    <tr>\n",
       "      <th>...</th>\n",
       "      <td>...</td>\n",
       "      <td>...</td>\n",
       "      <td>...</td>\n",
       "      <td>...</td>\n",
       "      <td>...</td>\n",
       "      <td>...</td>\n",
       "      <td>...</td>\n",
       "      <td>...</td>\n",
       "      <td>...</td>\n",
       "      <td>...</td>\n",
       "      <td>...</td>\n",
       "      <td>...</td>\n",
       "    </tr>\n",
       "    <tr>\n",
       "      <th>7317154</th>\n",
       "      <td>2022-08-01</td>\n",
       "      <td>0</td>\n",
       "      <td>영도구</td>\n",
       "      <td>동삼1동</td>\n",
       "      <td>21040650</td>\n",
       "      <td>코나</td>\n",
       "      <td>4020</td>\n",
       "      <td>슈퍼마켓</td>\n",
       "      <td>1958</td>\n",
       "      <td>M</td>\n",
       "      <td>1</td>\n",
       "      <td>30000</td>\n",
       "    </tr>\n",
       "    <tr>\n",
       "      <th>7317155</th>\n",
       "      <td>2022-08-01</td>\n",
       "      <td>0</td>\n",
       "      <td>영도구</td>\n",
       "      <td>동삼1동</td>\n",
       "      <td>21040650</td>\n",
       "      <td>코나</td>\n",
       "      <td>8013</td>\n",
       "      <td>주점</td>\n",
       "      <td>1998</td>\n",
       "      <td>M</td>\n",
       "      <td>1</td>\n",
       "      <td>59600</td>\n",
       "    </tr>\n",
       "    <tr>\n",
       "      <th>7317156</th>\n",
       "      <td>2022-08-01</td>\n",
       "      <td>0</td>\n",
       "      <td>영도구</td>\n",
       "      <td>동삼1동</td>\n",
       "      <td>21040650</td>\n",
       "      <td>코나</td>\n",
       "      <td>8399</td>\n",
       "      <td>기타음료식품</td>\n",
       "      <td>1998</td>\n",
       "      <td>F</td>\n",
       "      <td>1</td>\n",
       "      <td>7500</td>\n",
       "    </tr>\n",
       "    <tr>\n",
       "      <th>7317157</th>\n",
       "      <td>2022-08-01</td>\n",
       "      <td>0</td>\n",
       "      <td>영도구</td>\n",
       "      <td>동삼1동</td>\n",
       "      <td>21040650</td>\n",
       "      <td>하나</td>\n",
       "      <td>4010</td>\n",
       "      <td>편 의 점</td>\n",
       "      <td>1971</td>\n",
       "      <td>F</td>\n",
       "      <td>2</td>\n",
       "      <td>7600</td>\n",
       "    </tr>\n",
       "    <tr>\n",
       "      <th>7317158</th>\n",
       "      <td>2022-08-01</td>\n",
       "      <td>0</td>\n",
       "      <td>영도구</td>\n",
       "      <td>동삼1동</td>\n",
       "      <td>21040650</td>\n",
       "      <td>하나</td>\n",
       "      <td>4010</td>\n",
       "      <td>편 의 점</td>\n",
       "      <td>2001</td>\n",
       "      <td>M</td>\n",
       "      <td>1</td>\n",
       "      <td>2200</td>\n",
       "    </tr>\n",
       "  </tbody>\n",
       "</table>\n",
       "<p>27135160 rows × 12 columns</p>\n",
       "</div>"
      ],
      "text/plain": [
       "         strd_date  strd_tizn_val ccg_nm adn_dgnm   adng_no cardc_nm  \\\n",
       "0       2022-06-01              0     중구      대청동  21010530       코나   \n",
       "1       2022-06-01              0     중구      중앙동  21010510       부산   \n",
       "2       2022-06-01              0     중구      중앙동  21010510       부산   \n",
       "3       2022-06-01              0     중구      중앙동  21010510       부산   \n",
       "4       2022-06-01              0     중구      중앙동  21010510       코나   \n",
       "...            ...            ...    ...      ...       ...      ...   \n",
       "7317154 2022-08-01              0    영도구     동삼1동  21040650       코나   \n",
       "7317155 2022-08-01              0    영도구     동삼1동  21040650       코나   \n",
       "7317156 2022-08-01              0    영도구     동삼1동  21040650       코나   \n",
       "7317157 2022-08-01              0    영도구     동삼1동  21040650       하나   \n",
       "7317158 2022-08-01              0    영도구     동삼1동  21040650       하나   \n",
       "\n",
       "         tpbuz_cd tpbuz_nm  bth_yr sex_cd  trns_cnt  ttl_trns_amt  \n",
       "0            4010    편 의 점    1973      M         1          7350  \n",
       "1            4010    편 의 점    1981      F         1          3700  \n",
       "2            4010    편 의 점    1992      M         1          7500  \n",
       "3            4010    편 의 점    1995      M         1          2700  \n",
       "4            4010    편 의 점    1976      M         1         13900  \n",
       "...           ...      ...     ...    ...       ...           ...  \n",
       "7317154      4020     슈퍼마켓    1958      M         1         30000  \n",
       "7317155      8013       주점    1998      M         1         59600  \n",
       "7317156      8399   기타음료식품    1998      F         1          7500  \n",
       "7317157      4010    편 의 점    1971      F         2          7600  \n",
       "7317158      4010    편 의 점    2001      M         1          2200  \n",
       "\n",
       "[27135160 rows x 12 columns]"
      ]
     },
     "execution_count": 14,
     "metadata": {},
     "output_type": "execute_result"
    }
   ],
   "source": [
    "df"
   ]
  },
  {
   "cell_type": "code",
   "execution_count": 15,
   "id": "fccd8215",
   "metadata": {},
   "outputs": [],
   "source": [
    "from datetime import datetime"
   ]
  },
  {
   "cell_type": "code",
   "execution_count": 16,
   "id": "828ba994",
   "metadata": {},
   "outputs": [
    {
     "data": {
      "text/plain": [
       "0         2022-06-01\n",
       "1         2022-06-01\n",
       "2         2022-06-01\n",
       "3         2022-06-01\n",
       "4         2022-06-01\n",
       "             ...    \n",
       "7317154   2022-08-01\n",
       "7317155   2022-08-01\n",
       "7317156   2022-08-01\n",
       "7317157   2022-08-01\n",
       "7317158   2022-08-01\n",
       "Name: strd_date, Length: 27135160, dtype: datetime64[ns]"
      ]
     },
     "execution_count": 16,
     "metadata": {},
     "output_type": "execute_result"
    }
   ],
   "source": [
    "df['strd_date']"
   ]
  },
  {
   "cell_type": "code",
   "execution_count": 17,
   "id": "97469de3",
   "metadata": {},
   "outputs": [],
   "source": [
    "df['day_name']=df['strd_date'].dt.day_name()"
   ]
  },
  {
   "cell_type": "code",
   "execution_count": 18,
   "id": "79c75d79",
   "metadata": {},
   "outputs": [
    {
     "data": {
      "text/html": [
       "<div>\n",
       "<style scoped>\n",
       "    .dataframe tbody tr th:only-of-type {\n",
       "        vertical-align: middle;\n",
       "    }\n",
       "\n",
       "    .dataframe tbody tr th {\n",
       "        vertical-align: top;\n",
       "    }\n",
       "\n",
       "    .dataframe thead th {\n",
       "        text-align: right;\n",
       "    }\n",
       "</style>\n",
       "<table border=\"1\" class=\"dataframe\">\n",
       "  <thead>\n",
       "    <tr style=\"text-align: right;\">\n",
       "      <th></th>\n",
       "      <th>strd_date</th>\n",
       "      <th>strd_tizn_val</th>\n",
       "      <th>ccg_nm</th>\n",
       "      <th>adn_dgnm</th>\n",
       "      <th>adng_no</th>\n",
       "      <th>cardc_nm</th>\n",
       "      <th>tpbuz_cd</th>\n",
       "      <th>tpbuz_nm</th>\n",
       "      <th>bth_yr</th>\n",
       "      <th>sex_cd</th>\n",
       "      <th>trns_cnt</th>\n",
       "      <th>ttl_trns_amt</th>\n",
       "      <th>day_name</th>\n",
       "    </tr>\n",
       "  </thead>\n",
       "  <tbody>\n",
       "    <tr>\n",
       "      <th>0</th>\n",
       "      <td>2022-06-01</td>\n",
       "      <td>0</td>\n",
       "      <td>중구</td>\n",
       "      <td>대청동</td>\n",
       "      <td>21010530</td>\n",
       "      <td>코나</td>\n",
       "      <td>4010</td>\n",
       "      <td>편 의 점</td>\n",
       "      <td>1973</td>\n",
       "      <td>M</td>\n",
       "      <td>1</td>\n",
       "      <td>7350</td>\n",
       "      <td>Wednesday</td>\n",
       "    </tr>\n",
       "    <tr>\n",
       "      <th>1</th>\n",
       "      <td>2022-06-01</td>\n",
       "      <td>0</td>\n",
       "      <td>중구</td>\n",
       "      <td>중앙동</td>\n",
       "      <td>21010510</td>\n",
       "      <td>부산</td>\n",
       "      <td>4010</td>\n",
       "      <td>편 의 점</td>\n",
       "      <td>1981</td>\n",
       "      <td>F</td>\n",
       "      <td>1</td>\n",
       "      <td>3700</td>\n",
       "      <td>Wednesday</td>\n",
       "    </tr>\n",
       "    <tr>\n",
       "      <th>2</th>\n",
       "      <td>2022-06-01</td>\n",
       "      <td>0</td>\n",
       "      <td>중구</td>\n",
       "      <td>중앙동</td>\n",
       "      <td>21010510</td>\n",
       "      <td>부산</td>\n",
       "      <td>4010</td>\n",
       "      <td>편 의 점</td>\n",
       "      <td>1992</td>\n",
       "      <td>M</td>\n",
       "      <td>1</td>\n",
       "      <td>7500</td>\n",
       "      <td>Wednesday</td>\n",
       "    </tr>\n",
       "    <tr>\n",
       "      <th>3</th>\n",
       "      <td>2022-06-01</td>\n",
       "      <td>0</td>\n",
       "      <td>중구</td>\n",
       "      <td>중앙동</td>\n",
       "      <td>21010510</td>\n",
       "      <td>부산</td>\n",
       "      <td>4010</td>\n",
       "      <td>편 의 점</td>\n",
       "      <td>1995</td>\n",
       "      <td>M</td>\n",
       "      <td>1</td>\n",
       "      <td>2700</td>\n",
       "      <td>Wednesday</td>\n",
       "    </tr>\n",
       "    <tr>\n",
       "      <th>4</th>\n",
       "      <td>2022-06-01</td>\n",
       "      <td>0</td>\n",
       "      <td>중구</td>\n",
       "      <td>중앙동</td>\n",
       "      <td>21010510</td>\n",
       "      <td>코나</td>\n",
       "      <td>4010</td>\n",
       "      <td>편 의 점</td>\n",
       "      <td>1976</td>\n",
       "      <td>M</td>\n",
       "      <td>1</td>\n",
       "      <td>13900</td>\n",
       "      <td>Wednesday</td>\n",
       "    </tr>\n",
       "    <tr>\n",
       "      <th>...</th>\n",
       "      <td>...</td>\n",
       "      <td>...</td>\n",
       "      <td>...</td>\n",
       "      <td>...</td>\n",
       "      <td>...</td>\n",
       "      <td>...</td>\n",
       "      <td>...</td>\n",
       "      <td>...</td>\n",
       "      <td>...</td>\n",
       "      <td>...</td>\n",
       "      <td>...</td>\n",
       "      <td>...</td>\n",
       "      <td>...</td>\n",
       "    </tr>\n",
       "    <tr>\n",
       "      <th>7317154</th>\n",
       "      <td>2022-08-01</td>\n",
       "      <td>0</td>\n",
       "      <td>영도구</td>\n",
       "      <td>동삼1동</td>\n",
       "      <td>21040650</td>\n",
       "      <td>코나</td>\n",
       "      <td>4020</td>\n",
       "      <td>슈퍼마켓</td>\n",
       "      <td>1958</td>\n",
       "      <td>M</td>\n",
       "      <td>1</td>\n",
       "      <td>30000</td>\n",
       "      <td>Monday</td>\n",
       "    </tr>\n",
       "    <tr>\n",
       "      <th>7317155</th>\n",
       "      <td>2022-08-01</td>\n",
       "      <td>0</td>\n",
       "      <td>영도구</td>\n",
       "      <td>동삼1동</td>\n",
       "      <td>21040650</td>\n",
       "      <td>코나</td>\n",
       "      <td>8013</td>\n",
       "      <td>주점</td>\n",
       "      <td>1998</td>\n",
       "      <td>M</td>\n",
       "      <td>1</td>\n",
       "      <td>59600</td>\n",
       "      <td>Monday</td>\n",
       "    </tr>\n",
       "    <tr>\n",
       "      <th>7317156</th>\n",
       "      <td>2022-08-01</td>\n",
       "      <td>0</td>\n",
       "      <td>영도구</td>\n",
       "      <td>동삼1동</td>\n",
       "      <td>21040650</td>\n",
       "      <td>코나</td>\n",
       "      <td>8399</td>\n",
       "      <td>기타음료식품</td>\n",
       "      <td>1998</td>\n",
       "      <td>F</td>\n",
       "      <td>1</td>\n",
       "      <td>7500</td>\n",
       "      <td>Monday</td>\n",
       "    </tr>\n",
       "    <tr>\n",
       "      <th>7317157</th>\n",
       "      <td>2022-08-01</td>\n",
       "      <td>0</td>\n",
       "      <td>영도구</td>\n",
       "      <td>동삼1동</td>\n",
       "      <td>21040650</td>\n",
       "      <td>하나</td>\n",
       "      <td>4010</td>\n",
       "      <td>편 의 점</td>\n",
       "      <td>1971</td>\n",
       "      <td>F</td>\n",
       "      <td>2</td>\n",
       "      <td>7600</td>\n",
       "      <td>Monday</td>\n",
       "    </tr>\n",
       "    <tr>\n",
       "      <th>7317158</th>\n",
       "      <td>2022-08-01</td>\n",
       "      <td>0</td>\n",
       "      <td>영도구</td>\n",
       "      <td>동삼1동</td>\n",
       "      <td>21040650</td>\n",
       "      <td>하나</td>\n",
       "      <td>4010</td>\n",
       "      <td>편 의 점</td>\n",
       "      <td>2001</td>\n",
       "      <td>M</td>\n",
       "      <td>1</td>\n",
       "      <td>2200</td>\n",
       "      <td>Monday</td>\n",
       "    </tr>\n",
       "  </tbody>\n",
       "</table>\n",
       "<p>27135160 rows × 13 columns</p>\n",
       "</div>"
      ],
      "text/plain": [
       "         strd_date  strd_tizn_val ccg_nm adn_dgnm   adng_no cardc_nm  \\\n",
       "0       2022-06-01              0     중구      대청동  21010530       코나   \n",
       "1       2022-06-01              0     중구      중앙동  21010510       부산   \n",
       "2       2022-06-01              0     중구      중앙동  21010510       부산   \n",
       "3       2022-06-01              0     중구      중앙동  21010510       부산   \n",
       "4       2022-06-01              0     중구      중앙동  21010510       코나   \n",
       "...            ...            ...    ...      ...       ...      ...   \n",
       "7317154 2022-08-01              0    영도구     동삼1동  21040650       코나   \n",
       "7317155 2022-08-01              0    영도구     동삼1동  21040650       코나   \n",
       "7317156 2022-08-01              0    영도구     동삼1동  21040650       코나   \n",
       "7317157 2022-08-01              0    영도구     동삼1동  21040650       하나   \n",
       "7317158 2022-08-01              0    영도구     동삼1동  21040650       하나   \n",
       "\n",
       "         tpbuz_cd tpbuz_nm  bth_yr sex_cd  trns_cnt  ttl_trns_amt   day_name  \n",
       "0            4010    편 의 점    1973      M         1          7350  Wednesday  \n",
       "1            4010    편 의 점    1981      F         1          3700  Wednesday  \n",
       "2            4010    편 의 점    1992      M         1          7500  Wednesday  \n",
       "3            4010    편 의 점    1995      M         1          2700  Wednesday  \n",
       "4            4010    편 의 점    1976      M         1         13900  Wednesday  \n",
       "...           ...      ...     ...    ...       ...           ...        ...  \n",
       "7317154      4020     슈퍼마켓    1958      M         1         30000     Monday  \n",
       "7317155      8013       주점    1998      M         1         59600     Monday  \n",
       "7317156      8399   기타음료식품    1998      F         1          7500     Monday  \n",
       "7317157      4010    편 의 점    1971      F         2          7600     Monday  \n",
       "7317158      4010    편 의 점    2001      M         1          2200     Monday  \n",
       "\n",
       "[27135160 rows x 13 columns]"
      ]
     },
     "execution_count": 18,
     "metadata": {},
     "output_type": "execute_result"
    }
   ],
   "source": [
    "df"
   ]
  },
  {
   "cell_type": "code",
   "execution_count": 19,
   "id": "9676ab9c",
   "metadata": {
    "scrolled": true
   },
   "outputs": [],
   "source": [
    "df['age']=2022-df['bth_yr']+1"
   ]
  },
  {
   "cell_type": "code",
   "execution_count": 20,
   "id": "fc1f3699",
   "metadata": {},
   "outputs": [
    {
     "data": {
      "text/plain": [
       "array([   50,    42,    31,    28,    47,    38,    34,    27,    24,\n",
       "          46,    49,    51,    33,    29,    25,    59,    53,    40,\n",
       "          22,    26,    23,    43,    52,    36,    56,    48,    79,\n",
       "          66,    54,    58,    67,    55,    30,    32,    44,    60,\n",
       "          41,    62,    35,    45,    57,    20,    61,    37,    21,\n",
       "          39,    19,    63,    68,    64,    18,    17,    71,    70,\n",
       "          65,    76,    72,    74,    69,    16,    75,    81,    77,\n",
       "          90,    15,    73,    78,    91,    85,    82,    83,    80,\n",
       "          87,    89,    84,    88,    86, -1665,    94,    92,    98,\n",
       "          93,    95,   100, -2584,   102,    99,    96,    97],\n",
       "      dtype=int64)"
      ]
     },
     "execution_count": 20,
     "metadata": {},
     "output_type": "execute_result"
    }
   ],
   "source": [
    "df['age'].unique()"
   ]
  },
  {
   "cell_type": "code",
   "execution_count": 21,
   "id": "9c12d365",
   "metadata": {},
   "outputs": [],
   "source": [
    "df=df.drop(df[(df['age']<=0) | (df['age']>=120)].index)"
   ]
  },
  {
   "cell_type": "code",
   "execution_count": 22,
   "id": "803a588d",
   "metadata": {
    "scrolled": true
   },
   "outputs": [],
   "source": [
    "conditionlist=[(df['age']<10), (df['age']>=10) & (df['age']<20), (df['age']>=20) & (df['age']<30), (df['age']>=30) & (df['age']<40),\n",
    "              (df['age']>=40)&(df['age']<50), (df['age']>=50)&(df['age']<60),(df['age']>=60)&(df['age']<70),\n",
    "              (df['age']>=70)&(df['age']<80),(df['age']>=80)&(df['age']<90),(df['age']>=90)&(df['age']<100),\n",
    "               (df['age']>=100)&(df['age']<110)]\n",
    "choicelist=['0s','10s','20s','30s','40s','50s','60s','70s','80s','90s','100s']\n",
    "df['age_range'] = np.select(conditionlist, choicelist, default='Not Specified')\n",
    "\n"
   ]
  },
  {
   "cell_type": "code",
   "execution_count": 23,
   "id": "d10880ce",
   "metadata": {},
   "outputs": [
    {
     "data": {
      "text/html": [
       "<div>\n",
       "<style scoped>\n",
       "    .dataframe tbody tr th:only-of-type {\n",
       "        vertical-align: middle;\n",
       "    }\n",
       "\n",
       "    .dataframe tbody tr th {\n",
       "        vertical-align: top;\n",
       "    }\n",
       "\n",
       "    .dataframe thead th {\n",
       "        text-align: right;\n",
       "    }\n",
       "</style>\n",
       "<table border=\"1\" class=\"dataframe\">\n",
       "  <thead>\n",
       "    <tr style=\"text-align: right;\">\n",
       "      <th></th>\n",
       "      <th>strd_date</th>\n",
       "      <th>strd_tizn_val</th>\n",
       "      <th>ccg_nm</th>\n",
       "      <th>adn_dgnm</th>\n",
       "      <th>adng_no</th>\n",
       "      <th>cardc_nm</th>\n",
       "      <th>tpbuz_cd</th>\n",
       "      <th>tpbuz_nm</th>\n",
       "      <th>bth_yr</th>\n",
       "      <th>sex_cd</th>\n",
       "      <th>trns_cnt</th>\n",
       "      <th>ttl_trns_amt</th>\n",
       "      <th>day_name</th>\n",
       "      <th>age</th>\n",
       "      <th>age_range</th>\n",
       "    </tr>\n",
       "  </thead>\n",
       "  <tbody>\n",
       "    <tr>\n",
       "      <th>0</th>\n",
       "      <td>2022-06-01</td>\n",
       "      <td>0</td>\n",
       "      <td>중구</td>\n",
       "      <td>대청동</td>\n",
       "      <td>21010530</td>\n",
       "      <td>코나</td>\n",
       "      <td>4010</td>\n",
       "      <td>편 의 점</td>\n",
       "      <td>1973</td>\n",
       "      <td>M</td>\n",
       "      <td>1</td>\n",
       "      <td>7350</td>\n",
       "      <td>Wednesday</td>\n",
       "      <td>50</td>\n",
       "      <td>50s</td>\n",
       "    </tr>\n",
       "    <tr>\n",
       "      <th>1</th>\n",
       "      <td>2022-06-01</td>\n",
       "      <td>0</td>\n",
       "      <td>중구</td>\n",
       "      <td>중앙동</td>\n",
       "      <td>21010510</td>\n",
       "      <td>부산</td>\n",
       "      <td>4010</td>\n",
       "      <td>편 의 점</td>\n",
       "      <td>1981</td>\n",
       "      <td>F</td>\n",
       "      <td>1</td>\n",
       "      <td>3700</td>\n",
       "      <td>Wednesday</td>\n",
       "      <td>42</td>\n",
       "      <td>40s</td>\n",
       "    </tr>\n",
       "    <tr>\n",
       "      <th>2</th>\n",
       "      <td>2022-06-01</td>\n",
       "      <td>0</td>\n",
       "      <td>중구</td>\n",
       "      <td>중앙동</td>\n",
       "      <td>21010510</td>\n",
       "      <td>부산</td>\n",
       "      <td>4010</td>\n",
       "      <td>편 의 점</td>\n",
       "      <td>1992</td>\n",
       "      <td>M</td>\n",
       "      <td>1</td>\n",
       "      <td>7500</td>\n",
       "      <td>Wednesday</td>\n",
       "      <td>31</td>\n",
       "      <td>30s</td>\n",
       "    </tr>\n",
       "    <tr>\n",
       "      <th>3</th>\n",
       "      <td>2022-06-01</td>\n",
       "      <td>0</td>\n",
       "      <td>중구</td>\n",
       "      <td>중앙동</td>\n",
       "      <td>21010510</td>\n",
       "      <td>부산</td>\n",
       "      <td>4010</td>\n",
       "      <td>편 의 점</td>\n",
       "      <td>1995</td>\n",
       "      <td>M</td>\n",
       "      <td>1</td>\n",
       "      <td>2700</td>\n",
       "      <td>Wednesday</td>\n",
       "      <td>28</td>\n",
       "      <td>20s</td>\n",
       "    </tr>\n",
       "    <tr>\n",
       "      <th>4</th>\n",
       "      <td>2022-06-01</td>\n",
       "      <td>0</td>\n",
       "      <td>중구</td>\n",
       "      <td>중앙동</td>\n",
       "      <td>21010510</td>\n",
       "      <td>코나</td>\n",
       "      <td>4010</td>\n",
       "      <td>편 의 점</td>\n",
       "      <td>1976</td>\n",
       "      <td>M</td>\n",
       "      <td>1</td>\n",
       "      <td>13900</td>\n",
       "      <td>Wednesday</td>\n",
       "      <td>47</td>\n",
       "      <td>40s</td>\n",
       "    </tr>\n",
       "    <tr>\n",
       "      <th>...</th>\n",
       "      <td>...</td>\n",
       "      <td>...</td>\n",
       "      <td>...</td>\n",
       "      <td>...</td>\n",
       "      <td>...</td>\n",
       "      <td>...</td>\n",
       "      <td>...</td>\n",
       "      <td>...</td>\n",
       "      <td>...</td>\n",
       "      <td>...</td>\n",
       "      <td>...</td>\n",
       "      <td>...</td>\n",
       "      <td>...</td>\n",
       "      <td>...</td>\n",
       "      <td>...</td>\n",
       "    </tr>\n",
       "    <tr>\n",
       "      <th>7317154</th>\n",
       "      <td>2022-08-01</td>\n",
       "      <td>0</td>\n",
       "      <td>영도구</td>\n",
       "      <td>동삼1동</td>\n",
       "      <td>21040650</td>\n",
       "      <td>코나</td>\n",
       "      <td>4020</td>\n",
       "      <td>슈퍼마켓</td>\n",
       "      <td>1958</td>\n",
       "      <td>M</td>\n",
       "      <td>1</td>\n",
       "      <td>30000</td>\n",
       "      <td>Monday</td>\n",
       "      <td>65</td>\n",
       "      <td>60s</td>\n",
       "    </tr>\n",
       "    <tr>\n",
       "      <th>7317155</th>\n",
       "      <td>2022-08-01</td>\n",
       "      <td>0</td>\n",
       "      <td>영도구</td>\n",
       "      <td>동삼1동</td>\n",
       "      <td>21040650</td>\n",
       "      <td>코나</td>\n",
       "      <td>8013</td>\n",
       "      <td>주점</td>\n",
       "      <td>1998</td>\n",
       "      <td>M</td>\n",
       "      <td>1</td>\n",
       "      <td>59600</td>\n",
       "      <td>Monday</td>\n",
       "      <td>25</td>\n",
       "      <td>20s</td>\n",
       "    </tr>\n",
       "    <tr>\n",
       "      <th>7317156</th>\n",
       "      <td>2022-08-01</td>\n",
       "      <td>0</td>\n",
       "      <td>영도구</td>\n",
       "      <td>동삼1동</td>\n",
       "      <td>21040650</td>\n",
       "      <td>코나</td>\n",
       "      <td>8399</td>\n",
       "      <td>기타음료식품</td>\n",
       "      <td>1998</td>\n",
       "      <td>F</td>\n",
       "      <td>1</td>\n",
       "      <td>7500</td>\n",
       "      <td>Monday</td>\n",
       "      <td>25</td>\n",
       "      <td>20s</td>\n",
       "    </tr>\n",
       "    <tr>\n",
       "      <th>7317157</th>\n",
       "      <td>2022-08-01</td>\n",
       "      <td>0</td>\n",
       "      <td>영도구</td>\n",
       "      <td>동삼1동</td>\n",
       "      <td>21040650</td>\n",
       "      <td>하나</td>\n",
       "      <td>4010</td>\n",
       "      <td>편 의 점</td>\n",
       "      <td>1971</td>\n",
       "      <td>F</td>\n",
       "      <td>2</td>\n",
       "      <td>7600</td>\n",
       "      <td>Monday</td>\n",
       "      <td>52</td>\n",
       "      <td>50s</td>\n",
       "    </tr>\n",
       "    <tr>\n",
       "      <th>7317158</th>\n",
       "      <td>2022-08-01</td>\n",
       "      <td>0</td>\n",
       "      <td>영도구</td>\n",
       "      <td>동삼1동</td>\n",
       "      <td>21040650</td>\n",
       "      <td>하나</td>\n",
       "      <td>4010</td>\n",
       "      <td>편 의 점</td>\n",
       "      <td>2001</td>\n",
       "      <td>M</td>\n",
       "      <td>1</td>\n",
       "      <td>2200</td>\n",
       "      <td>Monday</td>\n",
       "      <td>22</td>\n",
       "      <td>20s</td>\n",
       "    </tr>\n",
       "  </tbody>\n",
       "</table>\n",
       "<p>27134762 rows × 15 columns</p>\n",
       "</div>"
      ],
      "text/plain": [
       "         strd_date  strd_tizn_val ccg_nm adn_dgnm   adng_no cardc_nm  \\\n",
       "0       2022-06-01              0     중구      대청동  21010530       코나   \n",
       "1       2022-06-01              0     중구      중앙동  21010510       부산   \n",
       "2       2022-06-01              0     중구      중앙동  21010510       부산   \n",
       "3       2022-06-01              0     중구      중앙동  21010510       부산   \n",
       "4       2022-06-01              0     중구      중앙동  21010510       코나   \n",
       "...            ...            ...    ...      ...       ...      ...   \n",
       "7317154 2022-08-01              0    영도구     동삼1동  21040650       코나   \n",
       "7317155 2022-08-01              0    영도구     동삼1동  21040650       코나   \n",
       "7317156 2022-08-01              0    영도구     동삼1동  21040650       코나   \n",
       "7317157 2022-08-01              0    영도구     동삼1동  21040650       하나   \n",
       "7317158 2022-08-01              0    영도구     동삼1동  21040650       하나   \n",
       "\n",
       "         tpbuz_cd tpbuz_nm  bth_yr sex_cd  trns_cnt  ttl_trns_amt   day_name  \\\n",
       "0            4010    편 의 점    1973      M         1          7350  Wednesday   \n",
       "1            4010    편 의 점    1981      F         1          3700  Wednesday   \n",
       "2            4010    편 의 점    1992      M         1          7500  Wednesday   \n",
       "3            4010    편 의 점    1995      M         1          2700  Wednesday   \n",
       "4            4010    편 의 점    1976      M         1         13900  Wednesday   \n",
       "...           ...      ...     ...    ...       ...           ...        ...   \n",
       "7317154      4020     슈퍼마켓    1958      M         1         30000     Monday   \n",
       "7317155      8013       주점    1998      M         1         59600     Monday   \n",
       "7317156      8399   기타음료식품    1998      F         1          7500     Monday   \n",
       "7317157      4010    편 의 점    1971      F         2          7600     Monday   \n",
       "7317158      4010    편 의 점    2001      M         1          2200     Monday   \n",
       "\n",
       "         age age_range  \n",
       "0         50       50s  \n",
       "1         42       40s  \n",
       "2         31       30s  \n",
       "3         28       20s  \n",
       "4         47       40s  \n",
       "...      ...       ...  \n",
       "7317154   65       60s  \n",
       "7317155   25       20s  \n",
       "7317156   25       20s  \n",
       "7317157   52       50s  \n",
       "7317158   22       20s  \n",
       "\n",
       "[27134762 rows x 15 columns]"
      ]
     },
     "execution_count": 23,
     "metadata": {},
     "output_type": "execute_result"
    }
   ],
   "source": [
    "df"
   ]
  },
  {
   "cell_type": "code",
   "execution_count": 24,
   "id": "6d06d7ee",
   "metadata": {},
   "outputs": [],
   "source": [
    "df=df.drop(['age'], axis=1)"
   ]
  },
  {
   "cell_type": "code",
   "execution_count": 25,
   "id": "e3a72b6b",
   "metadata": {},
   "outputs": [],
   "source": [
    "df=df.drop(['bth_yr'], axis=1)"
   ]
  },
  {
   "cell_type": "code",
   "execution_count": 26,
   "id": "6f6d74c1",
   "metadata": {},
   "outputs": [
    {
     "data": {
      "text/plain": [
       "array(['편 의 점', '사무서비스', '골프연습장', '일반한식', '슈퍼마켓', '택시', '연 쇄 점', '농축수산품',\n",
       "       '미곡상', '스넥', '기타음료식품', '헬스클럽', '서양음식', '노 래 방', '주점', '기타레져업소',\n",
       "       '일식회집', '애완동물', 'DP&E', '주차장', '제과점', '칵테일바', 'SK주유소', '중국식',\n",
       "       'SK가스충전소', '학원', '사무통신기기수리', '기타숙박업', '기타잡화', '쌍용S-OIL', '당 구 장',\n",
       "       'GS주유소', '독서실', '볼 링 장', '기타 사무용품', '정장(남성)', '세탁소', '주유소',\n",
       "       '스포츠레져용품', '종합용역', '예체능계학원', 'GS 가스충전소', '사우나', '컴퓨터', '외국어학원',\n",
       "       '테니스장', '레져업소', '기타4', '출판 및 인쇄물', '일반가구', '기타 교육기관', '세차장',\n",
       "       '현대정유(오일뱅크)', '기계공구', '냉열기기', '쌍용S-OIL 가스충전소', '기타농업관련', '보습학원',\n",
       "       '골프용품 전문점', '갈비전문점', '정육점', '기타유통업', '종합레져타운', '농축수산 가공품',\n",
       "       '카페트.커튼.천막.지물', '의원', '수 영 장', '비료.사료.종자', '2급 호텔', '목재석재철물',\n",
       "       '주방용식기', '약국', '기타건강식품', '화물운송', '보일러펌프샷시', '일반서적', '동물병원', '기능학원',\n",
       "       '영화관', '스포츠 의류', '안마/스포츠마사지', '주방용구', '화원', '액세서리', '통신기기', '치과의원',\n",
       "       '기타 전문점', '한의원', '의료용품', 'LPG 취급점', '병원(응급실 운영)', '피부미용실',\n",
       "       '기타의료기관 및 기타의료기기', '카인테리어', '자동차부품', '문구용품', '치과병원', '자동차정비', '가방',\n",
       "       '자동차시트타이어', '1급 호텔', '종합병원', '대형할인점', '농.축협 직영매장', '산후조리원',\n",
       "       '기타건축자재', '가전제품', '화장품', '조명기구', '안경', '미용원', '한방병원', '내의판매',\n",
       "       '기타직물', '신발', '페인트', '상 품 권', '기념품점', '농협하나로클럽', '이용원', '홍삼제품',\n",
       "       '인삼제품', '인테리어전문', '제약회사', '전문서적', '이륜차판매', '문화취미기타', '침구수예점',\n",
       "       '한약방', '기타대인서비스', '티켓', '기타전기제품', '사무용 OA기기', '귀금속', '악기점',\n",
       "       '과학기자재', '기타연료', '기타의류', '미용재료', '옷감직물', 'DVD음반테이프 판매', '시계',\n",
       "       '관광여행', '완구점', '여객선', '화방표구점', '위탁급식업', '유학원', '화랑', '신변잡화수리',\n",
       "       '아동의류', '윤활유 전문 판매', '기타용역서비스', '민예공예품', '기타1', '건강식품', '기타서적문구',\n",
       "       '기타가구', '국산신차 직영부품정비업소', '건축용 요업제품', '수족관', '맞춤복점', '보관및 창고업',\n",
       "       '자동차서비스', '유류판매', '기타수리서비스', '주류 판매점', '단체복', '레져용품수리', '학습지 교육',\n",
       "       '부동산 중개임대', '가정용품수리', '서적', '견인서비스', '비영리/대상', '소프트웨어', '한정식',\n",
       "       '농기계', '제화', '철제가구', '콘도', '컴퓨터학원', '특급호텔', '와이셔츠타이', '양 품 점',\n",
       "       '단란주점', '유흥주점', '부동산 분양', '건강진단', '조세서비스', '가타자동차서비스',\n",
       "       '법률회계서비스(개인)', '유치원', '혼수전문점', '정기간행물', '구내매점(국가기관 등)', '정수기',\n",
       "       '유리', '법률회계서비스(법인)', '가례서비스업', '카메라', '초중고교육기관', '기타광학제품', '렌터카',\n",
       "       '골동품점', '기타비영리유통', '비영리/비대상', '성인용품점', '기타3', '기타2'], dtype=object)"
      ]
     },
     "execution_count": 26,
     "metadata": {},
     "output_type": "execute_result"
    }
   ],
   "source": [
    "df['tpbuz_nm'].unique()"
   ]
  },
  {
   "cell_type": "code",
   "execution_count": 57,
   "id": "b7d7dd02",
   "metadata": {},
   "outputs": [
    {
     "data": {
      "text/plain": [
       "210"
      ]
     },
     "execution_count": 57,
     "metadata": {},
     "output_type": "execute_result"
    }
   ],
   "source": [
    "len(df['tpbuz_nm'].unique())"
   ]
  },
  {
   "cell_type": "code",
   "execution_count": 27,
   "id": "36e39df6",
   "metadata": {
    "scrolled": true
   },
   "outputs": [
    {
     "data": {
      "text/plain": [
       "array([  7350,   3700,   7500, ...,    579,    997, 106662], dtype=int64)"
      ]
     },
     "execution_count": 27,
     "metadata": {},
     "output_type": "execute_result"
    }
   ],
   "source": [
    "df['ttl_trns_amt'].unique()"
   ]
  },
  {
   "cell_type": "code",
   "execution_count": 28,
   "id": "6439d01c",
   "metadata": {
    "scrolled": true
   },
   "outputs": [
    {
     "data": {
      "text/plain": [
       "array([ 1,  2,  3,  4,  5,  6, 10,  7,  8, 11, 30,  9, 12, 13, 24, 40, 20,\n",
       "       15, 14, 21, 16, 17, 19, 18, 22, 28, 55, 23, 31, 26, 29, 37, 34, 27,\n",
       "       56, 71, 57, 35, 36, 38, 41, 64, 25, 32, 63], dtype=int64)"
      ]
     },
     "execution_count": 28,
     "metadata": {},
     "output_type": "execute_result"
    }
   ],
   "source": [
    "df['trns_cnt'].unique()"
   ]
  },
  {
   "cell_type": "code",
   "execution_count": 29,
   "id": "f2ea4d24",
   "metadata": {},
   "outputs": [
    {
     "data": {
      "text/plain": [
       "array(['중구', '서구', '동구', '영도구', '부산진구', '동래구', '남구', '북구', '해운대구', '사하구',\n",
       "       '금정구', '강서구', '연제구', '수영구', '사상구', '기장군'], dtype=object)"
      ]
     },
     "execution_count": 29,
     "metadata": {},
     "output_type": "execute_result"
    }
   ],
   "source": [
    "df['ccg_nm'].unique()"
   ]
  },
  {
   "cell_type": "code",
   "execution_count": 30,
   "id": "760421b8",
   "metadata": {},
   "outputs": [
    {
     "data": {
      "text/plain": [
       "array([  7350,   3700,   7500, ...,    579,    997, 106662], dtype=int64)"
      ]
     },
     "execution_count": 30,
     "metadata": {},
     "output_type": "execute_result"
    }
   ],
   "source": [
    "df['ttl_trns_amt'].unique()"
   ]
  },
  {
   "cell_type": "code",
   "execution_count": 31,
   "id": "3f7e70b6",
   "metadata": {},
   "outputs": [
    {
     "data": {
      "text/plain": [
       "strd_date        2311306\n",
       "strd_tizn_val    2311306\n",
       "ccg_nm           2311306\n",
       "adn_dgnm         2311306\n",
       "adng_no          2311306\n",
       "cardc_nm         2311306\n",
       "tpbuz_cd         2311306\n",
       "tpbuz_nm         2311306\n",
       "sex_cd           2311306\n",
       "trns_cnt         2311306\n",
       "ttl_trns_amt     2311306\n",
       "day_name         2311306\n",
       "age_range        2311306\n",
       "dtype: int64"
      ]
     },
     "execution_count": 31,
     "metadata": {},
     "output_type": "execute_result"
    }
   ],
   "source": [
    "df.count()-df[df['trns_cnt']==1].count()"
   ]
  },
  {
   "cell_type": "code",
   "execution_count": 32,
   "id": "a504d364",
   "metadata": {
    "scrolled": true
   },
   "outputs": [],
   "source": [
    "d_n=df.groupby('day_name')['ttl_trns_amt'].mean().astype('int').sort_values(ascending=False)\n",
    "a_r=df.groupby('age_range')['ttl_trns_amt'].mean().astype('int').sort_values(ascending=False)\n",
    "s_c=df.groupby('sex_cd')['ttl_trns_amt'].mean().astype('int').sort_values(ascending=False)\n",
    "c_n=df.groupby('ccg_nm')['ttl_trns_amt'].mean().astype('int').sort_values(ascending=False)\n",
    "s_t_v_mon=df[df.day_name=='Monday'].groupby('strd_tizn_val')['ttl_trns_amt'].mean().astype('int').sort_values(ascending=False)\n",
    "s_t_v_tue=df[df.day_name=='Tuesday'].groupby('strd_tizn_val')['ttl_trns_amt'].mean().astype('int').sort_values(ascending=False)\n",
    "s_t_v_wed=df[df.day_name=='Wednesday'].groupby('strd_tizn_val')['ttl_trns_amt'].mean().astype('int').sort_values(ascending=False)\n",
    "s_t_v_thu=df[df.day_name=='Thursday'].groupby('strd_tizn_val')['ttl_trns_amt'].mean().astype('int').sort_values(ascending=False)\n",
    "s_t_v_fri=df[df.day_name=='Friday'].groupby('strd_tizn_val')['ttl_trns_amt'].mean().astype('int').sort_values(ascending=False)\n",
    "s_t_v_sat=df[df.day_name=='Saturday'].groupby('strd_tizn_val')['ttl_trns_amt'].mean().astype('int').sort_values(ascending=False)\n",
    "s_t_v_sun=df[df.day_name=='Sunday'].groupby('strd_tizn_val')['ttl_trns_amt'].mean().astype('int').sort_values(ascending=False)"
   ]
  },
  {
   "cell_type": "code",
   "execution_count": 33,
   "id": "921b73f9",
   "metadata": {},
   "outputs": [],
   "source": [
    "d_n_s=df.groupby('day_name')['ttl_trns_amt'].sum().sort_values(ascending=False)\n",
    "a_r_s=df.groupby('age_range')['ttl_trns_amt'].sum().sort_values(ascending=False)\n",
    "s_c_s=df.groupby('sex_cd')['ttl_trns_amt'].sum().sort_values(ascending=False)\n",
    "c_n_s=df.groupby('ccg_nm')['ttl_trns_amt'].sum().sort_values(ascending=False)\n",
    "s_t_v_mon_s=df[df.day_name=='Monday'].groupby('strd_tizn_val')['ttl_trns_amt'].sum().sort_values(ascending=False)\n",
    "s_t_v_tue_s=df[df.day_name=='Tuesday'].groupby('strd_tizn_val')['ttl_trns_amt'].sum().sort_values(ascending=False)\n",
    "s_t_v_wed_s=df[df.day_name=='Wednesday'].groupby('strd_tizn_val')['ttl_trns_amt'].sum().sort_values(ascending=False)\n",
    "s_t_v_thu_s=df[df.day_name=='Thursday'].groupby('strd_tizn_val')['ttl_trns_amt'].sum().sort_values(ascending=False)\n",
    "s_t_v_fri_s=df[df.day_name=='Friday'].groupby('strd_tizn_val')['ttl_trns_amt'].sum().sort_values(ascending=False)\n",
    "s_t_v_sat_s=df[df.day_name=='Saturday'].groupby('strd_tizn_val')['ttl_trns_amt'].sum().sort_values(ascending=False)\n",
    "s_t_v_sun_s=df[df.day_name=='Sunday'].groupby('strd_tizn_val')['ttl_trns_amt'].sum().sort_values(ascending=False)"
   ]
  },
  {
   "cell_type": "code",
   "execution_count": 34,
   "id": "13ffa693",
   "metadata": {},
   "outputs": [],
   "source": [
    "plt.rcParams['font.family'] = 'Malgun Gothic'"
   ]
  },
  {
   "cell_type": "code",
   "execution_count": 35,
   "id": "35aec502",
   "metadata": {},
   "outputs": [
    {
     "data": {
      "text/plain": [
       "<AxesSubplot: xlabel='day_name'>"
      ]
     },
     "execution_count": 35,
     "metadata": {},
     "output_type": "execute_result"
    },
    {
     "data": {
      "image/png": "[encoded data removed]",
      "text/plain": [
       "<Figure size 640x480 with 1 Axes>"
      ]
     },
     "metadata": {},
     "output_type": "display_data"
    }
   ],
   "source": [
    "d_n.plot(kind='bar')"
   ]
  },
  {
   "cell_type": "code",
   "execution_count": 36,
   "id": "2e8303cf",
   "metadata": {},
   "outputs": [
    {
     "data": {
      "text/plain": [
       "<AxesSubplot: xlabel='day_name'>"
      ]
     },
     "execution_count": 36,
     "metadata": {},
     "output_type": "execute_result"
    },
    {
     "data": {
      "image/png": "[encoded data removed]",
      "text/plain": [
       "<Figure size 640x480 with 1 Axes>"
      ]
     },
     "metadata": {},
     "output_type": "display_data"
    }
   ],
   "source": [
    "d_n_s.plot(kind='bar')"
   ]
  },
  {
   "cell_type": "code",
   "execution_count": 37,
   "id": "8d49ad19",
   "metadata": {},
   "outputs": [
    {
     "data": {
      "text/plain": [
       "<AxesSubplot: xlabel='age_range'>"
      ]
     },
     "execution_count": 37,
     "metadata": {},
     "output_type": "execute_result"
    },
    {
     "data": {
      "image/png": "[encoded data removed]",
      "text/plain": [
       "<Figure size 640x480 with 1 Axes>"
      ]
     },
     "metadata": {},
     "output_type": "display_data"
    }
   ],
   "source": [
    "a_r.plot(kind='bar')"
   ]
  },
  {
   "cell_type": "code",
   "execution_count": 38,
   "id": "834a598b",
   "metadata": {},
   "outputs": [
    {
     "data": {
      "text/plain": [
       "<AxesSubplot: xlabel='age_range'>"
      ]
     },
     "execution_count": 38,
     "metadata": {},
     "output_type": "execute_result"
    },
    {
     "data": {
      "image/png": "[encoded data removed]",
      "text/plain": [
       "<Figure size 640x480 with 1 Axes>"
      ]
     },
     "metadata": {},
     "output_type": "display_data"
    }
   ],
   "source": [
    "a_r_s.plot(kind='bar')"
   ]
  },
  {
   "cell_type": "code",
   "execution_count": 39,
   "id": "4ed58d50",
   "metadata": {},
   "outputs": [
    {
     "data": {
      "text/plain": [
       "<AxesSubplot: xlabel='sex_cd'>"
      ]
     },
     "execution_count": 39,
     "metadata": {},
     "output_type": "execute_result"
    },
    {
     "data": {
      "image/png": "[encoded data removed]",
      "text/plain": [
       "<Figure size 640x480 with 1 Axes>"
      ]
     },
     "metadata": {},
     "output_type": "display_data"
    }
   ],
   "source": [
    "s_c.plot(kind='bar')"
   ]
  },
  {
   "cell_type": "code",
   "execution_count": 40,
   "id": "37e856e9",
   "metadata": {},
   "outputs": [
    {
     "data": {
      "text/plain": [
       "<AxesSubplot: xlabel='sex_cd'>"
      ]
     },
     "execution_count": 40,
     "metadata": {},
     "output_type": "execute_result"
    },
    {
     "data": {
      "image/png": "[encoded data removed]",
      "text/plain": [
       "<Figure size 640x480 with 1 Axes>"
      ]
     },
     "metadata": {},
     "output_type": "display_data"
    }
   ],
   "source": [
    "s_c_s.plot(kind='bar')"
   ]
  },
  {
   "cell_type": "code",
   "execution_count": 41,
   "id": "1bd24324",
   "metadata": {
    "scrolled": false
   },
   "outputs": [
    {
     "data": {
      "text/plain": [
       "<AxesSubplot: xlabel='ccg_nm'>"
      ]
     },
     "execution_count": 41,
     "metadata": {},
     "output_type": "execute_result"
    },
    {
     "data": {
      "image/png": "[encoded data removed]",
      "text/plain": [
       "<Figure size 640x480 with 1 Axes>"
      ]
     },
     "metadata": {},
     "output_type": "display_data"
    }
   ],
   "source": [
    "c_n.plot(kind='bar')"
   ]
  },
  {
   "cell_type": "code",
   "execution_count": 42,
   "id": "ab28ea12",
   "metadata": {},
   "outputs": [
    {
     "data": {
      "text/plain": [
       "<AxesSubplot: xlabel='ccg_nm'>"
      ]
     },
     "execution_count": 42,
     "metadata": {},
     "output_type": "execute_result"
    },
    {
     "data": {
      "image/png": "[encoded data removed]",
      "text/plain": [
       "<Figure size 640x480 with 1 Axes>"
      ]
     },
     "metadata": {},
     "output_type": "display_data"
    }
   ],
   "source": [
    "c_n_s.plot(kind='bar')"
   ]
  },
  {
   "cell_type": "code",
   "execution_count": 43,
   "id": "26b66506",
   "metadata": {},
   "outputs": [
    {
     "data": {
      "text/plain": [
       "<AxesSubplot: xlabel='strd_tizn_val'>"
      ]
     },
     "execution_count": 43,
     "metadata": {},
     "output_type": "execute_result"
    },
    {
     "data": {
      "image/png": "[encoded data removed]",
      "text/plain": [
       "<Figure size 640x480 with 1 Axes>"
      ]
     },
     "metadata": {},
     "output_type": "display_data"
    }
   ],
   "source": [
    "s_t_v_mon.plot(kind='bar')"
   ]
  },
  {
   "cell_type": "code",
   "execution_count": 44,
   "id": "974de3c1",
   "metadata": {},
   "outputs": [
    {
     "data": {
      "text/plain": [
       "<AxesSubplot: xlabel='strd_tizn_val'>"
      ]
     },
     "execution_count": 44,
     "metadata": {},
     "output_type": "execute_result"
    },
    {
     "data": {
      "image/png": "[encoded data removed]",
      "text/plain": [
       "<Figure size 640x480 with 1 Axes>"
      ]
     },
     "metadata": {},
     "output_type": "display_data"
    }
   ],
   "source": [
    "s_t_v_mon_s.plot(kind='bar')"
   ]
  },
  {
   "cell_type": "code",
   "execution_count": 45,
   "id": "a2a060af",
   "metadata": {},
   "outputs": [
    {
     "data": {
      "text/plain": [
       "<AxesSubplot: xlabel='strd_tizn_val'>"
      ]
     },
     "execution_count": 45,
     "metadata": {},
     "output_type": "execute_result"
    },
    {
     "data": {
      "image/png": "[encoded data removed]",
      "text/plain": [
       "<Figure size 640x480 with 1 Axes>"
      ]
     },
     "metadata": {},
     "output_type": "display_data"
    }
   ],
   "source": [
    "s_t_v_tue.plot(kind='bar')"
   ]
  },
  {
   "cell_type": "code",
   "execution_count": 46,
   "id": "f5ad5c24",
   "metadata": {},
   "outputs": [
    {
     "data": {
      "text/plain": [
       "<AxesSubplot: xlabel='strd_tizn_val'>"
      ]
     },
     "execution_count": 46,
     "metadata": {},
     "output_type": "execute_result"
    },
    {
     "data": {
      "image/png": "[encoded data removed]",
      "text/plain": [
       "<Figure size 640x480 with 1 Axes>"
      ]
     },
     "metadata": {},
     "output_type": "display_data"
    }
   ],
   "source": [
    "s_t_v_tue_s.plot(kind='bar')"
   ]
  },
  {
   "cell_type": "code",
   "execution_count": 47,
   "id": "066456ff",
   "metadata": {},
   "outputs": [
    {
     "data": {
      "text/plain": [
       "<AxesSubplot: xlabel='strd_tizn_val'>"
      ]
     },
     "execution_count": 47,
     "metadata": {},
     "output_type": "execute_result"
    },
    {
     "data": {
      "image/png": "[encoded data removed]",
      "text/plain": [
       "<Figure size 640x480 with 1 Axes>"
      ]
     },
     "metadata": {},
     "output_type": "display_data"
    }
   ],
   "source": [
    "s_t_v_wed.plot(kind='bar')"
   ]
  },
  {
   "cell_type": "code",
   "execution_count": 48,
   "id": "7ba8dd28",
   "metadata": {},
   "outputs": [
    {
     "data": {
      "text/plain": [
       "<AxesSubplot: xlabel='strd_tizn_val'>"
      ]
     },
     "execution_count": 48,
     "metadata": {},
     "output_type": "execute_result"
    },
    {
     "data": {
      "image/png": "[encoded data removed]",
      "text/plain": [
       "<Figure size 640x480 with 1 Axes>"
      ]
     },
     "metadata": {},
     "output_type": "display_data"
    }
   ],
   "source": [
    "s_t_v_wed_s.plot(kind='bar')"
   ]
  },
  {
   "cell_type": "code",
   "execution_count": 49,
   "id": "52bf7b9e",
   "metadata": {},
   "outputs": [
    {
     "data": {
      "text/plain": [
       "<AxesSubplot: xlabel='strd_tizn_val'>"
      ]
     },
     "execution_count": 49,
     "metadata": {},
     "output_type": "execute_result"
    },
    {
     "data": {
      "image/png": "[encoded data removed]",
      "text/plain": [
       "<Figure size 640x480 with 1 Axes>"
      ]
     },
     "metadata": {},
     "output_type": "display_data"
    }
   ],
   "source": [
    "s_t_v_thu.plot(kind='bar')"
   ]
  },
  {
   "cell_type": "code",
   "execution_count": 50,
   "id": "63c82149",
   "metadata": {},
   "outputs": [
    {
     "data": {
      "text/plain": [
       "<AxesSubplot: xlabel='strd_tizn_val'>"
      ]
     },
     "execution_count": 50,
     "metadata": {},
     "output_type": "execute_result"
    },
    {
     "data": {
      "image/png": "[encoded data removed]",
      "text/plain": [
       "<Figure size 640x480 with 1 Axes>"
      ]
     },
     "metadata": {},
     "output_type": "display_data"
    }
   ],
   "source": [
    "s_t_v_thu_s.plot(kind='bar')"
   ]
  },
  {
   "cell_type": "code",
   "execution_count": 51,
   "id": "003622fc",
   "metadata": {
    "scrolled": false
   },
   "outputs": [
    {
     "data": {
      "text/plain": [
       "<AxesSubplot: xlabel='strd_tizn_val'>"
      ]
     },
     "execution_count": 51,
     "metadata": {},
     "output_type": "execute_result"
    },
    {
     "data": {
      "image/png": "[encoded data removed]",
      "text/plain": [
       "<Figure size 640x480 with 1 Axes>"
      ]
     },
     "metadata": {},
     "output_type": "display_data"
    }
   ],
   "source": [
    "s_t_v_fri.plot(kind='bar')"
   ]
  },
  {
   "cell_type": "code",
   "execution_count": 52,
   "id": "d731d4d9",
   "metadata": {},
   "outputs": [
    {
     "data": {
      "text/plain": [
       "<AxesSubplot: xlabel='strd_tizn_val'>"
      ]
     },
     "execution_count": 52,
     "metadata": {},
     "output_type": "execute_result"
    },
    {
     "data": {
      "image/png": "[encoded data removed]",
      "text/plain": [
       "<Figure size 640x480 with 1 Axes>"
      ]
     },
     "metadata": {},
     "output_type": "display_data"
    }
   ],
   "source": [
    "s_t_v_fri_s.plot(kind='bar')"
   ]
  },
  {
   "cell_type": "code",
   "execution_count": 53,
   "id": "c706744c",
   "metadata": {},
   "outputs": [
    {
     "data": {
      "text/plain": [
       "<AxesSubplot: xlabel='strd_tizn_val'>"
      ]
     },
     "execution_count": 53,
     "metadata": {},
     "output_type": "execute_result"
    },
    {
     "data": {
      "image/png": "[encoded data removed]",
      "text/plain": [
       "<Figure size 640x480 with 1 Axes>"
      ]
     },
     "metadata": {},
     "output_type": "display_data"
    }
   ],
   "source": [
    "s_t_v_sat.plot(kind='bar')"
   ]
  },
  {
   "cell_type": "code",
   "execution_count": 54,
   "id": "e09d8b15",
   "metadata": {},
   "outputs": [
    {
     "data": {
      "text/plain": [
       "<AxesSubplot: xlabel='strd_tizn_val'>"
      ]
     },
     "execution_count": 54,
     "metadata": {},
     "output_type": "execute_result"
    },
    {
     "data": {
      "image/png": "[encoded data removed]",
      "text/plain": [
       "<Figure size 640x480 with 1 Axes>"
      ]
     },
     "metadata": {},
     "output_type": "display_data"
    }
   ],
   "source": [
    "s_t_v_sat_s.plot(kind='bar')"
   ]
  },
  {
   "cell_type": "code",
   "execution_count": 55,
   "id": "06214575",
   "metadata": {},
   "outputs": [
    {
     "data": {
      "text/plain": [
       "<AxesSubplot: xlabel='strd_tizn_val'>"
      ]
     },
     "execution_count": 55,
     "metadata": {},
     "output_type": "execute_result"
    },
    {
     "data": {
      "image/png": "[encoded data removed]",
      "text/plain": [
       "<Figure size 640x480 with 1 Axes>"
      ]
     },
     "metadata": {},
     "output_type": "display_data"
    }
   ],
   "source": [
    "s_t_v_sun.plot(kind='bar')"
   ]
  },
  {
   "cell_type": "code",
   "execution_count": 56,
   "id": "eca2c066",
   "metadata": {},
   "outputs": [
    {
     "data": {
      "text/plain": [
       "<AxesSubplot: xlabel='strd_tizn_val'>"
      ]
     },
     "execution_count": 56,
     "metadata": {},
     "output_type": "execute_result"
    },
    {
     "data": {
      "image/png": "[encoded data removed]",
      "text/plain": [
       "<Figure size 640x480 with 1 Axes>"
      ]
     },
     "metadata": {},
     "output_type": "display_data"
    }
   ],
   "source": [
    "s_t_v_sun_s.plot(kind='bar')"
   ]
  }
 ],
 "metadata": {
  "kernelspec": {
   "display_name": "Python 3 (ipykernel)",
   "language": "python",
   "name": "python3"
  },
  "language_info": {
   "codemirror_mode": {
    "name": "ipython",
    "version": 3
   },
   "file_extension": ".py",
   "mimetype": "text/x-python",
   "name": "python",
   "nbconvert_exporter": "python",
   "pygments_lexer": "ipython3",
   "version": "3.9.16"
  }
 },
 "nbformat": 4,
 "nbformat_minor": 5
}
