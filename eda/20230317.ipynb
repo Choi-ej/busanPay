{
 "cells": [
  {
   "cell_type": "markdown",
   "metadata": {},
   "source": [
    "# 변경\n",
    "기준일자 변수 이용하여 요일변수 생성  \n",
    "시도명 -> 모두 부산광역시 이므로 제거  \n",
    "행정동명, 행정동 번호 모두 같은것이므로 행정동번호 제거  \n",
    "업종명, 업종코드 모두 같은것이므로 업종코드 제거  \n",
    "출생년도 4067,3688 제거  \n",
    "출생년도 변수 이용하여 연령대 변수 생성  \n",
    "거래건수 처리 생각  \n",
    "외부 데이터 이용하여 구 인구 수, 연령대 찾고 비교해볼 예정"
   ]
  },
  {
   "cell_type": "code",
   "execution_count": 1,
   "metadata": {},
   "outputs": [],
   "source": [
    "import pandas as pd\n",
    "import numpy as np\n",
    "import matplotlib.pyplot as plt\n",
    "import seaborn as sns\n",
    "import os\n",
    "import re\n",
    "from tqdm.notebook import tqdm\n",
    "\n",
    "import tensorflow as tf\n",
    "from tensorflow import keras\n",
    "from keras.models import load_model\n",
    "from sklearn.metrics import f1_score\n",
    "from keras.callbacks import EarlyStopping, ModelCheckpoint\n",
    "from sklearn.model_selection import train_test_split\n",
    "from keras.models import load_model"
   ]
  },
  {
   "cell_type": "code",
   "execution_count": 2,
   "metadata": {},
   "outputs": [],
   "source": [
    "path = \"C:/Users/ekgus/Desktop/카드소비/\""
   ]
  },
  {
   "cell_type": "code",
   "execution_count": 3,
   "metadata": {},
   "outputs": [
    {
     "data": {
      "text/plain": [
       "['.ipynb_checkpoints',\n",
       " 'august.csv',\n",
       " 'card_dh.ipynb',\n",
       " 'DownloadData_20230304121208.zip',\n",
       " 'EX_F_BBP23_00019.csv',\n",
       " 'httpswww.bigdata-finance.krdatasetd.txt',\n",
       " 'july.csv',\n",
       " 'june.csv']"
      ]
     },
     "execution_count": 3,
     "metadata": {},
     "output_type": "execute_result"
    }
   ],
   "source": [
    "os.listdir(path)"
   ]
  },
  {
   "cell_type": "code",
   "execution_count": 4,
   "metadata": {},
   "outputs": [],
   "source": [
    "june = pd.read_csv(\"june.csv\",encoding = 'cp949',low_memory =False)"
   ]
  },
  {
   "cell_type": "code",
   "execution_count": 5,
   "metadata": {},
   "outputs": [],
   "source": [
    "july = pd.read_csv(\"july.csv\", encoding = 'cp949', low_memory =False)"
   ]
  },
  {
   "cell_type": "code",
   "execution_count": 6,
   "metadata": {},
   "outputs": [],
   "source": [
    "august = pd.read_csv(\"august.csv\", encoding = 'cp949', low_memory = False)"
   ]
  },
  {
   "cell_type": "code",
   "execution_count": 7,
   "metadata": {},
   "outputs": [
    {
     "name": "stdout",
     "output_type": "stream",
     "text": [
      "june 10061735\n",
      "july 9756266\n",
      "august 7317159\n"
     ]
    },
    {
     "data": {
      "text/plain": [
       "27135160"
      ]
     },
     "execution_count": 7,
     "metadata": {},
     "output_type": "execute_result"
    }
   ],
   "source": [
    "print(\"june\", len(june))\n",
    "print(\"july\", len(july))\n",
    "print(\"august\", len(august))\n",
    "s = len(june) + len(july) + len(august)\n",
    "s"
   ]
  },
  {
   "cell_type": "code",
   "execution_count": 8,
   "metadata": {},
   "outputs": [
    {
     "name": "stdout",
     "output_type": "stream",
     "text": [
      "          strd_date  strd_tizn_val ctpr_nm ccg_nm adn_dgnm   adng_no cardc_nm  \\\n",
      "0          20220601              0   부산광역시     중구      대청동  21010530       코나   \n",
      "1          20220601              0   부산광역시     중구      중앙동  21010510       부산   \n",
      "2          20220601              0   부산광역시     중구      중앙동  21010510       부산   \n",
      "3          20220601              0   부산광역시     중구      중앙동  21010510       부산   \n",
      "4          20220601              0   부산광역시     중구      중앙동  21010510       코나   \n",
      "...             ...            ...     ...    ...      ...       ...      ...   \n",
      "27135155   20220801              0   부산광역시    영도구     동삼1동  21040650       코나   \n",
      "27135156   20220801              0   부산광역시    영도구     동삼1동  21040650       코나   \n",
      "27135157   20220801              0   부산광역시    영도구     동삼1동  21040650       코나   \n",
      "27135158   20220801              0   부산광역시    영도구     동삼1동  21040650       하나   \n",
      "27135159   20220801              0   부산광역시    영도구     동삼1동  21040650       하나   \n",
      "\n",
      "          tpbuz_cd tpbuz_nm  bth_yr sex_cd  trns_cnt  ttl_trns_amt  \n",
      "0             4010    편 의 점    1973      M         1          7350  \n",
      "1             4010    편 의 점    1981      F         1          3700  \n",
      "2             4010    편 의 점    1992      M         1          7500  \n",
      "3             4010    편 의 점    1995      M         1          2700  \n",
      "4             4010    편 의 점    1976      M         1         13900  \n",
      "...            ...      ...     ...    ...       ...           ...  \n",
      "27135155      4020     슈퍼마켓    1958      M         1         30000  \n",
      "27135156      8013       주점    1998      M         1         59600  \n",
      "27135157      8399   기타음료식품    1998      F         1          7500  \n",
      "27135158      4010    편 의 점    1971      F         2          7600  \n",
      "27135159      4010    편 의 점    2001      M         1          2200  \n",
      "\n",
      "[27135160 rows x 13 columns]\n"
     ]
    }
   ],
   "source": [
    "df = pd.concat([june, july,august], ignore_index=True)\n",
    "print(df)"
   ]
  },
  {
   "cell_type": "code",
   "execution_count": 9,
   "metadata": {},
   "outputs": [
    {
     "name": "stdout",
     "output_type": "stream",
     "text": [
      "strd_date        0\n",
      "strd_tizn_val    0\n",
      "ctpr_nm          0\n",
      "ccg_nm           0\n",
      "adn_dgnm         0\n",
      "adng_no          0\n",
      "cardc_nm         0\n",
      "tpbuz_cd         0\n",
      "tpbuz_nm         0\n",
      "bth_yr           0\n",
      "sex_cd           0\n",
      "trns_cnt         0\n",
      "ttl_trns_amt     0\n",
      "dtype: int64\n"
     ]
    }
   ],
   "source": [
    "print(df.isnull().sum())"
   ]
  },
  {
   "cell_type": "code",
   "execution_count": 10,
   "metadata": {},
   "outputs": [
    {
     "name": "stdout",
     "output_type": "stream",
     "text": [
      "<class 'pandas.core.frame.DataFrame'>\n",
      "RangeIndex: 27135160 entries, 0 to 27135159\n",
      "Data columns (total 13 columns):\n",
      " #   Column         Dtype \n",
      "---  ------         ----- \n",
      " 0   strd_date      int64 \n",
      " 1   strd_tizn_val  int64 \n",
      " 2   ctpr_nm        object\n",
      " 3   ccg_nm         object\n",
      " 4   adn_dgnm       object\n",
      " 5   adng_no        int64 \n",
      " 6   cardc_nm       object\n",
      " 7   tpbuz_cd       int64 \n",
      " 8   tpbuz_nm       object\n",
      " 9   bth_yr         int64 \n",
      " 10  sex_cd         object\n",
      " 11  trns_cnt       int64 \n",
      " 12  ttl_trns_amt   int64 \n",
      "dtypes: int64(7), object(6)\n",
      "memory usage: 2.6+ GB\n",
      "None\n"
     ]
    }
   ],
   "source": [
    "print(df.info())"
   ]
  },
  {
   "cell_type": "code",
   "execution_count": 11,
   "metadata": {},
   "outputs": [],
   "source": [
    "df = df.rename(columns = {'strd_date':'기준일자', 'strd_tizn_val':'기준시간대값', 'ctpr_nm':'시도명', 'ccg_nm':'시군구명', 'adn_dgnm':'행정동명',\n",
    "       'adng_no':'행정동번호', 'cardc_nm':'카드사명', 'tpbuz_cd':'업종코드', 'tpbuz_nm':'업종명', 'bth_yr':'출생년도', 'sex_cd':'성별코드',\n",
    "       'trns_cnt':'거래건수', 'ttl_trns_amt':'총거래금액'})"
   ]
  },
  {
   "cell_type": "code",
   "execution_count": 12,
   "metadata": {
    "scrolled": false
   },
   "outputs": [
    {
     "data": {
      "text/html": [
       "<div>\n",
       "<style scoped>\n",
       "    .dataframe tbody tr th:only-of-type {\n",
       "        vertical-align: middle;\n",
       "    }\n",
       "\n",
       "    .dataframe tbody tr th {\n",
       "        vertical-align: top;\n",
       "    }\n",
       "\n",
       "    .dataframe thead th {\n",
       "        text-align: right;\n",
       "    }\n",
       "</style>\n",
       "<table border=\"1\" class=\"dataframe\">\n",
       "  <thead>\n",
       "    <tr style=\"text-align: right;\">\n",
       "      <th></th>\n",
       "      <th>기준일자</th>\n",
       "      <th>기준시간대값</th>\n",
       "      <th>시도명</th>\n",
       "      <th>시군구명</th>\n",
       "      <th>행정동명</th>\n",
       "      <th>행정동번호</th>\n",
       "      <th>카드사명</th>\n",
       "      <th>업종코드</th>\n",
       "      <th>업종명</th>\n",
       "      <th>출생년도</th>\n",
       "      <th>성별코드</th>\n",
       "      <th>거래건수</th>\n",
       "      <th>총거래금액</th>\n",
       "    </tr>\n",
       "  </thead>\n",
       "  <tbody>\n",
       "    <tr>\n",
       "      <th>0</th>\n",
       "      <td>20220601</td>\n",
       "      <td>0</td>\n",
       "      <td>부산광역시</td>\n",
       "      <td>중구</td>\n",
       "      <td>대청동</td>\n",
       "      <td>21010530</td>\n",
       "      <td>코나</td>\n",
       "      <td>4010</td>\n",
       "      <td>편 의 점</td>\n",
       "      <td>1973</td>\n",
       "      <td>M</td>\n",
       "      <td>1</td>\n",
       "      <td>7350</td>\n",
       "    </tr>\n",
       "    <tr>\n",
       "      <th>1</th>\n",
       "      <td>20220601</td>\n",
       "      <td>0</td>\n",
       "      <td>부산광역시</td>\n",
       "      <td>중구</td>\n",
       "      <td>중앙동</td>\n",
       "      <td>21010510</td>\n",
       "      <td>부산</td>\n",
       "      <td>4010</td>\n",
       "      <td>편 의 점</td>\n",
       "      <td>1981</td>\n",
       "      <td>F</td>\n",
       "      <td>1</td>\n",
       "      <td>3700</td>\n",
       "    </tr>\n",
       "    <tr>\n",
       "      <th>2</th>\n",
       "      <td>20220601</td>\n",
       "      <td>0</td>\n",
       "      <td>부산광역시</td>\n",
       "      <td>중구</td>\n",
       "      <td>중앙동</td>\n",
       "      <td>21010510</td>\n",
       "      <td>부산</td>\n",
       "      <td>4010</td>\n",
       "      <td>편 의 점</td>\n",
       "      <td>1992</td>\n",
       "      <td>M</td>\n",
       "      <td>1</td>\n",
       "      <td>7500</td>\n",
       "    </tr>\n",
       "    <tr>\n",
       "      <th>3</th>\n",
       "      <td>20220601</td>\n",
       "      <td>0</td>\n",
       "      <td>부산광역시</td>\n",
       "      <td>중구</td>\n",
       "      <td>중앙동</td>\n",
       "      <td>21010510</td>\n",
       "      <td>부산</td>\n",
       "      <td>4010</td>\n",
       "      <td>편 의 점</td>\n",
       "      <td>1995</td>\n",
       "      <td>M</td>\n",
       "      <td>1</td>\n",
       "      <td>2700</td>\n",
       "    </tr>\n",
       "    <tr>\n",
       "      <th>4</th>\n",
       "      <td>20220601</td>\n",
       "      <td>0</td>\n",
       "      <td>부산광역시</td>\n",
       "      <td>중구</td>\n",
       "      <td>중앙동</td>\n",
       "      <td>21010510</td>\n",
       "      <td>코나</td>\n",
       "      <td>4010</td>\n",
       "      <td>편 의 점</td>\n",
       "      <td>1976</td>\n",
       "      <td>M</td>\n",
       "      <td>1</td>\n",
       "      <td>13900</td>\n",
       "    </tr>\n",
       "  </tbody>\n",
       "</table>\n",
       "</div>"
      ],
      "text/plain": [
       "       기준일자  기준시간대값    시도명 시군구명 행정동명     행정동번호 카드사명  업종코드    업종명  출생년도 성별코드  \\\n",
       "0  20220601       0  부산광역시   중구  대청동  21010530   코나  4010  편 의 점  1973    M   \n",
       "1  20220601       0  부산광역시   중구  중앙동  21010510   부산  4010  편 의 점  1981    F   \n",
       "2  20220601       0  부산광역시   중구  중앙동  21010510   부산  4010  편 의 점  1992    M   \n",
       "3  20220601       0  부산광역시   중구  중앙동  21010510   부산  4010  편 의 점  1995    M   \n",
       "4  20220601       0  부산광역시   중구  중앙동  21010510   코나  4010  편 의 점  1976    M   \n",
       "\n",
       "   거래건수  총거래금액  \n",
       "0     1   7350  \n",
       "1     1   3700  \n",
       "2     1   7500  \n",
       "3     1   2700  \n",
       "4     1  13900  "
      ]
     },
     "execution_count": 12,
     "metadata": {},
     "output_type": "execute_result"
    }
   ],
   "source": [
    "df.head()"
   ]
  },
  {
   "cell_type": "code",
   "execution_count": 13,
   "metadata": {},
   "outputs": [
    {
     "data": {
      "text/html": [
       "<div>\n",
       "<style scoped>\n",
       "    .dataframe tbody tr th:only-of-type {\n",
       "        vertical-align: middle;\n",
       "    }\n",
       "\n",
       "    .dataframe tbody tr th {\n",
       "        vertical-align: top;\n",
       "    }\n",
       "\n",
       "    .dataframe thead th {\n",
       "        text-align: right;\n",
       "    }\n",
       "</style>\n",
       "<table border=\"1\" class=\"dataframe\">\n",
       "  <thead>\n",
       "    <tr style=\"text-align: right;\">\n",
       "      <th></th>\n",
       "      <th>기준일자</th>\n",
       "      <th>기준시간대값</th>\n",
       "      <th>행정동번호</th>\n",
       "      <th>업종코드</th>\n",
       "      <th>출생년도</th>\n",
       "      <th>거래건수</th>\n",
       "      <th>총거래금액</th>\n",
       "    </tr>\n",
       "  </thead>\n",
       "  <tbody>\n",
       "    <tr>\n",
       "      <th>count</th>\n",
       "      <td>2.713516e+07</td>\n",
       "      <td>2.713516e+07</td>\n",
       "      <td>2.713516e+07</td>\n",
       "      <td>2.713516e+07</td>\n",
       "      <td>2.713516e+07</td>\n",
       "      <td>2.713516e+07</td>\n",
       "      <td>2.713516e+07</td>\n",
       "    </tr>\n",
       "    <tr>\n",
       "      <th>mean</th>\n",
       "      <td>2.022070e+07</td>\n",
       "      <td>1.466897e+01</td>\n",
       "      <td>2.110182e+07</td>\n",
       "      <td>6.238941e+03</td>\n",
       "      <td>1.977280e+03</td>\n",
       "      <td>1.102882e+00</td>\n",
       "      <td>2.237177e+04</td>\n",
       "    </tr>\n",
       "    <tr>\n",
       "      <th>std</th>\n",
       "      <td>7.979648e+01</td>\n",
       "      <td>4.456955e+00</td>\n",
       "      <td>8.615880e+04</td>\n",
       "      <td>2.131983e+03</td>\n",
       "      <td>1.484848e+01</td>\n",
       "      <td>3.846163e-01</td>\n",
       "      <td>4.577845e+04</td>\n",
       "    </tr>\n",
       "    <tr>\n",
       "      <th>min</th>\n",
       "      <td>2.022060e+07</td>\n",
       "      <td>0.000000e+00</td>\n",
       "      <td>2.101051e+07</td>\n",
       "      <td>1.001000e+03</td>\n",
       "      <td>1.921000e+03</td>\n",
       "      <td>1.000000e+00</td>\n",
       "      <td>1.000000e+00</td>\n",
       "    </tr>\n",
       "    <tr>\n",
       "      <th>25%</th>\n",
       "      <td>2.022062e+07</td>\n",
       "      <td>1.200000e+01</td>\n",
       "      <td>2.106055e+07</td>\n",
       "      <td>4.020000e+03</td>\n",
       "      <td>1.967000e+03</td>\n",
       "      <td>1.000000e+00</td>\n",
       "      <td>4.400000e+03</td>\n",
       "    </tr>\n",
       "    <tr>\n",
       "      <th>50%</th>\n",
       "      <td>2.022071e+07</td>\n",
       "      <td>1.500000e+01</td>\n",
       "      <td>2.109064e+07</td>\n",
       "      <td>7.050000e+03</td>\n",
       "      <td>1.978000e+03</td>\n",
       "      <td>1.000000e+00</td>\n",
       "      <td>9.000000e+03</td>\n",
       "    </tr>\n",
       "    <tr>\n",
       "      <th>75%</th>\n",
       "      <td>2.022080e+07</td>\n",
       "      <td>1.800000e+01</td>\n",
       "      <td>2.112059e+07</td>\n",
       "      <td>8.006000e+03</td>\n",
       "      <td>1.989000e+03</td>\n",
       "      <td>1.000000e+00</td>\n",
       "      <td>2.200000e+04</td>\n",
       "    </tr>\n",
       "    <tr>\n",
       "      <th>max</th>\n",
       "      <td>2.022083e+07</td>\n",
       "      <td>2.300000e+01</td>\n",
       "      <td>2.151033e+07</td>\n",
       "      <td>9.998000e+03</td>\n",
       "      <td>4.607000e+03</td>\n",
       "      <td>7.100000e+01</td>\n",
       "      <td>2.413460e+06</td>\n",
       "    </tr>\n",
       "  </tbody>\n",
       "</table>\n",
       "</div>"
      ],
      "text/plain": [
       "               기준일자        기준시간대값         행정동번호          업종코드          출생년도  \\\n",
       "count  2.713516e+07  2.713516e+07  2.713516e+07  2.713516e+07  2.713516e+07   \n",
       "mean   2.022070e+07  1.466897e+01  2.110182e+07  6.238941e+03  1.977280e+03   \n",
       "std    7.979648e+01  4.456955e+00  8.615880e+04  2.131983e+03  1.484848e+01   \n",
       "min    2.022060e+07  0.000000e+00  2.101051e+07  1.001000e+03  1.921000e+03   \n",
       "25%    2.022062e+07  1.200000e+01  2.106055e+07  4.020000e+03  1.967000e+03   \n",
       "50%    2.022071e+07  1.500000e+01  2.109064e+07  7.050000e+03  1.978000e+03   \n",
       "75%    2.022080e+07  1.800000e+01  2.112059e+07  8.006000e+03  1.989000e+03   \n",
       "max    2.022083e+07  2.300000e+01  2.151033e+07  9.998000e+03  4.607000e+03   \n",
       "\n",
       "               거래건수         총거래금액  \n",
       "count  2.713516e+07  2.713516e+07  \n",
       "mean   1.102882e+00  2.237177e+04  \n",
       "std    3.846163e-01  4.577845e+04  \n",
       "min    1.000000e+00  1.000000e+00  \n",
       "25%    1.000000e+00  4.400000e+03  \n",
       "50%    1.000000e+00  9.000000e+03  \n",
       "75%    1.000000e+00  2.200000e+04  \n",
       "max    7.100000e+01  2.413460e+06  "
      ]
     },
     "execution_count": 13,
     "metadata": {},
     "output_type": "execute_result"
    }
   ],
   "source": [
    "df.describe()"
   ]
  },
  {
   "cell_type": "code",
   "execution_count": 14,
   "metadata": {},
   "outputs": [
    {
     "data": {
      "text/html": [
       "<div>\n",
       "<style scoped>\n",
       "    .dataframe tbody tr th:only-of-type {\n",
       "        vertical-align: middle;\n",
       "    }\n",
       "\n",
       "    .dataframe tbody tr th {\n",
       "        vertical-align: top;\n",
       "    }\n",
       "\n",
       "    .dataframe thead th {\n",
       "        text-align: right;\n",
       "    }\n",
       "</style>\n",
       "<table border=\"1\" class=\"dataframe\">\n",
       "  <thead>\n",
       "    <tr style=\"text-align: right;\">\n",
       "      <th></th>\n",
       "      <th>기준일자</th>\n",
       "      <th>기준시간대값</th>\n",
       "      <th>행정동번호</th>\n",
       "      <th>업종코드</th>\n",
       "      <th>출생년도</th>\n",
       "      <th>거래건수</th>\n",
       "      <th>총거래금액</th>\n",
       "    </tr>\n",
       "  </thead>\n",
       "  <tbody>\n",
       "    <tr>\n",
       "      <th>count</th>\n",
       "      <td>27135160.00</td>\n",
       "      <td>27135160.00</td>\n",
       "      <td>27135160.00</td>\n",
       "      <td>27135160.00</td>\n",
       "      <td>27135160.00</td>\n",
       "      <td>27135160.00</td>\n",
       "      <td>27135160.00</td>\n",
       "    </tr>\n",
       "    <tr>\n",
       "      <th>mean</th>\n",
       "      <td>20220704.85</td>\n",
       "      <td>14.67</td>\n",
       "      <td>21101816.97</td>\n",
       "      <td>6238.94</td>\n",
       "      <td>1977.28</td>\n",
       "      <td>1.10</td>\n",
       "      <td>22371.77</td>\n",
       "    </tr>\n",
       "    <tr>\n",
       "      <th>std</th>\n",
       "      <td>79.80</td>\n",
       "      <td>4.46</td>\n",
       "      <td>86158.80</td>\n",
       "      <td>2131.98</td>\n",
       "      <td>14.85</td>\n",
       "      <td>0.38</td>\n",
       "      <td>45778.45</td>\n",
       "    </tr>\n",
       "    <tr>\n",
       "      <th>min</th>\n",
       "      <td>20220601.00</td>\n",
       "      <td>0.00</td>\n",
       "      <td>21010510.00</td>\n",
       "      <td>1001.00</td>\n",
       "      <td>1921.00</td>\n",
       "      <td>1.00</td>\n",
       "      <td>1.00</td>\n",
       "    </tr>\n",
       "    <tr>\n",
       "      <th>25%</th>\n",
       "      <td>20220620.00</td>\n",
       "      <td>12.00</td>\n",
       "      <td>21060550.00</td>\n",
       "      <td>4020.00</td>\n",
       "      <td>1967.00</td>\n",
       "      <td>1.00</td>\n",
       "      <td>4400.00</td>\n",
       "    </tr>\n",
       "    <tr>\n",
       "      <th>50%</th>\n",
       "      <td>20220711.00</td>\n",
       "      <td>15.00</td>\n",
       "      <td>21090640.00</td>\n",
       "      <td>7050.00</td>\n",
       "      <td>1978.00</td>\n",
       "      <td>1.00</td>\n",
       "      <td>9000.00</td>\n",
       "    </tr>\n",
       "    <tr>\n",
       "      <th>75%</th>\n",
       "      <td>20220802.00</td>\n",
       "      <td>18.00</td>\n",
       "      <td>21120590.00</td>\n",
       "      <td>8006.00</td>\n",
       "      <td>1989.00</td>\n",
       "      <td>1.00</td>\n",
       "      <td>22000.00</td>\n",
       "    </tr>\n",
       "    <tr>\n",
       "      <th>max</th>\n",
       "      <td>20220831.00</td>\n",
       "      <td>23.00</td>\n",
       "      <td>21510330.00</td>\n",
       "      <td>9998.00</td>\n",
       "      <td>4607.00</td>\n",
       "      <td>71.00</td>\n",
       "      <td>2413460.00</td>\n",
       "    </tr>\n",
       "  </tbody>\n",
       "</table>\n",
       "</div>"
      ],
      "text/plain": [
       "             기준일자      기준시간대값       행정동번호        업종코드        출생년도        거래건수  \\\n",
       "count 27135160.00 27135160.00 27135160.00 27135160.00 27135160.00 27135160.00   \n",
       "mean  20220704.85       14.67 21101816.97     6238.94     1977.28        1.10   \n",
       "std         79.80        4.46    86158.80     2131.98       14.85        0.38   \n",
       "min   20220601.00        0.00 21010510.00     1001.00     1921.00        1.00   \n",
       "25%   20220620.00       12.00 21060550.00     4020.00     1967.00        1.00   \n",
       "50%   20220711.00       15.00 21090640.00     7050.00     1978.00        1.00   \n",
       "75%   20220802.00       18.00 21120590.00     8006.00     1989.00        1.00   \n",
       "max   20220831.00       23.00 21510330.00     9998.00     4607.00       71.00   \n",
       "\n",
       "            총거래금액  \n",
       "count 27135160.00  \n",
       "mean     22371.77  \n",
       "std      45778.45  \n",
       "min          1.00  \n",
       "25%       4400.00  \n",
       "50%       9000.00  \n",
       "75%      22000.00  \n",
       "max    2413460.00  "
      ]
     },
     "execution_count": 14,
     "metadata": {},
     "output_type": "execute_result"
    }
   ],
   "source": [
    "#평균, 표준편차, quantile확인 -> trns_cnt 생각해볼 필요\n",
    "pd.set_option('display.float_format', '{:.2f}'.format)\n",
    "df.describe()"
   ]
  },
  {
   "cell_type": "code",
   "execution_count": 16,
   "metadata": {},
   "outputs": [
    {
     "data": {
      "image/png": "[encoded data removed]",
      "text/plain": [
       "<Figure size 864x864 with 2 Axes>"
      ]
     },
     "metadata": {
      "needs_background": "light"
     },
     "output_type": "display_data"
    }
   ],
   "source": [
    "#변수 상관관계 확인 ->큰 상관관계 보이지 않음.\n",
    "plt.figure(figsize = (12, 12))\n",
    "sns.heatmap(df.corr(), annot = True)\n",
    "plt.rcParams['font.family'] = 'NanumGothic'\n",
    "plt.rcParams['font.family'] = 'Malgun Gothic' #->한글 안깨지게"
   ]
  },
  {
   "cell_type": "markdown",
   "metadata": {},
   "source": [
    "# strd_date 기준일자"
   ]
  },
  {
   "cell_type": "code",
   "execution_count": 17,
   "metadata": {},
   "outputs": [
    {
     "data": {
      "image/png": "[encoded data removed]",
      "text/plain": [
       "<Figure size 360x360 with 1 Axes>"
      ]
     },
     "metadata": {
      "needs_background": "light"
     },
     "output_type": "display_data"
    }
   ],
   "source": [
    "sns.displot(data=df,x='기준일자')\n",
    "plt.show()\n",
    "#->확인 안해도 될것같음"
   ]
  },
  {
   "cell_type": "code",
   "execution_count": 18,
   "metadata": {
    "scrolled": true
   },
   "outputs": [
    {
     "data": {
      "text/plain": [
       "20220603    405347\n",
       "20220611    402782\n",
       "20220610    402468\n",
       "20220604    394645\n",
       "20220617    382423\n",
       "             ...  \n",
       "20220829    182203\n",
       "20220821    173513\n",
       "20220830    166013\n",
       "20220831    157670\n",
       "20220828    144124\n",
       "Name: 기준일자, Length: 92, dtype: int64"
      ]
     },
     "execution_count": 18,
     "metadata": {},
     "output_type": "execute_result"
    }
   ],
   "source": [
    "#월,일자 별 갯수 확인\n",
    "df['기준일자'].value_counts()"
   ]
  },
  {
   "cell_type": "code",
   "execution_count": 19,
   "metadata": {},
   "outputs": [
    {
     "name": "stdout",
     "output_type": "stream",
     "text": [
      "0           202206\n",
      "1           202206\n",
      "2           202206\n",
      "3           202206\n",
      "4           202206\n",
      "             ...  \n",
      "27135155    202208\n",
      "27135156    202208\n",
      "27135157    202208\n",
      "27135158    202208\n",
      "27135159    202208\n",
      "Name: 기준일자, Length: 27135160, dtype: object\n"
     ]
    }
   ],
   "source": [
    "#월 별 갯수 확인위해 slice\n",
    "sliced = df['기준일자'].astype(str).str[:6]\n",
    "print(sliced)"
   ]
  },
  {
   "cell_type": "code",
   "execution_count": 20,
   "metadata": {},
   "outputs": [
    {
     "data": {
      "text/plain": [
       "202206    10061735\n",
       "202207     9756266\n",
       "202208     7317159\n",
       "Name: 기준일자, dtype: int64"
      ]
     },
     "execution_count": 20,
     "metadata": {},
     "output_type": "execute_result"
    }
   ],
   "source": [
    "dataslice = sliced.value_counts()\n",
    "dataslice\n",
    "#6월이 가장 많음 확인"
   ]
  },
  {
   "cell_type": "code",
   "execution_count": 21,
   "metadata": {},
   "outputs": [],
   "source": [
    "#strd_date type변환\n",
    "df=df.astype({'기준일자' : str})"
   ]
  },
  {
   "cell_type": "code",
   "execution_count": 22,
   "metadata": {},
   "outputs": [],
   "source": [
    "df['기준일자']=pd.to_datetime(df['기준일자'])"
   ]
  },
  {
   "cell_type": "code",
   "execution_count": 23,
   "metadata": {},
   "outputs": [
    {
     "data": {
      "text/html": [
       "<div>\n",
       "<style scoped>\n",
       "    .dataframe tbody tr th:only-of-type {\n",
       "        vertical-align: middle;\n",
       "    }\n",
       "\n",
       "    .dataframe tbody tr th {\n",
       "        vertical-align: top;\n",
       "    }\n",
       "\n",
       "    .dataframe thead th {\n",
       "        text-align: right;\n",
       "    }\n",
       "</style>\n",
       "<table border=\"1\" class=\"dataframe\">\n",
       "  <thead>\n",
       "    <tr style=\"text-align: right;\">\n",
       "      <th></th>\n",
       "      <th>기준일자</th>\n",
       "      <th>기준시간대값</th>\n",
       "      <th>시도명</th>\n",
       "      <th>시군구명</th>\n",
       "      <th>행정동명</th>\n",
       "      <th>행정동번호</th>\n",
       "      <th>카드사명</th>\n",
       "      <th>업종코드</th>\n",
       "      <th>업종명</th>\n",
       "      <th>출생년도</th>\n",
       "      <th>성별코드</th>\n",
       "      <th>거래건수</th>\n",
       "      <th>총거래금액</th>\n",
       "    </tr>\n",
       "  </thead>\n",
       "  <tbody>\n",
       "    <tr>\n",
       "      <th>0</th>\n",
       "      <td>2022-06-01</td>\n",
       "      <td>0</td>\n",
       "      <td>부산광역시</td>\n",
       "      <td>중구</td>\n",
       "      <td>대청동</td>\n",
       "      <td>21010530</td>\n",
       "      <td>코나</td>\n",
       "      <td>4010</td>\n",
       "      <td>편 의 점</td>\n",
       "      <td>1973</td>\n",
       "      <td>M</td>\n",
       "      <td>1</td>\n",
       "      <td>7350</td>\n",
       "    </tr>\n",
       "    <tr>\n",
       "      <th>1</th>\n",
       "      <td>2022-06-01</td>\n",
       "      <td>0</td>\n",
       "      <td>부산광역시</td>\n",
       "      <td>중구</td>\n",
       "      <td>중앙동</td>\n",
       "      <td>21010510</td>\n",
       "      <td>부산</td>\n",
       "      <td>4010</td>\n",
       "      <td>편 의 점</td>\n",
       "      <td>1981</td>\n",
       "      <td>F</td>\n",
       "      <td>1</td>\n",
       "      <td>3700</td>\n",
       "    </tr>\n",
       "    <tr>\n",
       "      <th>2</th>\n",
       "      <td>2022-06-01</td>\n",
       "      <td>0</td>\n",
       "      <td>부산광역시</td>\n",
       "      <td>중구</td>\n",
       "      <td>중앙동</td>\n",
       "      <td>21010510</td>\n",
       "      <td>부산</td>\n",
       "      <td>4010</td>\n",
       "      <td>편 의 점</td>\n",
       "      <td>1992</td>\n",
       "      <td>M</td>\n",
       "      <td>1</td>\n",
       "      <td>7500</td>\n",
       "    </tr>\n",
       "    <tr>\n",
       "      <th>3</th>\n",
       "      <td>2022-06-01</td>\n",
       "      <td>0</td>\n",
       "      <td>부산광역시</td>\n",
       "      <td>중구</td>\n",
       "      <td>중앙동</td>\n",
       "      <td>21010510</td>\n",
       "      <td>부산</td>\n",
       "      <td>4010</td>\n",
       "      <td>편 의 점</td>\n",
       "      <td>1995</td>\n",
       "      <td>M</td>\n",
       "      <td>1</td>\n",
       "      <td>2700</td>\n",
       "    </tr>\n",
       "    <tr>\n",
       "      <th>4</th>\n",
       "      <td>2022-06-01</td>\n",
       "      <td>0</td>\n",
       "      <td>부산광역시</td>\n",
       "      <td>중구</td>\n",
       "      <td>중앙동</td>\n",
       "      <td>21010510</td>\n",
       "      <td>코나</td>\n",
       "      <td>4010</td>\n",
       "      <td>편 의 점</td>\n",
       "      <td>1976</td>\n",
       "      <td>M</td>\n",
       "      <td>1</td>\n",
       "      <td>13900</td>\n",
       "    </tr>\n",
       "  </tbody>\n",
       "</table>\n",
       "</div>"
      ],
      "text/plain": [
       "        기준일자  기준시간대값    시도명 시군구명 행정동명     행정동번호 카드사명  업종코드    업종명  출생년도 성별코드  \\\n",
       "0 2022-06-01       0  부산광역시   중구  대청동  21010530   코나  4010  편 의 점  1973    M   \n",
       "1 2022-06-01       0  부산광역시   중구  중앙동  21010510   부산  4010  편 의 점  1981    F   \n",
       "2 2022-06-01       0  부산광역시   중구  중앙동  21010510   부산  4010  편 의 점  1992    M   \n",
       "3 2022-06-01       0  부산광역시   중구  중앙동  21010510   부산  4010  편 의 점  1995    M   \n",
       "4 2022-06-01       0  부산광역시   중구  중앙동  21010510   코나  4010  편 의 점  1976    M   \n",
       "\n",
       "   거래건수  총거래금액  \n",
       "0     1   7350  \n",
       "1     1   3700  \n",
       "2     1   7500  \n",
       "3     1   2700  \n",
       "4     1  13900  "
      ]
     },
     "execution_count": 23,
     "metadata": {},
     "output_type": "execute_result"
    }
   ],
   "source": [
    "df.head()"
   ]
  },
  {
   "cell_type": "code",
   "execution_count": 24,
   "metadata": {},
   "outputs": [
    {
     "data": {
      "text/plain": [
       "0          2022-06-01\n",
       "1          2022-06-01\n",
       "2          2022-06-01\n",
       "3          2022-06-01\n",
       "4          2022-06-01\n",
       "              ...    \n",
       "27135155   2022-08-01\n",
       "27135156   2022-08-01\n",
       "27135157   2022-08-01\n",
       "27135158   2022-08-01\n",
       "27135159   2022-08-01\n",
       "Name: 기준일자, Length: 27135160, dtype: datetime64[ns]"
      ]
     },
     "execution_count": 24,
     "metadata": {},
     "output_type": "execute_result"
    }
   ],
   "source": [
    "from datetime import datetime\n",
    "df['기준일자']"
   ]
  },
  {
   "cell_type": "code",
   "execution_count": 25,
   "metadata": {},
   "outputs": [
    {
     "data": {
      "text/html": [
       "<div>\n",
       "<style scoped>\n",
       "    .dataframe tbody tr th:only-of-type {\n",
       "        vertical-align: middle;\n",
       "    }\n",
       "\n",
       "    .dataframe tbody tr th {\n",
       "        vertical-align: top;\n",
       "    }\n",
       "\n",
       "    .dataframe thead th {\n",
       "        text-align: right;\n",
       "    }\n",
       "</style>\n",
       "<table border=\"1\" class=\"dataframe\">\n",
       "  <thead>\n",
       "    <tr style=\"text-align: right;\">\n",
       "      <th></th>\n",
       "      <th>기준일자</th>\n",
       "      <th>기준시간대값</th>\n",
       "      <th>시도명</th>\n",
       "      <th>시군구명</th>\n",
       "      <th>행정동명</th>\n",
       "      <th>행정동번호</th>\n",
       "      <th>카드사명</th>\n",
       "      <th>업종코드</th>\n",
       "      <th>업종명</th>\n",
       "      <th>출생년도</th>\n",
       "      <th>성별코드</th>\n",
       "      <th>거래건수</th>\n",
       "      <th>총거래금액</th>\n",
       "      <th>요일</th>\n",
       "    </tr>\n",
       "  </thead>\n",
       "  <tbody>\n",
       "    <tr>\n",
       "      <th>0</th>\n",
       "      <td>2022-06-01</td>\n",
       "      <td>0</td>\n",
       "      <td>부산광역시</td>\n",
       "      <td>중구</td>\n",
       "      <td>대청동</td>\n",
       "      <td>21010530</td>\n",
       "      <td>코나</td>\n",
       "      <td>4010</td>\n",
       "      <td>편 의 점</td>\n",
       "      <td>1973</td>\n",
       "      <td>M</td>\n",
       "      <td>1</td>\n",
       "      <td>7350</td>\n",
       "      <td>Wednesday</td>\n",
       "    </tr>\n",
       "    <tr>\n",
       "      <th>1</th>\n",
       "      <td>2022-06-01</td>\n",
       "      <td>0</td>\n",
       "      <td>부산광역시</td>\n",
       "      <td>중구</td>\n",
       "      <td>중앙동</td>\n",
       "      <td>21010510</td>\n",
       "      <td>부산</td>\n",
       "      <td>4010</td>\n",
       "      <td>편 의 점</td>\n",
       "      <td>1981</td>\n",
       "      <td>F</td>\n",
       "      <td>1</td>\n",
       "      <td>3700</td>\n",
       "      <td>Wednesday</td>\n",
       "    </tr>\n",
       "    <tr>\n",
       "      <th>2</th>\n",
       "      <td>2022-06-01</td>\n",
       "      <td>0</td>\n",
       "      <td>부산광역시</td>\n",
       "      <td>중구</td>\n",
       "      <td>중앙동</td>\n",
       "      <td>21010510</td>\n",
       "      <td>부산</td>\n",
       "      <td>4010</td>\n",
       "      <td>편 의 점</td>\n",
       "      <td>1992</td>\n",
       "      <td>M</td>\n",
       "      <td>1</td>\n",
       "      <td>7500</td>\n",
       "      <td>Wednesday</td>\n",
       "    </tr>\n",
       "    <tr>\n",
       "      <th>3</th>\n",
       "      <td>2022-06-01</td>\n",
       "      <td>0</td>\n",
       "      <td>부산광역시</td>\n",
       "      <td>중구</td>\n",
       "      <td>중앙동</td>\n",
       "      <td>21010510</td>\n",
       "      <td>부산</td>\n",
       "      <td>4010</td>\n",
       "      <td>편 의 점</td>\n",
       "      <td>1995</td>\n",
       "      <td>M</td>\n",
       "      <td>1</td>\n",
       "      <td>2700</td>\n",
       "      <td>Wednesday</td>\n",
       "    </tr>\n",
       "    <tr>\n",
       "      <th>4</th>\n",
       "      <td>2022-06-01</td>\n",
       "      <td>0</td>\n",
       "      <td>부산광역시</td>\n",
       "      <td>중구</td>\n",
       "      <td>중앙동</td>\n",
       "      <td>21010510</td>\n",
       "      <td>코나</td>\n",
       "      <td>4010</td>\n",
       "      <td>편 의 점</td>\n",
       "      <td>1976</td>\n",
       "      <td>M</td>\n",
       "      <td>1</td>\n",
       "      <td>13900</td>\n",
       "      <td>Wednesday</td>\n",
       "    </tr>\n",
       "    <tr>\n",
       "      <th>...</th>\n",
       "      <td>...</td>\n",
       "      <td>...</td>\n",
       "      <td>...</td>\n",
       "      <td>...</td>\n",
       "      <td>...</td>\n",
       "      <td>...</td>\n",
       "      <td>...</td>\n",
       "      <td>...</td>\n",
       "      <td>...</td>\n",
       "      <td>...</td>\n",
       "      <td>...</td>\n",
       "      <td>...</td>\n",
       "      <td>...</td>\n",
       "      <td>...</td>\n",
       "    </tr>\n",
       "    <tr>\n",
       "      <th>27135155</th>\n",
       "      <td>2022-08-01</td>\n",
       "      <td>0</td>\n",
       "      <td>부산광역시</td>\n",
       "      <td>영도구</td>\n",
       "      <td>동삼1동</td>\n",
       "      <td>21040650</td>\n",
       "      <td>코나</td>\n",
       "      <td>4020</td>\n",
       "      <td>슈퍼마켓</td>\n",
       "      <td>1958</td>\n",
       "      <td>M</td>\n",
       "      <td>1</td>\n",
       "      <td>30000</td>\n",
       "      <td>Monday</td>\n",
       "    </tr>\n",
       "    <tr>\n",
       "      <th>27135156</th>\n",
       "      <td>2022-08-01</td>\n",
       "      <td>0</td>\n",
       "      <td>부산광역시</td>\n",
       "      <td>영도구</td>\n",
       "      <td>동삼1동</td>\n",
       "      <td>21040650</td>\n",
       "      <td>코나</td>\n",
       "      <td>8013</td>\n",
       "      <td>주점</td>\n",
       "      <td>1998</td>\n",
       "      <td>M</td>\n",
       "      <td>1</td>\n",
       "      <td>59600</td>\n",
       "      <td>Monday</td>\n",
       "    </tr>\n",
       "    <tr>\n",
       "      <th>27135157</th>\n",
       "      <td>2022-08-01</td>\n",
       "      <td>0</td>\n",
       "      <td>부산광역시</td>\n",
       "      <td>영도구</td>\n",
       "      <td>동삼1동</td>\n",
       "      <td>21040650</td>\n",
       "      <td>코나</td>\n",
       "      <td>8399</td>\n",
       "      <td>기타음료식품</td>\n",
       "      <td>1998</td>\n",
       "      <td>F</td>\n",
       "      <td>1</td>\n",
       "      <td>7500</td>\n",
       "      <td>Monday</td>\n",
       "    </tr>\n",
       "    <tr>\n",
       "      <th>27135158</th>\n",
       "      <td>2022-08-01</td>\n",
       "      <td>0</td>\n",
       "      <td>부산광역시</td>\n",
       "      <td>영도구</td>\n",
       "      <td>동삼1동</td>\n",
       "      <td>21040650</td>\n",
       "      <td>하나</td>\n",
       "      <td>4010</td>\n",
       "      <td>편 의 점</td>\n",
       "      <td>1971</td>\n",
       "      <td>F</td>\n",
       "      <td>2</td>\n",
       "      <td>7600</td>\n",
       "      <td>Monday</td>\n",
       "    </tr>\n",
       "    <tr>\n",
       "      <th>27135159</th>\n",
       "      <td>2022-08-01</td>\n",
       "      <td>0</td>\n",
       "      <td>부산광역시</td>\n",
       "      <td>영도구</td>\n",
       "      <td>동삼1동</td>\n",
       "      <td>21040650</td>\n",
       "      <td>하나</td>\n",
       "      <td>4010</td>\n",
       "      <td>편 의 점</td>\n",
       "      <td>2001</td>\n",
       "      <td>M</td>\n",
       "      <td>1</td>\n",
       "      <td>2200</td>\n",
       "      <td>Monday</td>\n",
       "    </tr>\n",
       "  </tbody>\n",
       "</table>\n",
       "<p>27135160 rows × 14 columns</p>\n",
       "</div>"
      ],
      "text/plain": [
       "               기준일자  기준시간대값    시도명 시군구명  행정동명     행정동번호 카드사명  업종코드     업종명  \\\n",
       "0        2022-06-01       0  부산광역시   중구   대청동  21010530   코나  4010   편 의 점   \n",
       "1        2022-06-01       0  부산광역시   중구   중앙동  21010510   부산  4010   편 의 점   \n",
       "2        2022-06-01       0  부산광역시   중구   중앙동  21010510   부산  4010   편 의 점   \n",
       "3        2022-06-01       0  부산광역시   중구   중앙동  21010510   부산  4010   편 의 점   \n",
       "4        2022-06-01       0  부산광역시   중구   중앙동  21010510   코나  4010   편 의 점   \n",
       "...             ...     ...    ...  ...   ...       ...  ...   ...     ...   \n",
       "27135155 2022-08-01       0  부산광역시  영도구  동삼1동  21040650   코나  4020    슈퍼마켓   \n",
       "27135156 2022-08-01       0  부산광역시  영도구  동삼1동  21040650   코나  8013      주점   \n",
       "27135157 2022-08-01       0  부산광역시  영도구  동삼1동  21040650   코나  8399  기타음료식품   \n",
       "27135158 2022-08-01       0  부산광역시  영도구  동삼1동  21040650   하나  4010   편 의 점   \n",
       "27135159 2022-08-01       0  부산광역시  영도구  동삼1동  21040650   하나  4010   편 의 점   \n",
       "\n",
       "          출생년도 성별코드  거래건수  총거래금액         요일  \n",
       "0         1973    M     1   7350  Wednesday  \n",
       "1         1981    F     1   3700  Wednesday  \n",
       "2         1992    M     1   7500  Wednesday  \n",
       "3         1995    M     1   2700  Wednesday  \n",
       "4         1976    M     1  13900  Wednesday  \n",
       "...        ...  ...   ...    ...        ...  \n",
       "27135155  1958    M     1  30000     Monday  \n",
       "27135156  1998    M     1  59600     Monday  \n",
       "27135157  1998    F     1   7500     Monday  \n",
       "27135158  1971    F     2   7600     Monday  \n",
       "27135159  2001    M     1   2200     Monday  \n",
       "\n",
       "[27135160 rows x 14 columns]"
      ]
     },
     "execution_count": 25,
     "metadata": {},
     "output_type": "execute_result"
    }
   ],
   "source": [
    "#day_name(요일) 생성\n",
    "df['요일']=df['기준일자'].dt.day_name()\n",
    "df"
   ]
  },
  {
   "cell_type": "code",
   "execution_count": null,
   "metadata": {},
   "outputs": [],
   "source": []
  },
  {
   "cell_type": "markdown",
   "metadata": {},
   "source": [
    "# strd_tizn_val 기준시간대값"
   ]
  },
  {
   "cell_type": "code",
   "execution_count": 26,
   "metadata": {},
   "outputs": [
    {
     "data": {
      "image/png": "[encoded data removed]",
      "text/plain": [
       "<Figure size 432x288 with 1 Axes>"
      ]
     },
     "metadata": {
      "needs_background": "light"
     },
     "output_type": "display_data"
    }
   ],
   "source": [
    "sns.countplot(data=df, x=\"기준시간대값\")\n",
    "plt.show()"
   ]
  },
  {
   "cell_type": "code",
   "execution_count": 27,
   "metadata": {},
   "outputs": [
    {
     "name": "stdout",
     "output_type": "stream",
     "text": [
      "12    2594249\n",
      "18    2317544\n",
      "17    2149852\n",
      "13    2064385\n",
      "19    2022080\n",
      "16    1973444\n",
      "14    1884563\n",
      "15    1879940\n",
      "11    1835542\n",
      "20    1602146\n",
      "10    1396157\n",
      "21    1145898\n",
      "9     1115819\n",
      "8      790217\n",
      "22     732863\n",
      "23     423246\n",
      "7      365718\n",
      "0      236182\n",
      "6      176698\n",
      "1      141841\n",
      "2       89931\n",
      "5       84899\n",
      "3       59274\n",
      "4       52672\n",
      "Name: 기준시간대값, dtype: int64\n"
     ]
    },
    {
     "data": {
      "image/png": "[encoded data removed]",
      "text/plain": [
       "<Figure size 576x432 with 1 Axes>"
      ]
     },
     "metadata": {
      "needs_background": "light"
     },
     "output_type": "display_data"
    }
   ],
   "source": [
    "df.기준시간대값.value_counts().plot.bar(figsize=(8,6))\n",
    "print(df.기준시간대값.value_counts())\n",
    "#12시가 가장 많고, 그다음 18시가 많음"
   ]
  },
  {
   "cell_type": "code",
   "execution_count": 28,
   "metadata": {
    "scrolled": false
   },
   "outputs": [
    {
     "data": {
      "text/plain": [
       "기준시간대값\n",
       "0    15800.09\n",
       "1    15308.09\n",
       "2    13455.86\n",
       "3    12611.47\n",
       "4    12234.27\n",
       "5    15096.61\n",
       "6    16306.93\n",
       "7    13849.94\n",
       "8    11390.90\n",
       "9    17231.34\n",
       "10   21452.52\n",
       "11   21741.54\n",
       "12   20856.30\n",
       "13   22486.68\n",
       "14   24141.43\n",
       "15   24454.01\n",
       "16   24028.62\n",
       "17   23696.53\n",
       "18   24084.36\n",
       "19   26627.30\n",
       "20   26829.50\n",
       "21   23226.25\n",
       "22   19304.12\n",
       "23   17664.32\n",
       "Name: 총거래금액, dtype: float64"
      ]
     },
     "execution_count": 28,
     "metadata": {},
     "output_type": "execute_result"
    },
    {
     "data": {
      "image/png": "[encoded data removed]",
      "text/plain": [
       "<Figure size 432x288 with 1 Axes>"
      ]
     },
     "metadata": {
      "needs_background": "light"
     },
     "output_type": "display_data"
    }
   ],
   "source": [
    "#시간대별 총 거래금액 평균 확인 -> 20시가 가장 많음\n",
    "df.groupby(['기준시간대값'])['총거래금액'].mean().plot()\n",
    "df.groupby(['기준시간대값'])['총거래금액'].mean()"
   ]
  },
  {
   "cell_type": "code",
   "execution_count": null,
   "metadata": {},
   "outputs": [],
   "source": []
  },
  {
   "cell_type": "markdown",
   "metadata": {},
   "source": [
    "# ctpr_nm 시도명"
   ]
  },
  {
   "cell_type": "code",
   "execution_count": 29,
   "metadata": {},
   "outputs": [
    {
     "data": {
      "text/plain": [
       "array(['부산광역시'], dtype=object)"
      ]
     },
     "execution_count": 29,
     "metadata": {},
     "output_type": "execute_result"
    }
   ],
   "source": [
    "df.시도명.unique()"
   ]
  },
  {
   "cell_type": "code",
   "execution_count": 30,
   "metadata": {},
   "outputs": [],
   "source": [
    "#데이터 전체가 부산광역시 이므로 제거\n",
    "df=df.drop(['시도명'], axis=1)"
   ]
  },
  {
   "cell_type": "code",
   "execution_count": 31,
   "metadata": {},
   "outputs": [
    {
     "data": {
      "text/html": [
       "<div>\n",
       "<style scoped>\n",
       "    .dataframe tbody tr th:only-of-type {\n",
       "        vertical-align: middle;\n",
       "    }\n",
       "\n",
       "    .dataframe tbody tr th {\n",
       "        vertical-align: top;\n",
       "    }\n",
       "\n",
       "    .dataframe thead th {\n",
       "        text-align: right;\n",
       "    }\n",
       "</style>\n",
       "<table border=\"1\" class=\"dataframe\">\n",
       "  <thead>\n",
       "    <tr style=\"text-align: right;\">\n",
       "      <th></th>\n",
       "      <th>기준일자</th>\n",
       "      <th>기준시간대값</th>\n",
       "      <th>시군구명</th>\n",
       "      <th>행정동명</th>\n",
       "      <th>행정동번호</th>\n",
       "      <th>카드사명</th>\n",
       "      <th>업종코드</th>\n",
       "      <th>업종명</th>\n",
       "      <th>출생년도</th>\n",
       "      <th>성별코드</th>\n",
       "      <th>거래건수</th>\n",
       "      <th>총거래금액</th>\n",
       "      <th>요일</th>\n",
       "    </tr>\n",
       "  </thead>\n",
       "  <tbody>\n",
       "    <tr>\n",
       "      <th>0</th>\n",
       "      <td>2022-06-01</td>\n",
       "      <td>0</td>\n",
       "      <td>중구</td>\n",
       "      <td>대청동</td>\n",
       "      <td>21010530</td>\n",
       "      <td>코나</td>\n",
       "      <td>4010</td>\n",
       "      <td>편 의 점</td>\n",
       "      <td>1973</td>\n",
       "      <td>M</td>\n",
       "      <td>1</td>\n",
       "      <td>7350</td>\n",
       "      <td>Wednesday</td>\n",
       "    </tr>\n",
       "    <tr>\n",
       "      <th>1</th>\n",
       "      <td>2022-06-01</td>\n",
       "      <td>0</td>\n",
       "      <td>중구</td>\n",
       "      <td>중앙동</td>\n",
       "      <td>21010510</td>\n",
       "      <td>부산</td>\n",
       "      <td>4010</td>\n",
       "      <td>편 의 점</td>\n",
       "      <td>1981</td>\n",
       "      <td>F</td>\n",
       "      <td>1</td>\n",
       "      <td>3700</td>\n",
       "      <td>Wednesday</td>\n",
       "    </tr>\n",
       "    <tr>\n",
       "      <th>2</th>\n",
       "      <td>2022-06-01</td>\n",
       "      <td>0</td>\n",
       "      <td>중구</td>\n",
       "      <td>중앙동</td>\n",
       "      <td>21010510</td>\n",
       "      <td>부산</td>\n",
       "      <td>4010</td>\n",
       "      <td>편 의 점</td>\n",
       "      <td>1992</td>\n",
       "      <td>M</td>\n",
       "      <td>1</td>\n",
       "      <td>7500</td>\n",
       "      <td>Wednesday</td>\n",
       "    </tr>\n",
       "    <tr>\n",
       "      <th>3</th>\n",
       "      <td>2022-06-01</td>\n",
       "      <td>0</td>\n",
       "      <td>중구</td>\n",
       "      <td>중앙동</td>\n",
       "      <td>21010510</td>\n",
       "      <td>부산</td>\n",
       "      <td>4010</td>\n",
       "      <td>편 의 점</td>\n",
       "      <td>1995</td>\n",
       "      <td>M</td>\n",
       "      <td>1</td>\n",
       "      <td>2700</td>\n",
       "      <td>Wednesday</td>\n",
       "    </tr>\n",
       "    <tr>\n",
       "      <th>4</th>\n",
       "      <td>2022-06-01</td>\n",
       "      <td>0</td>\n",
       "      <td>중구</td>\n",
       "      <td>중앙동</td>\n",
       "      <td>21010510</td>\n",
       "      <td>코나</td>\n",
       "      <td>4010</td>\n",
       "      <td>편 의 점</td>\n",
       "      <td>1976</td>\n",
       "      <td>M</td>\n",
       "      <td>1</td>\n",
       "      <td>13900</td>\n",
       "      <td>Wednesday</td>\n",
       "    </tr>\n",
       "  </tbody>\n",
       "</table>\n",
       "</div>"
      ],
      "text/plain": [
       "        기준일자  기준시간대값 시군구명 행정동명     행정동번호 카드사명  업종코드    업종명  출생년도 성별코드  거래건수  \\\n",
       "0 2022-06-01       0   중구  대청동  21010530   코나  4010  편 의 점  1973    M     1   \n",
       "1 2022-06-01       0   중구  중앙동  21010510   부산  4010  편 의 점  1981    F     1   \n",
       "2 2022-06-01       0   중구  중앙동  21010510   부산  4010  편 의 점  1992    M     1   \n",
       "3 2022-06-01       0   중구  중앙동  21010510   부산  4010  편 의 점  1995    M     1   \n",
       "4 2022-06-01       0   중구  중앙동  21010510   코나  4010  편 의 점  1976    M     1   \n",
       "\n",
       "   총거래금액         요일  \n",
       "0   7350  Wednesday  \n",
       "1   3700  Wednesday  \n",
       "2   7500  Wednesday  \n",
       "3   2700  Wednesday  \n",
       "4  13900  Wednesday  "
      ]
     },
     "execution_count": 31,
     "metadata": {},
     "output_type": "execute_result"
    }
   ],
   "source": [
    "df.head()"
   ]
  },
  {
   "cell_type": "markdown",
   "metadata": {},
   "source": [
    "# ccg_nm 시군구명"
   ]
  },
  {
   "cell_type": "code",
   "execution_count": 38,
   "metadata": {},
   "outputs": [
    {
     "data": {
      "text/plain": [
       "array(['중구', '서구', '동구', '영도구', '부산진구', '동래구', '남구', '북구', '해운대구', '사하구',\n",
       "       '금정구', '강서구', '연제구', '수영구', '사상구', '기장군'], dtype=object)"
      ]
     },
     "execution_count": 38,
     "metadata": {},
     "output_type": "execute_result"
    }
   ],
   "source": [
    "df.시군구명.unique()"
   ]
  },
  {
   "cell_type": "code",
   "execution_count": 32,
   "metadata": {},
   "outputs": [
    {
     "data": {
      "text/plain": [
       "부산진구    3568514\n",
       "해운대구    3075269\n",
       "동래구     2504967\n",
       "금정구     2151442\n",
       "사하구     2004888\n",
       "북구      1995622\n",
       "연제구     1912041\n",
       "남구      1881526\n",
       "수영구     1595591\n",
       "사상구     1489445\n",
       "강서구     1336118\n",
       "기장군      963690\n",
       "동구       726398\n",
       "서구       691524\n",
       "중구       655696\n",
       "영도구      582429\n",
       "Name: 시군구명, dtype: int64"
      ]
     },
     "execution_count": 32,
     "metadata": {},
     "output_type": "execute_result"
    }
   ],
   "source": [
    "# 시군구명 별 갯수 확인\n",
    "df['시군구명'].value_counts()"
   ]
  },
  {
   "cell_type": "code",
   "execution_count": 33,
   "metadata": {},
   "outputs": [
    {
     "data": {
      "text/plain": [
       "시군구명\n",
       "강서구    26168.16\n",
       "금정구    20321.70\n",
       "기장군    26240.25\n",
       "남구     20809.73\n",
       "동구     18813.50\n",
       "동래구    23766.31\n",
       "부산진구   22537.32\n",
       "북구     22295.89\n",
       "사상구    22084.73\n",
       "사하구    21336.54\n",
       "서구     19153.76\n",
       "수영구    22494.45\n",
       "연제구    21918.37\n",
       "영도구    18426.61\n",
       "중구     22606.10\n",
       "해운대구   23914.71\n",
       "Name: 총거래금액, dtype: float64"
      ]
     },
     "execution_count": 33,
     "metadata": {},
     "output_type": "execute_result"
    }
   ],
   "source": [
    "#시군구 별 평균 총거래금액 확인\n",
    "df.groupby(['시군구명'])['총거래금액'].mean()"
   ]
  },
  {
   "cell_type": "code",
   "execution_count": 35,
   "metadata": {},
   "outputs": [
    {
     "name": "stdout",
     "output_type": "stream",
     "text": [
      "[26240.252182755867, 26168.15913938739, 23914.713931366656, 23766.311139028978, 22606.101690417512, 22537.32074387266, 22494.44608361416, 22295.88654765281, 22084.73157652683, 21918.368514064292, 21336.540397767854, 20809.734704170976, 20321.696546316376, 19153.764236671468, 18813.496190793478, 18426.611664254357]\n"
     ]
    }
   ],
   "source": [
    "#정렬\n",
    "sorted_numbers = sorted(df.groupby(['시군구명'])['총거래금액'].mean(), reverse=True)\n",
    "print(sorted_numbers)  \n",
    "\n",
    "#기장군이 가장 많음"
   ]
  },
  {
   "cell_type": "code",
   "execution_count": 36,
   "metadata": {},
   "outputs": [
    {
     "data": {
      "text/plain": [
       "시군구명\n",
       "강서구    1978.97\n",
       "금정구    1978.35\n",
       "기장군    1977.32\n",
       "남구     1977.95\n",
       "동구     1976.92\n",
       "동래구    1976.37\n",
       "부산진구   1978.38\n",
       "북구     1976.64\n",
       "사상구    1977.13\n",
       "사하구    1976.57\n",
       "서구     1976.99\n",
       "수영구    1977.07\n",
       "연제구    1976.39\n",
       "영도구    1975.77\n",
       "중구     1977.46\n",
       "해운대구   1976.85\n",
       "Name: 출생년도, dtype: float64"
      ]
     },
     "execution_count": 36,
     "metadata": {},
     "output_type": "execute_result"
    }
   ],
   "source": [
    "#시군구별 연령대 평균\n",
    "df.groupby(['시군구명'])['출생년도'].mean()\n",
    "#강서구 가장 낮고, 동래구가 가장 높아보임 -> 외부 데이터 이용하여 확인해볼 예정"
   ]
  },
  {
   "cell_type": "markdown",
   "metadata": {},
   "source": [
    "# adn_dgnm 행정동명"
   ]
  },
  {
   "cell_type": "code",
   "execution_count": 37,
   "metadata": {},
   "outputs": [
    {
     "data": {
      "text/plain": [
       "array(['대청동', '중앙동', '동광동', '서대신3동', '서대신4동', '부민동', '아미동', '초장동', '충무동',\n",
       "       '남부민1동', '암남동', '남부민2동', '초량1동', '초량2동', '범일1동', '남항동', '영선1동',\n",
       "       '영선2동', '봉래1동', '청학1동', '청학2동', '동삼1동', '부전2동', '연지동', '초읍동',\n",
       "       '양정1동', '양정2동', '전포2동', '당감2동', '당감4동', '가야2동', '개금1동', '개금2동',\n",
       "       '가야1동', '부전1동', '전포1동', '수민동', '복산동', '온천1동', '온천2동', '사직2동',\n",
       "       '사직3동', '안락1동', '안락2동', '명륜동', '대연3동', '대연4동', '대연5동', '대연6동',\n",
       "       '용호1동', '용호2동', '용호3동', '용호4동', '용당동', '감만1동', '감만2동', '문현1동',\n",
       "       '문현2동', '문현3동', '문현4동', '대연1동', '우암동', '구포1동', '구포2동', '구포3동',\n",
       "       '금곡동', '화명1동', '덕천1동', '덕천2동', '덕천3동', '만덕1동', '만덕2동', '만덕3동',\n",
       "       '화명2동', '화명3동', '중1동', '중2동', '송정동', '반여2동', '반여3동', '반송2동',\n",
       "       '재송1동', '재송2동', '좌1동', '좌2동', '좌3동', '좌4동', '반여1동', '반여4동', '반송1동',\n",
       "       '우1동', '우2동', '우3동', '괴정1동', '괴정2동', '괴정3동', '괴정4동', '당리동', '하단1동',\n",
       "       '하단2동', '신평1동', '신평2동', '장림1동', '장림2동', '다대1동', '다대2동', '구평동',\n",
       "       '감천1동', '감천2동', '서2동', '부곡1동', '부곡2동', '부곡3동', '부곡4동', '장전1동',\n",
       "       '선두구동', '청룡노포동', '남산동', '구서1동', '구서2동', '서3동', '금사회동동', '장전2동',\n",
       "       '대저1동', '대저2동', '강동동', '녹산동', '가덕도동', '명지1동', '명지2동', '거제1동',\n",
       "       '거제2동', '거제3동', '거제4동', '연산1동', '연산2동', '연산3동', '연산4동', '연산5동',\n",
       "       '연산6동', '연산8동', '연산9동', '남천1동', '남천2동', '수영동', '망미1동', '망미2동',\n",
       "       '광안1동', '광안2동', '광안3동', '광안4동', '민락동', '모라1동', '모라3동', '덕포1동',\n",
       "       '덕포2동', '괘법동', '주례1동', '주례2동', '주례3동', '학장동', '엄궁동', '감전동', '기장읍',\n",
       "       '장안읍', '정관읍', '철마면', '보수동', '부평동', '광복동', '남포동', '영주1동', '영주2동',\n",
       "       '동대신1동', '동대신2동', '동대신3동', '서대신1동', '초량3동', '초량6동', '수정1동', '수정2동',\n",
       "       '수정4동', '수정5동', '범일2동', '범일5동', '좌천동', '동삼2동', '동삼3동', '봉래2동',\n",
       "       '부암1동', '부암3동', '개금3동', '범천1동', '당감1동', '범천2동', '온천3동', '사직1동',\n",
       "       '명장1동', '명장2동', '서1동', '삼락동', '신선동', '가락동', '일광읍', '금성동'],\n",
       "      dtype=object)"
      ]
     },
     "execution_count": 37,
     "metadata": {},
     "output_type": "execute_result"
    }
   ],
   "source": [
    "df.행정동명.unique()"
   ]
  },
  {
   "cell_type": "code",
   "execution_count": 38,
   "metadata": {
    "scrolled": true
   },
   "outputs": [
    {
     "data": {
      "text/plain": [
       "명지1동    620513\n",
       "부전2동    528260\n",
       "장전2동    509024\n",
       "대연3동    494648\n",
       "정관읍     477624\n",
       "         ...  \n",
       "모라3동      8386\n",
       "신선동       6463\n",
       "수정5동      6258\n",
       "수정4동      6114\n",
       "초장동       2240\n",
       "Name: 행정동명, Length: 205, dtype: int64"
      ]
     },
     "execution_count": 38,
     "metadata": {},
     "output_type": "execute_result"
    }
   ],
   "source": [
    "#행정동 별 개수\n",
    "\n",
    "#pd.set_option('display.max_rows', None) -> 행 전체 나오는 코드\n",
    "df['행정동명'].value_counts()\n",
    "\n",
    "#-> 행정동번호와 일치하는지 확인 후 삭제"
   ]
  },
  {
   "cell_type": "code",
   "execution_count": null,
   "metadata": {},
   "outputs": [],
   "source": []
  },
  {
   "cell_type": "markdown",
   "metadata": {},
   "source": [
    "# adng_no 행정동번호"
   ]
  },
  {
   "cell_type": "code",
   "execution_count": 32,
   "metadata": {
    "scrolled": true
   },
   "outputs": [
    {
     "data": {
      "text/plain": [
       "array([21010530, 21010510, 21010520, 21020560, 21020570, 21020590,\n",
       "       21020610, 21020630, 21020640, 21020650, 21020680, 21020690,\n",
       "       21030510, 21030520, 21030710, 21040530, 21040540, 21040550,\n",
       "       21040590, 21040630, 21040640, 21040650, 21050520, 21050540,\n",
       "       21050550, 21050560, 21050570, 21050610, 21050680, 21050700,\n",
       "       21050720, 21050740, 21050750, 21050810, 21050820, 21050830,\n",
       "       21060510, 21060520, 21060550, 21060560, 21060590, 21060600,\n",
       "       21060610, 21060620, 21060650, 21070530, 21070540, 21070550,\n",
       "       21070560, 21070570, 21070580, 21070590, 21070600, 21070610,\n",
       "       21070620, 21070630, 21070660, 21070670, 21070680, 21070690,\n",
       "       21070700, 21070710, 21080510, 21080520, 21080530, 21080540,\n",
       "       21080550, 21080560, 21080570, 21080580, 21080590, 21080600,\n",
       "       21080610, 21080620, 21080630, 21090530, 21090540, 21090560,\n",
       "       21090580, 21090590, 21090620, 21090640, 21090650, 21090660,\n",
       "       21090670, 21090680, 21090690, 21090700, 21090710, 21090720,\n",
       "       21090730, 21090740, 21090750, 21100510, 21100520, 21100530,\n",
       "       21100540, 21100550, 21100560, 21100570, 21100580, 21100590,\n",
       "       21100600, 21100610, 21100620, 21100630, 21100640, 21100650,\n",
       "       21100660, 21110520, 21110570, 21110580, 21110590, 21110600,\n",
       "       21110610, 21110640, 21110670, 21110680, 21110690, 21110700,\n",
       "       21110720, 21110730, 21110740, 21120510, 21120520, 21120530,\n",
       "       21120560, 21120580, 21120590, 21120600, 21130510, 21130520,\n",
       "       21130530, 21130540, 21130550, 21130560, 21130570, 21130580,\n",
       "       21130590, 21130600, 21130620, 21130630, 21140510, 21140520,\n",
       "       21140530, 21140540, 21140550, 21140560, 21140570, 21140580,\n",
       "       21140590, 21140600, 21150520, 21150540, 21150550, 21150560,\n",
       "       21150570, 21150600, 21150610, 21150620, 21150630, 21150640,\n",
       "       21150650, 21510110, 21510120, 21510130, 21510330, 21010540,\n",
       "       21010560, 21010570, 21010580, 21010590, 21010600, 21020510,\n",
       "       21020520, 21020530, 21020540, 21030530, 21030550, 21030560,\n",
       "       21030570, 21030590, 21030600, 21030660, 21030680, 21030700,\n",
       "       21040660, 21040670, 21040690, 21050640, 21050660, 21050760,\n",
       "       21050770, 21050800, 21050840, 21060570, 21060580, 21060630,\n",
       "       21060640, 21110510, 21150510, 21040680, 21120550, 21510111,\n",
       "       21110710], dtype=int64)"
      ]
     },
     "execution_count": 32,
     "metadata": {},
     "output_type": "execute_result"
    }
   ],
   "source": [
    "df.행정동번호.unique()"
   ]
  },
  {
   "cell_type": "code",
   "execution_count": 39,
   "metadata": {
    "scrolled": true
   },
   "outputs": [
    {
     "data": {
      "text/plain": [
       "21120590    620513\n",
       "21050520    528260\n",
       "21110740    509024\n",
       "21070530    494648\n",
       "21510130    477624\n",
       "             ...  \n",
       "21150540      8386\n",
       "21040680      6463\n",
       "21030600      6258\n",
       "21030590      6114\n",
       "21020630      2240\n",
       "Name: 행정동번호, Length: 205, dtype: int64"
      ]
     },
     "execution_count": 39,
     "metadata": {},
     "output_type": "execute_result"
    }
   ],
   "source": [
    "#pd.set_option('display.max_rows', None)\n",
    "df['행정동번호'].value_counts()"
   ]
  },
  {
   "cell_type": "code",
   "execution_count": 40,
   "metadata": {},
   "outputs": [
    {
     "data": {
      "text/plain": [
       "205"
      ]
     },
     "execution_count": 40,
     "metadata": {},
     "output_type": "execute_result"
    }
   ],
   "source": [
    "len(df['행정동명'].unique())"
   ]
  },
  {
   "cell_type": "code",
   "execution_count": 41,
   "metadata": {},
   "outputs": [
    {
     "data": {
      "text/plain": [
       "205"
      ]
     },
     "execution_count": 41,
     "metadata": {},
     "output_type": "execute_result"
    }
   ],
   "source": [
    "# 행정동명과 행정동 번호가 1:1 매칭이라면 둘 중 한 정보만 써도 될 것이다.\n",
    "# == 만약 부산에 같은 동 이름을 가진 동네가 여러개가 아니라면..\n",
    "\n",
    "df.groupby('행정동명')['행정동번호'].nunique().sum()\n",
    "\n",
    "#행정동 번호와 행정동명 유니크 개수가 같음.-> 행정동번호 제거"
   ]
  },
  {
   "cell_type": "code",
   "execution_count": 42,
   "metadata": {},
   "outputs": [
    {
     "data": {
      "text/html": [
       "<div>\n",
       "<style scoped>\n",
       "    .dataframe tbody tr th:only-of-type {\n",
       "        vertical-align: middle;\n",
       "    }\n",
       "\n",
       "    .dataframe tbody tr th {\n",
       "        vertical-align: top;\n",
       "    }\n",
       "\n",
       "    .dataframe thead th {\n",
       "        text-align: right;\n",
       "    }\n",
       "</style>\n",
       "<table border=\"1\" class=\"dataframe\">\n",
       "  <thead>\n",
       "    <tr style=\"text-align: right;\">\n",
       "      <th></th>\n",
       "      <th>기준일자</th>\n",
       "      <th>기준시간대값</th>\n",
       "      <th>시군구명</th>\n",
       "      <th>행정동명</th>\n",
       "      <th>카드사명</th>\n",
       "      <th>업종코드</th>\n",
       "      <th>업종명</th>\n",
       "      <th>출생년도</th>\n",
       "      <th>성별코드</th>\n",
       "      <th>거래건수</th>\n",
       "      <th>총거래금액</th>\n",
       "      <th>요일</th>\n",
       "    </tr>\n",
       "  </thead>\n",
       "  <tbody>\n",
       "    <tr>\n",
       "      <th>0</th>\n",
       "      <td>2022-06-01</td>\n",
       "      <td>0</td>\n",
       "      <td>중구</td>\n",
       "      <td>대청동</td>\n",
       "      <td>코나</td>\n",
       "      <td>4010</td>\n",
       "      <td>편 의 점</td>\n",
       "      <td>1973</td>\n",
       "      <td>M</td>\n",
       "      <td>1</td>\n",
       "      <td>7350</td>\n",
       "      <td>Wednesday</td>\n",
       "    </tr>\n",
       "    <tr>\n",
       "      <th>1</th>\n",
       "      <td>2022-06-01</td>\n",
       "      <td>0</td>\n",
       "      <td>중구</td>\n",
       "      <td>중앙동</td>\n",
       "      <td>부산</td>\n",
       "      <td>4010</td>\n",
       "      <td>편 의 점</td>\n",
       "      <td>1981</td>\n",
       "      <td>F</td>\n",
       "      <td>1</td>\n",
       "      <td>3700</td>\n",
       "      <td>Wednesday</td>\n",
       "    </tr>\n",
       "    <tr>\n",
       "      <th>2</th>\n",
       "      <td>2022-06-01</td>\n",
       "      <td>0</td>\n",
       "      <td>중구</td>\n",
       "      <td>중앙동</td>\n",
       "      <td>부산</td>\n",
       "      <td>4010</td>\n",
       "      <td>편 의 점</td>\n",
       "      <td>1992</td>\n",
       "      <td>M</td>\n",
       "      <td>1</td>\n",
       "      <td>7500</td>\n",
       "      <td>Wednesday</td>\n",
       "    </tr>\n",
       "    <tr>\n",
       "      <th>3</th>\n",
       "      <td>2022-06-01</td>\n",
       "      <td>0</td>\n",
       "      <td>중구</td>\n",
       "      <td>중앙동</td>\n",
       "      <td>부산</td>\n",
       "      <td>4010</td>\n",
       "      <td>편 의 점</td>\n",
       "      <td>1995</td>\n",
       "      <td>M</td>\n",
       "      <td>1</td>\n",
       "      <td>2700</td>\n",
       "      <td>Wednesday</td>\n",
       "    </tr>\n",
       "    <tr>\n",
       "      <th>4</th>\n",
       "      <td>2022-06-01</td>\n",
       "      <td>0</td>\n",
       "      <td>중구</td>\n",
       "      <td>중앙동</td>\n",
       "      <td>코나</td>\n",
       "      <td>4010</td>\n",
       "      <td>편 의 점</td>\n",
       "      <td>1976</td>\n",
       "      <td>M</td>\n",
       "      <td>1</td>\n",
       "      <td>13900</td>\n",
       "      <td>Wednesday</td>\n",
       "    </tr>\n",
       "    <tr>\n",
       "      <th>...</th>\n",
       "      <td>...</td>\n",
       "      <td>...</td>\n",
       "      <td>...</td>\n",
       "      <td>...</td>\n",
       "      <td>...</td>\n",
       "      <td>...</td>\n",
       "      <td>...</td>\n",
       "      <td>...</td>\n",
       "      <td>...</td>\n",
       "      <td>...</td>\n",
       "      <td>...</td>\n",
       "      <td>...</td>\n",
       "    </tr>\n",
       "    <tr>\n",
       "      <th>27135155</th>\n",
       "      <td>2022-08-01</td>\n",
       "      <td>0</td>\n",
       "      <td>영도구</td>\n",
       "      <td>동삼1동</td>\n",
       "      <td>코나</td>\n",
       "      <td>4020</td>\n",
       "      <td>슈퍼마켓</td>\n",
       "      <td>1958</td>\n",
       "      <td>M</td>\n",
       "      <td>1</td>\n",
       "      <td>30000</td>\n",
       "      <td>Monday</td>\n",
       "    </tr>\n",
       "    <tr>\n",
       "      <th>27135156</th>\n",
       "      <td>2022-08-01</td>\n",
       "      <td>0</td>\n",
       "      <td>영도구</td>\n",
       "      <td>동삼1동</td>\n",
       "      <td>코나</td>\n",
       "      <td>8013</td>\n",
       "      <td>주점</td>\n",
       "      <td>1998</td>\n",
       "      <td>M</td>\n",
       "      <td>1</td>\n",
       "      <td>59600</td>\n",
       "      <td>Monday</td>\n",
       "    </tr>\n",
       "    <tr>\n",
       "      <th>27135157</th>\n",
       "      <td>2022-08-01</td>\n",
       "      <td>0</td>\n",
       "      <td>영도구</td>\n",
       "      <td>동삼1동</td>\n",
       "      <td>코나</td>\n",
       "      <td>8399</td>\n",
       "      <td>기타음료식품</td>\n",
       "      <td>1998</td>\n",
       "      <td>F</td>\n",
       "      <td>1</td>\n",
       "      <td>7500</td>\n",
       "      <td>Monday</td>\n",
       "    </tr>\n",
       "    <tr>\n",
       "      <th>27135158</th>\n",
       "      <td>2022-08-01</td>\n",
       "      <td>0</td>\n",
       "      <td>영도구</td>\n",
       "      <td>동삼1동</td>\n",
       "      <td>하나</td>\n",
       "      <td>4010</td>\n",
       "      <td>편 의 점</td>\n",
       "      <td>1971</td>\n",
       "      <td>F</td>\n",
       "      <td>2</td>\n",
       "      <td>7600</td>\n",
       "      <td>Monday</td>\n",
       "    </tr>\n",
       "    <tr>\n",
       "      <th>27135159</th>\n",
       "      <td>2022-08-01</td>\n",
       "      <td>0</td>\n",
       "      <td>영도구</td>\n",
       "      <td>동삼1동</td>\n",
       "      <td>하나</td>\n",
       "      <td>4010</td>\n",
       "      <td>편 의 점</td>\n",
       "      <td>2001</td>\n",
       "      <td>M</td>\n",
       "      <td>1</td>\n",
       "      <td>2200</td>\n",
       "      <td>Monday</td>\n",
       "    </tr>\n",
       "  </tbody>\n",
       "</table>\n",
       "<p>27135160 rows × 12 columns</p>\n",
       "</div>"
      ],
      "text/plain": [
       "               기준일자  기준시간대값 시군구명  행정동명 카드사명  업종코드     업종명  출생년도 성별코드  거래건수  \\\n",
       "0        2022-06-01       0   중구   대청동   코나  4010   편 의 점  1973    M     1   \n",
       "1        2022-06-01       0   중구   중앙동   부산  4010   편 의 점  1981    F     1   \n",
       "2        2022-06-01       0   중구   중앙동   부산  4010   편 의 점  1992    M     1   \n",
       "3        2022-06-01       0   중구   중앙동   부산  4010   편 의 점  1995    M     1   \n",
       "4        2022-06-01       0   중구   중앙동   코나  4010   편 의 점  1976    M     1   \n",
       "...             ...     ...  ...   ...  ...   ...     ...   ...  ...   ...   \n",
       "27135155 2022-08-01       0  영도구  동삼1동   코나  4020    슈퍼마켓  1958    M     1   \n",
       "27135156 2022-08-01       0  영도구  동삼1동   코나  8013      주점  1998    M     1   \n",
       "27135157 2022-08-01       0  영도구  동삼1동   코나  8399  기타음료식품  1998    F     1   \n",
       "27135158 2022-08-01       0  영도구  동삼1동   하나  4010   편 의 점  1971    F     2   \n",
       "27135159 2022-08-01       0  영도구  동삼1동   하나  4010   편 의 점  2001    M     1   \n",
       "\n",
       "          총거래금액         요일  \n",
       "0          7350  Wednesday  \n",
       "1          3700  Wednesday  \n",
       "2          7500  Wednesday  \n",
       "3          2700  Wednesday  \n",
       "4         13900  Wednesday  \n",
       "...         ...        ...  \n",
       "27135155  30000     Monday  \n",
       "27135156  59600     Monday  \n",
       "27135157   7500     Monday  \n",
       "27135158   7600     Monday  \n",
       "27135159   2200     Monday  \n",
       "\n",
       "[27135160 rows x 12 columns]"
      ]
     },
     "execution_count": 42,
     "metadata": {},
     "output_type": "execute_result"
    }
   ],
   "source": [
    "df=df.drop(['행정동번호'], axis=1)\n",
    "df"
   ]
  },
  {
   "cell_type": "markdown",
   "metadata": {},
   "source": [
    "# cardc_nm 카드사명"
   ]
  },
  {
   "cell_type": "code",
   "execution_count": 43,
   "metadata": {},
   "outputs": [
    {
     "data": {
      "text/plain": [
       "array(['코나', '부산', '하나', '동백택시', '농협', 'QR'], dtype=object)"
      ]
     },
     "execution_count": 43,
     "metadata": {},
     "output_type": "execute_result"
    }
   ],
   "source": [
    "df.카드사명.unique()"
   ]
  },
  {
   "cell_type": "code",
   "execution_count": 44,
   "metadata": {},
   "outputs": [
    {
     "data": {
      "text/plain": [
       "코나      14474787\n",
       "하나       6781004\n",
       "부산       5358627\n",
       "농협        346273\n",
       "동백택시      144603\n",
       "QR         29866\n",
       "Name: 카드사명, dtype: int64"
      ]
     },
     "execution_count": 44,
     "metadata": {},
     "output_type": "execute_result"
    }
   ],
   "source": [
    "#카드사명 별 사용개수 확인 -> 코나 (:코나아이) 가장 많이 사용\n",
    "df['카드사명'].value_counts()"
   ]
  },
  {
   "cell_type": "code",
   "execution_count": 45,
   "metadata": {},
   "outputs": [],
   "source": [
    "#그래프로 확인\n",
    "import matplotlib.pyplot as plt\n",
    "plt.rcParams['font.family'] = 'Malgun Gothic' #->한글 안깨지게"
   ]
  },
  {
   "cell_type": "code",
   "execution_count": 46,
   "metadata": {},
   "outputs": [
    {
     "data": {
      "image/png": "[encoded data removed]",
      "text/plain": [
       "<Figure size 432x288 with 1 Axes>"
      ]
     },
     "metadata": {
      "needs_background": "light"
     },
     "output_type": "display_data"
    }
   ],
   "source": [
    "sns.countplot(data=df, x=\"카드사명\")\n",
    "plt.show()"
   ]
  },
  {
   "cell_type": "code",
   "execution_count": null,
   "metadata": {},
   "outputs": [],
   "source": []
  },
  {
   "cell_type": "markdown",
   "metadata": {},
   "source": [
    "# tpbuz_cd 업종코드"
   ]
  },
  {
   "cell_type": "code",
   "execution_count": 48,
   "metadata": {},
   "outputs": [
    {
     "data": {
      "text/plain": [
       "array([4010, 9130, 2102, 8001, 4020, 1123, 4021, 8310, 8320, 8021, 8399,\n",
       "       2114, 8006, 2130, 8013, 2199, 8004, 2240, 3402, 6140, 8301, 8010,\n",
       "       3305, 8005, 3306, 9305, 9204, 1020, 4499, 3309, 2121, 3307, 5191,\n",
       "       2111, 5299, 4201, 9210, 3301, 2002, 9101, 5104, 3311, 7120, 5201,\n",
       "       5101, 2112, 9301, 9398, 5010, 3001, 5199, 6130, 3308, 9901, 3102,\n",
       "       3313, 9699, 5105, 2001, 8002, 8302, 4099, 2120, 4050, 4302, 7020,\n",
       "       2113, 9602, 1003, 9006, 3202, 7041, 8499, 9121, 9001, 5001, 7050,\n",
       "       5102, 2250, 4208, 7121, 3201, 2230, 4412, 5210, 7022, 9998, 7021,\n",
       "       7112, 3302, 7010, 7103, 7099, 6120, 6102, 5030, 7015, 6110, 4401,\n",
       "       6101, 1002, 7001, 4004, 4110, 7044, 9099, 3101, 7110, 9003, 7105,\n",
       "       7102, 7014, 4205, 4399, 4421, 9004, 4080, 4430, 4111, 7101, 8401,\n",
       "       8402, 9010, 7040, 5002, 6004, 2299, 4303, 7042, 7199, 2251, 3199,\n",
       "       5202, 4411, 2010, 5040, 3399, 4299, 7111, 4301, 2020, 4410, 1110,\n",
       "       5050, 1122, 2210, 8031, 5192, 2202, 9203, 4203, 6103, 9199, 2215,\n",
       "       9395, 9306, 5099, 3099, 6111, 9002, 2220, 4210, 9120, 9302, 3304,\n",
       "       9299, 8303, 4209, 9201, 5106, 9133, 9202, 9304, 6150, 9910, 9134,\n",
       "       8003, 9601, 4420, 3002, 1010, 5103, 1001, 4206, 4204, 8201, 8101,\n",
       "       9020, 7060, 9160, 6199, 9132, 5122, 4304, 5003, 4121, 3210, 9005,\n",
       "       9135, 9110, 3401, 5121, 3499, 1130, 2201, 4199, 9911, 4481, 9397,\n",
       "       9396], dtype=int64)"
      ]
     },
     "execution_count": 48,
     "metadata": {},
     "output_type": "execute_result"
    }
   ],
   "source": [
    "df.업종코드.unique()"
   ]
  },
  {
   "cell_type": "code",
   "execution_count": null,
   "metadata": {},
   "outputs": [],
   "source": []
  },
  {
   "cell_type": "markdown",
   "metadata": {},
   "source": [
    "# tpbuz_nm 업종명"
   ]
  },
  {
   "cell_type": "code",
   "execution_count": 47,
   "metadata": {
    "scrolled": true
   },
   "outputs": [
    {
     "data": {
      "text/plain": [
       "array(['편 의 점', '사무서비스', '골프연습장', '일반한식', '슈퍼마켓', '택시', '연 쇄 점', '농축수산품',\n",
       "       '미곡상', '스넥', '기타음료식품', '헬스클럽', '서양음식', '노 래 방', '주점', '기타레져업소',\n",
       "       '일식회집', '애완동물', 'DP&E', '주차장', '제과점', '칵테일바', 'SK주유소', '중국식',\n",
       "       'SK가스충전소', '학원', '사무통신기기수리', '기타숙박업', '기타잡화', '쌍용S-OIL', '당 구 장',\n",
       "       'GS주유소', '독서실', '볼 링 장', '기타 사무용품', '정장(남성)', '세탁소', '주유소',\n",
       "       '스포츠레져용품', '종합용역', '예체능계학원', 'GS 가스충전소', '사우나', '컴퓨터', '외국어학원',\n",
       "       '테니스장', '레져업소', '기타4', '출판 및 인쇄물', '일반가구', '기타 교육기관', '세차장',\n",
       "       '현대정유(오일뱅크)', '기계공구', '냉열기기', '쌍용S-OIL 가스충전소', '기타농업관련', '보습학원',\n",
       "       '골프용품 전문점', '갈비전문점', '정육점', '기타유통업', '종합레져타운', '농축수산 가공품',\n",
       "       '카페트.커튼.천막.지물', '의원', '수 영 장', '비료.사료.종자', '2급 호텔', '목재석재철물',\n",
       "       '주방용식기', '약국', '기타건강식품', '화물운송', '보일러펌프샷시', '일반서적', '동물병원', '기능학원',\n",
       "       '영화관', '스포츠 의류', '안마/스포츠마사지', '주방용구', '화원', '액세서리', '통신기기', '치과의원',\n",
       "       '기타 전문점', '한의원', '의료용품', 'LPG 취급점', '병원(응급실 운영)', '피부미용실',\n",
       "       '기타의료기관 및 기타의료기기', '카인테리어', '자동차부품', '문구용품', '치과병원', '자동차정비', '가방',\n",
       "       '자동차시트타이어', '1급 호텔', '종합병원', '대형할인점', '농.축협 직영매장', '산후조리원',\n",
       "       '기타건축자재', '가전제품', '화장품', '조명기구', '안경', '미용원', '한방병원', '내의판매',\n",
       "       '기타직물', '신발', '페인트', '상 품 권', '기념품점', '농협하나로클럽', '이용원', '홍삼제품',\n",
       "       '인삼제품', '인테리어전문', '제약회사', '전문서적', '이륜차판매', '문화취미기타', '침구수예점',\n",
       "       '한약방', '기타대인서비스', '티켓', '기타전기제품', '사무용 OA기기', '귀금속', '악기점',\n",
       "       '과학기자재', '기타연료', '기타의류', '미용재료', '옷감직물', 'DVD음반테이프 판매', '시계',\n",
       "       '관광여행', '완구점', '여객선', '화방표구점', '위탁급식업', '유학원', '화랑', '신변잡화수리',\n",
       "       '아동의류', '윤활유 전문 판매', '기타용역서비스', '민예공예품', '기타1', '건강식품', '기타서적문구',\n",
       "       '기타가구', '국산신차 직영부품정비업소', '건축용 요업제품', '수족관', '맞춤복점', '보관및 창고업',\n",
       "       '자동차서비스', '유류판매', '기타수리서비스', '주류 판매점', '단체복', '레져용품수리', '학습지 교육',\n",
       "       '부동산 중개임대', '가정용품수리', '서적', '견인서비스', '비영리/대상', '소프트웨어', '한정식',\n",
       "       '농기계', '제화', '철제가구', '콘도', '컴퓨터학원', '특급호텔', '와이셔츠타이', '양 품 점',\n",
       "       '단란주점', '유흥주점', '부동산 분양', '건강진단', '조세서비스', '가타자동차서비스',\n",
       "       '법률회계서비스(개인)', '유치원', '혼수전문점', '정기간행물', '구내매점(국가기관 등)', '정수기',\n",
       "       '유리', '법률회계서비스(법인)', '가례서비스업', '카메라', '초중고교육기관', '기타광학제품', '렌터카',\n",
       "       '골동품점', '기타비영리유통', '비영리/비대상', '성인용품점', '기타3', '기타2'], dtype=object)"
      ]
     },
     "execution_count": 47,
     "metadata": {},
     "output_type": "execute_result"
    }
   ],
   "source": [
    "df.업종명.unique()"
   ]
  },
  {
   "cell_type": "code",
   "execution_count": 49,
   "metadata": {
    "scrolled": true
   },
   "outputs": [
    {
     "data": {
      "text/plain": [
       "편 의 점     4271463\n",
       "서양음식      4047389\n",
       "일반한식      3667224\n",
       "슈퍼마켓      3266127\n",
       "약국        1293606\n",
       "           ...   \n",
       "골동품점            5\n",
       "혼수전문점           4\n",
       "와이셔츠타이          3\n",
       "기타2             2\n",
       "성인용품점           1\n",
       "Name: 업종명, Length: 210, dtype: int64"
      ]
     },
     "execution_count": 49,
     "metadata": {},
     "output_type": "execute_result"
    }
   ],
   "source": [
    "#pd.set_option('display.max_rows', None)\n",
    "df['업종명'].value_counts()\n",
    "\n",
    "#-> 업종 코드와 일치하는지 확인 후 삭제"
   ]
  },
  {
   "cell_type": "code",
   "execution_count": 50,
   "metadata": {},
   "outputs": [
    {
     "name": "stdout",
     "output_type": "stream",
     "text": [
      "210\n",
      "210\n"
     ]
    }
   ],
   "source": [
    "print(len(df['업종명'].unique()))\n",
    "print(df.groupby('업종명')['업종코드'].nunique().sum())\n",
    "\n",
    "#->업종코드 제거"
   ]
  },
  {
   "cell_type": "code",
   "execution_count": 51,
   "metadata": {},
   "outputs": [
    {
     "data": {
      "text/html": [
       "<div>\n",
       "<style scoped>\n",
       "    .dataframe tbody tr th:only-of-type {\n",
       "        vertical-align: middle;\n",
       "    }\n",
       "\n",
       "    .dataframe tbody tr th {\n",
       "        vertical-align: top;\n",
       "    }\n",
       "\n",
       "    .dataframe thead th {\n",
       "        text-align: right;\n",
       "    }\n",
       "</style>\n",
       "<table border=\"1\" class=\"dataframe\">\n",
       "  <thead>\n",
       "    <tr style=\"text-align: right;\">\n",
       "      <th></th>\n",
       "      <th>기준일자</th>\n",
       "      <th>기준시간대값</th>\n",
       "      <th>시군구명</th>\n",
       "      <th>행정동명</th>\n",
       "      <th>카드사명</th>\n",
       "      <th>업종명</th>\n",
       "      <th>출생년도</th>\n",
       "      <th>성별코드</th>\n",
       "      <th>거래건수</th>\n",
       "      <th>총거래금액</th>\n",
       "      <th>요일</th>\n",
       "    </tr>\n",
       "  </thead>\n",
       "  <tbody>\n",
       "    <tr>\n",
       "      <th>0</th>\n",
       "      <td>2022-06-01</td>\n",
       "      <td>0</td>\n",
       "      <td>중구</td>\n",
       "      <td>대청동</td>\n",
       "      <td>코나</td>\n",
       "      <td>편 의 점</td>\n",
       "      <td>1973</td>\n",
       "      <td>M</td>\n",
       "      <td>1</td>\n",
       "      <td>7350</td>\n",
       "      <td>Wednesday</td>\n",
       "    </tr>\n",
       "    <tr>\n",
       "      <th>1</th>\n",
       "      <td>2022-06-01</td>\n",
       "      <td>0</td>\n",
       "      <td>중구</td>\n",
       "      <td>중앙동</td>\n",
       "      <td>부산</td>\n",
       "      <td>편 의 점</td>\n",
       "      <td>1981</td>\n",
       "      <td>F</td>\n",
       "      <td>1</td>\n",
       "      <td>3700</td>\n",
       "      <td>Wednesday</td>\n",
       "    </tr>\n",
       "    <tr>\n",
       "      <th>2</th>\n",
       "      <td>2022-06-01</td>\n",
       "      <td>0</td>\n",
       "      <td>중구</td>\n",
       "      <td>중앙동</td>\n",
       "      <td>부산</td>\n",
       "      <td>편 의 점</td>\n",
       "      <td>1992</td>\n",
       "      <td>M</td>\n",
       "      <td>1</td>\n",
       "      <td>7500</td>\n",
       "      <td>Wednesday</td>\n",
       "    </tr>\n",
       "    <tr>\n",
       "      <th>3</th>\n",
       "      <td>2022-06-01</td>\n",
       "      <td>0</td>\n",
       "      <td>중구</td>\n",
       "      <td>중앙동</td>\n",
       "      <td>부산</td>\n",
       "      <td>편 의 점</td>\n",
       "      <td>1995</td>\n",
       "      <td>M</td>\n",
       "      <td>1</td>\n",
       "      <td>2700</td>\n",
       "      <td>Wednesday</td>\n",
       "    </tr>\n",
       "    <tr>\n",
       "      <th>4</th>\n",
       "      <td>2022-06-01</td>\n",
       "      <td>0</td>\n",
       "      <td>중구</td>\n",
       "      <td>중앙동</td>\n",
       "      <td>코나</td>\n",
       "      <td>편 의 점</td>\n",
       "      <td>1976</td>\n",
       "      <td>M</td>\n",
       "      <td>1</td>\n",
       "      <td>13900</td>\n",
       "      <td>Wednesday</td>\n",
       "    </tr>\n",
       "    <tr>\n",
       "      <th>...</th>\n",
       "      <td>...</td>\n",
       "      <td>...</td>\n",
       "      <td>...</td>\n",
       "      <td>...</td>\n",
       "      <td>...</td>\n",
       "      <td>...</td>\n",
       "      <td>...</td>\n",
       "      <td>...</td>\n",
       "      <td>...</td>\n",
       "      <td>...</td>\n",
       "      <td>...</td>\n",
       "    </tr>\n",
       "    <tr>\n",
       "      <th>27135155</th>\n",
       "      <td>2022-08-01</td>\n",
       "      <td>0</td>\n",
       "      <td>영도구</td>\n",
       "      <td>동삼1동</td>\n",
       "      <td>코나</td>\n",
       "      <td>슈퍼마켓</td>\n",
       "      <td>1958</td>\n",
       "      <td>M</td>\n",
       "      <td>1</td>\n",
       "      <td>30000</td>\n",
       "      <td>Monday</td>\n",
       "    </tr>\n",
       "    <tr>\n",
       "      <th>27135156</th>\n",
       "      <td>2022-08-01</td>\n",
       "      <td>0</td>\n",
       "      <td>영도구</td>\n",
       "      <td>동삼1동</td>\n",
       "      <td>코나</td>\n",
       "      <td>주점</td>\n",
       "      <td>1998</td>\n",
       "      <td>M</td>\n",
       "      <td>1</td>\n",
       "      <td>59600</td>\n",
       "      <td>Monday</td>\n",
       "    </tr>\n",
       "    <tr>\n",
       "      <th>27135157</th>\n",
       "      <td>2022-08-01</td>\n",
       "      <td>0</td>\n",
       "      <td>영도구</td>\n",
       "      <td>동삼1동</td>\n",
       "      <td>코나</td>\n",
       "      <td>기타음료식품</td>\n",
       "      <td>1998</td>\n",
       "      <td>F</td>\n",
       "      <td>1</td>\n",
       "      <td>7500</td>\n",
       "      <td>Monday</td>\n",
       "    </tr>\n",
       "    <tr>\n",
       "      <th>27135158</th>\n",
       "      <td>2022-08-01</td>\n",
       "      <td>0</td>\n",
       "      <td>영도구</td>\n",
       "      <td>동삼1동</td>\n",
       "      <td>하나</td>\n",
       "      <td>편 의 점</td>\n",
       "      <td>1971</td>\n",
       "      <td>F</td>\n",
       "      <td>2</td>\n",
       "      <td>7600</td>\n",
       "      <td>Monday</td>\n",
       "    </tr>\n",
       "    <tr>\n",
       "      <th>27135159</th>\n",
       "      <td>2022-08-01</td>\n",
       "      <td>0</td>\n",
       "      <td>영도구</td>\n",
       "      <td>동삼1동</td>\n",
       "      <td>하나</td>\n",
       "      <td>편 의 점</td>\n",
       "      <td>2001</td>\n",
       "      <td>M</td>\n",
       "      <td>1</td>\n",
       "      <td>2200</td>\n",
       "      <td>Monday</td>\n",
       "    </tr>\n",
       "  </tbody>\n",
       "</table>\n",
       "<p>27135160 rows × 11 columns</p>\n",
       "</div>"
      ],
      "text/plain": [
       "               기준일자  기준시간대값 시군구명  행정동명 카드사명     업종명  출생년도 성별코드  거래건수  총거래금액  \\\n",
       "0        2022-06-01       0   중구   대청동   코나   편 의 점  1973    M     1   7350   \n",
       "1        2022-06-01       0   중구   중앙동   부산   편 의 점  1981    F     1   3700   \n",
       "2        2022-06-01       0   중구   중앙동   부산   편 의 점  1992    M     1   7500   \n",
       "3        2022-06-01       0   중구   중앙동   부산   편 의 점  1995    M     1   2700   \n",
       "4        2022-06-01       0   중구   중앙동   코나   편 의 점  1976    M     1  13900   \n",
       "...             ...     ...  ...   ...  ...     ...   ...  ...   ...    ...   \n",
       "27135155 2022-08-01       0  영도구  동삼1동   코나    슈퍼마켓  1958    M     1  30000   \n",
       "27135156 2022-08-01       0  영도구  동삼1동   코나      주점  1998    M     1  59600   \n",
       "27135157 2022-08-01       0  영도구  동삼1동   코나  기타음료식품  1998    F     1   7500   \n",
       "27135158 2022-08-01       0  영도구  동삼1동   하나   편 의 점  1971    F     2   7600   \n",
       "27135159 2022-08-01       0  영도구  동삼1동   하나   편 의 점  2001    M     1   2200   \n",
       "\n",
       "                 요일  \n",
       "0         Wednesday  \n",
       "1         Wednesday  \n",
       "2         Wednesday  \n",
       "3         Wednesday  \n",
       "4         Wednesday  \n",
       "...             ...  \n",
       "27135155     Monday  \n",
       "27135156     Monday  \n",
       "27135157     Monday  \n",
       "27135158     Monday  \n",
       "27135159     Monday  \n",
       "\n",
       "[27135160 rows x 11 columns]"
      ]
     },
     "execution_count": 51,
     "metadata": {},
     "output_type": "execute_result"
    }
   ],
   "source": [
    "df=df.drop(['업종코드'], axis=1)\n",
    "df"
   ]
  },
  {
   "cell_type": "markdown",
   "metadata": {},
   "source": [
    "# bth_yr 출생년도"
   ]
  },
  {
   "cell_type": "code",
   "execution_count": 52,
   "metadata": {},
   "outputs": [
    {
     "data": {
      "text/plain": [
       "array([1973, 1981, 1992, 1995, 1976, 1985, 1989, 1996, 1999, 1977, 1974,\n",
       "       1972, 1990, 1994, 1998, 1964, 1970, 1983, 2001, 1997, 2000, 1980,\n",
       "       1971, 1987, 1967, 1975, 1944, 1957, 1969, 1965, 1956, 1968, 1993,\n",
       "       1991, 1979, 1963, 1982, 1961, 1988, 1978, 1966, 2003, 1962, 1986,\n",
       "       2002, 1984, 2004, 1960, 1955, 1959, 2005, 2006, 1952, 1953, 1958,\n",
       "       1947, 1951, 1949, 1954, 2007, 1948, 1942, 1946, 1933, 2008, 1950,\n",
       "       1945, 1932, 1938, 1941, 1940, 1943, 1936, 1934, 1939, 1935, 1937,\n",
       "       3688, 1929, 1931, 1925, 1930, 1928, 1923, 4607, 1921, 1924, 1927,\n",
       "       1926], dtype=int64)"
      ]
     },
     "execution_count": 52,
     "metadata": {},
     "output_type": "execute_result"
    }
   ],
   "source": [
    "df.출생년도.unique()"
   ]
  },
  {
   "cell_type": "code",
   "execution_count": 53,
   "metadata": {},
   "outputs": [
    {
     "name": "stdout",
     "output_type": "stream",
     "text": [
      "[4607, 3688, 2008, 2007, 2006, 2005, 2004, 2003, 2002, 2001, 2000, 1999, 1998, 1997, 1996, 1995, 1994, 1993, 1992, 1991, 1990, 1989, 1988, 1987, 1986, 1985, 1984, 1983, 1982, 1981, 1980, 1979, 1978, 1977, 1976, 1975, 1974, 1973, 1972, 1971, 1970, 1969, 1968, 1967, 1966, 1965, 1964, 1963, 1962, 1961, 1960, 1959, 1958, 1957, 1956, 1955, 1954, 1953, 1952, 1951, 1950, 1949, 1948, 1947, 1946, 1945, 1944, 1943, 1942, 1941, 1940, 1939, 1938, 1937, 1936, 1935, 1934, 1933, 1932, 1931, 1930, 1929, 1928, 1927, 1926, 1925, 1924, 1923, 1921]\n"
     ]
    }
   ],
   "source": [
    "sorted_numbers = sorted(df.출생년도.unique(), reverse=True)\n",
    "print(sorted_numbers)  \n",
    "#4067,3688 ?"
   ]
  },
  {
   "cell_type": "code",
   "execution_count": 54,
   "metadata": {
    "scrolled": true
   },
   "outputs": [
    {
     "data": {
      "text/plain": [
       "1981    731958\n",
       "1980    728531\n",
       "1979    712602\n",
       "1982    705880\n",
       "1971    652587\n",
       "         ...  \n",
       "1921        94\n",
       "1924        48\n",
       "4607        44\n",
       "1927        30\n",
       "1926         3\n",
       "Name: 출생년도, Length: 89, dtype: int64"
      ]
     },
     "execution_count": 54,
     "metadata": {},
     "output_type": "execute_result"
    }
   ],
   "source": [
    "df['출생년도'].value_counts()\n",
    "#4607 : 44, 3688: 97 ->제거"
   ]
  },
  {
   "cell_type": "code",
   "execution_count": null,
   "metadata": {
    "scrolled": true
   },
   "outputs": [],
   "source": [
    "# df[df['출생년도']==4607]"
   ]
  },
  {
   "cell_type": "code",
   "execution_count": 33,
   "metadata": {
    "scrolled": true
   },
   "outputs": [
    {
     "data": {
      "text/html": [
       "<div>\n",
       "<style scoped>\n",
       "    .dataframe tbody tr th:only-of-type {\n",
       "        vertical-align: middle;\n",
       "    }\n",
       "\n",
       "    .dataframe tbody tr th {\n",
       "        vertical-align: top;\n",
       "    }\n",
       "\n",
       "    .dataframe thead th {\n",
       "        text-align: right;\n",
       "    }\n",
       "</style>\n",
       "<table border=\"1\" class=\"dataframe\">\n",
       "  <thead>\n",
       "    <tr style=\"text-align: right;\">\n",
       "      <th></th>\n",
       "      <th>strd_date</th>\n",
       "      <th>strd_tizn_val</th>\n",
       "      <th>ccg_nm</th>\n",
       "      <th>adn_dgnm</th>\n",
       "      <th>adng_no</th>\n",
       "      <th>cardc_nm</th>\n",
       "      <th>tpbuz_cd</th>\n",
       "      <th>tpbuz_nm</th>\n",
       "      <th>bth_yr</th>\n",
       "      <th>sex_cd</th>\n",
       "      <th>trns_cnt</th>\n",
       "      <th>ttl_trns_amt</th>\n",
       "      <th>day_name</th>\n",
       "    </tr>\n",
       "  </thead>\n",
       "  <tbody>\n",
       "    <tr>\n",
       "      <th>68381</th>\n",
       "      <td>2022-06-01</td>\n",
       "      <td>11</td>\n",
       "      <td>해운대구</td>\n",
       "      <td>우2동</td>\n",
       "      <td>21090740</td>\n",
       "      <td>하나</td>\n",
       "      <td>8006</td>\n",
       "      <td>서양음식</td>\n",
       "      <td>3688</td>\n",
       "      <td>F</td>\n",
       "      <td>1</td>\n",
       "      <td>4500</td>\n",
       "      <td>Wednesday</td>\n",
       "    </tr>\n",
       "    <tr>\n",
       "      <th>144065</th>\n",
       "      <td>2022-06-01</td>\n",
       "      <td>14</td>\n",
       "      <td>중구</td>\n",
       "      <td>보수동</td>\n",
       "      <td>21010540</td>\n",
       "      <td>하나</td>\n",
       "      <td>8301</td>\n",
       "      <td>제과점</td>\n",
       "      <td>3688</td>\n",
       "      <td>F</td>\n",
       "      <td>1</td>\n",
       "      <td>4250</td>\n",
       "      <td>Wednesday</td>\n",
       "    </tr>\n",
       "    <tr>\n",
       "      <th>169975</th>\n",
       "      <td>2022-06-01</td>\n",
       "      <td>14</td>\n",
       "      <td>수영구</td>\n",
       "      <td>망미2동</td>\n",
       "      <td>21140550</td>\n",
       "      <td>코나</td>\n",
       "      <td>8006</td>\n",
       "      <td>서양음식</td>\n",
       "      <td>3688</td>\n",
       "      <td>F</td>\n",
       "      <td>1</td>\n",
       "      <td>12000</td>\n",
       "      <td>Wednesday</td>\n",
       "    </tr>\n",
       "    <tr>\n",
       "      <th>198852</th>\n",
       "      <td>2022-06-01</td>\n",
       "      <td>15</td>\n",
       "      <td>수영구</td>\n",
       "      <td>민락동</td>\n",
       "      <td>21140600</td>\n",
       "      <td>코나</td>\n",
       "      <td>8301</td>\n",
       "      <td>제과점</td>\n",
       "      <td>3688</td>\n",
       "      <td>F</td>\n",
       "      <td>2</td>\n",
       "      <td>15000</td>\n",
       "      <td>Wednesday</td>\n",
       "    </tr>\n",
       "    <tr>\n",
       "      <th>298256</th>\n",
       "      <td>2022-06-01</td>\n",
       "      <td>19</td>\n",
       "      <td>해운대구</td>\n",
       "      <td>우2동</td>\n",
       "      <td>21090740</td>\n",
       "      <td>하나</td>\n",
       "      <td>4020</td>\n",
       "      <td>슈퍼마켓</td>\n",
       "      <td>3688</td>\n",
       "      <td>F</td>\n",
       "      <td>1</td>\n",
       "      <td>11300</td>\n",
       "      <td>Wednesday</td>\n",
       "    </tr>\n",
       "    <tr>\n",
       "      <th>...</th>\n",
       "      <td>...</td>\n",
       "      <td>...</td>\n",
       "      <td>...</td>\n",
       "      <td>...</td>\n",
       "      <td>...</td>\n",
       "      <td>...</td>\n",
       "      <td>...</td>\n",
       "      <td>...</td>\n",
       "      <td>...</td>\n",
       "      <td>...</td>\n",
       "      <td>...</td>\n",
       "      <td>...</td>\n",
       "      <td>...</td>\n",
       "    </tr>\n",
       "    <tr>\n",
       "      <th>24962252</th>\n",
       "      <td>2022-08-20</td>\n",
       "      <td>15</td>\n",
       "      <td>부산진구</td>\n",
       "      <td>부전2동</td>\n",
       "      <td>21050520</td>\n",
       "      <td>하나</td>\n",
       "      <td>4201</td>\n",
       "      <td>정장(남성)</td>\n",
       "      <td>3688</td>\n",
       "      <td>F</td>\n",
       "      <td>1</td>\n",
       "      <td>17000</td>\n",
       "      <td>Saturday</td>\n",
       "    </tr>\n",
       "    <tr>\n",
       "      <th>25407299</th>\n",
       "      <td>2022-08-22</td>\n",
       "      <td>18</td>\n",
       "      <td>해운대구</td>\n",
       "      <td>좌1동</td>\n",
       "      <td>21090660</td>\n",
       "      <td>하나</td>\n",
       "      <td>8006</td>\n",
       "      <td>서양음식</td>\n",
       "      <td>3688</td>\n",
       "      <td>F</td>\n",
       "      <td>1</td>\n",
       "      <td>5200</td>\n",
       "      <td>Monday</td>\n",
       "    </tr>\n",
       "    <tr>\n",
       "      <th>25454904</th>\n",
       "      <td>2022-08-22</td>\n",
       "      <td>22</td>\n",
       "      <td>해운대구</td>\n",
       "      <td>우2동</td>\n",
       "      <td>21090740</td>\n",
       "      <td>하나</td>\n",
       "      <td>4020</td>\n",
       "      <td>슈퍼마켓</td>\n",
       "      <td>3688</td>\n",
       "      <td>F</td>\n",
       "      <td>1</td>\n",
       "      <td>5900</td>\n",
       "      <td>Monday</td>\n",
       "    </tr>\n",
       "    <tr>\n",
       "      <th>25525403</th>\n",
       "      <td>2022-08-23</td>\n",
       "      <td>12</td>\n",
       "      <td>해운대구</td>\n",
       "      <td>우1동</td>\n",
       "      <td>21090730</td>\n",
       "      <td>하나</td>\n",
       "      <td>8006</td>\n",
       "      <td>서양음식</td>\n",
       "      <td>3688</td>\n",
       "      <td>F</td>\n",
       "      <td>1</td>\n",
       "      <td>7000</td>\n",
       "      <td>Tuesday</td>\n",
       "    </tr>\n",
       "    <tr>\n",
       "      <th>25638260</th>\n",
       "      <td>2022-08-23</td>\n",
       "      <td>19</td>\n",
       "      <td>해운대구</td>\n",
       "      <td>좌1동</td>\n",
       "      <td>21090660</td>\n",
       "      <td>하나</td>\n",
       "      <td>4010</td>\n",
       "      <td>편 의 점</td>\n",
       "      <td>3688</td>\n",
       "      <td>F</td>\n",
       "      <td>1</td>\n",
       "      <td>7900</td>\n",
       "      <td>Tuesday</td>\n",
       "    </tr>\n",
       "  </tbody>\n",
       "</table>\n",
       "<p>97 rows × 13 columns</p>\n",
       "</div>"
      ],
      "text/plain": [
       "          strd_date  strd_tizn_val ccg_nm adn_dgnm   adng_no cardc_nm  \\\n",
       "68381    2022-06-01             11   해운대구      우2동  21090740       하나   \n",
       "144065   2022-06-01             14     중구      보수동  21010540       하나   \n",
       "169975   2022-06-01             14    수영구     망미2동  21140550       코나   \n",
       "198852   2022-06-01             15    수영구      민락동  21140600       코나   \n",
       "298256   2022-06-01             19   해운대구      우2동  21090740       하나   \n",
       "...             ...            ...    ...      ...       ...      ...   \n",
       "24962252 2022-08-20             15   부산진구     부전2동  21050520       하나   \n",
       "25407299 2022-08-22             18   해운대구      좌1동  21090660       하나   \n",
       "25454904 2022-08-22             22   해운대구      우2동  21090740       하나   \n",
       "25525403 2022-08-23             12   해운대구      우1동  21090730       하나   \n",
       "25638260 2022-08-23             19   해운대구      좌1동  21090660       하나   \n",
       "\n",
       "          tpbuz_cd tpbuz_nm  bth_yr sex_cd  trns_cnt  ttl_trns_amt   day_name  \n",
       "68381         8006     서양음식    3688      F         1          4500  Wednesday  \n",
       "144065        8301      제과점    3688      F         1          4250  Wednesday  \n",
       "169975        8006     서양음식    3688      F         1         12000  Wednesday  \n",
       "198852        8301      제과점    3688      F         2         15000  Wednesday  \n",
       "298256        4020     슈퍼마켓    3688      F         1         11300  Wednesday  \n",
       "...            ...      ...     ...    ...       ...           ...        ...  \n",
       "24962252      4201   정장(남성)    3688      F         1         17000   Saturday  \n",
       "25407299      8006     서양음식    3688      F         1          5200     Monday  \n",
       "25454904      4020     슈퍼마켓    3688      F         1          5900     Monday  \n",
       "25525403      8006     서양음식    3688      F         1          7000    Tuesday  \n",
       "25638260      4010    편 의 점    3688      F         1          7900    Tuesday  \n",
       "\n",
       "[97 rows x 13 columns]"
      ]
     },
     "execution_count": 33,
     "metadata": {},
     "output_type": "execute_result"
    }
   ],
   "source": [
    "df[df['출생년도']==3688]"
   ]
  },
  {
   "cell_type": "code",
   "execution_count": 56,
   "metadata": {},
   "outputs": [],
   "source": [
    "df.drop(df[df['출생년도']=='4607'].index ,inplace=True, axis = 0)\n",
    "df.drop(df[df['출생년도']=='3688'].index ,inplace=True, axis = 0)"
   ]
  },
  {
   "cell_type": "code",
   "execution_count": 57,
   "metadata": {
    "scrolled": true
   },
   "outputs": [
    {
     "data": {
      "text/plain": [
       "출생년도\n",
       "1921    11018.51\n",
       "1923    15085.40\n",
       "1924    34360.42\n",
       "1925    28350.81\n",
       "1926   516666.67\n",
       "          ...   \n",
       "2006    34895.44\n",
       "2007    40207.72\n",
       "2008    36297.67\n",
       "3688    11852.37\n",
       "4607    31578.64\n",
       "Name: 총거래금액, Length: 89, dtype: float64"
      ]
     },
     "execution_count": 57,
     "metadata": {},
     "output_type": "execute_result"
    }
   ],
   "source": [
    "df.groupby(['출생년도'])['총거래금액'].mean()"
   ]
  },
  {
   "cell_type": "code",
   "execution_count": 58,
   "metadata": {},
   "outputs": [
    {
     "data": {
      "text/html": [
       "<div>\n",
       "<style scoped>\n",
       "    .dataframe tbody tr th:only-of-type {\n",
       "        vertical-align: middle;\n",
       "    }\n",
       "\n",
       "    .dataframe tbody tr th {\n",
       "        vertical-align: top;\n",
       "    }\n",
       "\n",
       "    .dataframe thead th {\n",
       "        text-align: right;\n",
       "    }\n",
       "</style>\n",
       "<table border=\"1\" class=\"dataframe\">\n",
       "  <thead>\n",
       "    <tr style=\"text-align: right;\">\n",
       "      <th></th>\n",
       "      <th>기준일자</th>\n",
       "      <th>기준시간대값</th>\n",
       "      <th>시군구명</th>\n",
       "      <th>행정동명</th>\n",
       "      <th>카드사명</th>\n",
       "      <th>업종명</th>\n",
       "      <th>출생년도</th>\n",
       "      <th>성별코드</th>\n",
       "      <th>거래건수</th>\n",
       "      <th>총거래금액</th>\n",
       "      <th>요일</th>\n",
       "    </tr>\n",
       "  </thead>\n",
       "  <tbody>\n",
       "    <tr>\n",
       "      <th>9371322</th>\n",
       "      <td>2022-06-28</td>\n",
       "      <td>14</td>\n",
       "      <td>수영구</td>\n",
       "      <td>민락동</td>\n",
       "      <td>코나</td>\n",
       "      <td>병원(응급실 운영)</td>\n",
       "      <td>1926</td>\n",
       "      <td>F</td>\n",
       "      <td>1</td>\n",
       "      <td>650000</td>\n",
       "      <td>Tuesday</td>\n",
       "    </tr>\n",
       "    <tr>\n",
       "      <th>18839249</th>\n",
       "      <td>2022-07-28</td>\n",
       "      <td>13</td>\n",
       "      <td>수영구</td>\n",
       "      <td>민락동</td>\n",
       "      <td>코나</td>\n",
       "      <td>병원(응급실 운영)</td>\n",
       "      <td>1926</td>\n",
       "      <td>F</td>\n",
       "      <td>2</td>\n",
       "      <td>600000</td>\n",
       "      <td>Thursday</td>\n",
       "    </tr>\n",
       "    <tr>\n",
       "      <th>26357044</th>\n",
       "      <td>2022-08-27</td>\n",
       "      <td>12</td>\n",
       "      <td>수영구</td>\n",
       "      <td>민락동</td>\n",
       "      <td>코나</td>\n",
       "      <td>병원(응급실 운영)</td>\n",
       "      <td>1926</td>\n",
       "      <td>F</td>\n",
       "      <td>1</td>\n",
       "      <td>300000</td>\n",
       "      <td>Saturday</td>\n",
       "    </tr>\n",
       "  </tbody>\n",
       "</table>\n",
       "</div>"
      ],
      "text/plain": [
       "               기준일자  기준시간대값 시군구명 행정동명 카드사명         업종명  출생년도 성별코드  거래건수  \\\n",
       "9371322  2022-06-28      14  수영구  민락동   코나  병원(응급실 운영)  1926    F     1   \n",
       "18839249 2022-07-28      13  수영구  민락동   코나  병원(응급실 운영)  1926    F     2   \n",
       "26357044 2022-08-27      12  수영구  민락동   코나  병원(응급실 운영)  1926    F     1   \n",
       "\n",
       "           총거래금액        요일  \n",
       "9371322   650000   Tuesday  \n",
       "18839249  600000  Thursday  \n",
       "26357044  300000  Saturday  "
      ]
     },
     "execution_count": 58,
     "metadata": {},
     "output_type": "execute_result"
    }
   ],
   "source": [
    "df[df['출생년도']==1926]"
   ]
  },
  {
   "cell_type": "code",
   "execution_count": 59,
   "metadata": {},
   "outputs": [],
   "source": [
    "#나이변수 생성\n",
    "df['age']=2022-df['출생년도']+1"
   ]
  },
  {
   "cell_type": "code",
   "execution_count": 60,
   "metadata": {},
   "outputs": [
    {
     "data": {
      "text/plain": [
       "array([   50,    42,    31,    28,    47,    38,    34,    27,    24,\n",
       "          46,    49,    51,    33,    29,    25,    59,    53,    40,\n",
       "          22,    26,    23,    43,    52,    36,    56,    48,    79,\n",
       "          66,    54,    58,    67,    55,    30,    32,    44,    60,\n",
       "          41,    62,    35,    45,    57,    20,    61,    37,    21,\n",
       "          39,    19,    63,    68,    64,    18,    17,    71,    70,\n",
       "          65,    76,    72,    74,    69,    16,    75,    81,    77,\n",
       "          90,    15,    73,    78,    91,    85,    82,    83,    80,\n",
       "          87,    89,    84,    88,    86, -1665,    94,    92,    98,\n",
       "          93,    95,   100, -2584,   102,    99,    96,    97],\n",
       "      dtype=int64)"
      ]
     },
     "execution_count": 60,
     "metadata": {},
     "output_type": "execute_result"
    }
   ],
   "source": [
    "df['age'].unique()"
   ]
  },
  {
   "cell_type": "code",
   "execution_count": 61,
   "metadata": {},
   "outputs": [],
   "source": [
    "df=df.drop(df[(df['age']<=0) | (df['age']>=120)].index)"
   ]
  },
  {
   "cell_type": "code",
   "execution_count": 62,
   "metadata": {},
   "outputs": [
    {
     "ename": "MemoryError",
     "evalue": "Unable to allocate 1.31 GiB for an array with shape (27135019,) and data type <U13",
     "output_type": "error",
     "traceback": [
      "\u001b[1;31m---------------------------------------------------------------------------\u001b[0m",
      "\u001b[1;31mMemoryError\u001b[0m                               Traceback (most recent call last)",
      "\u001b[1;32m<ipython-input-62-e61bcd9caf81>\u001b[0m in \u001b[0;36m<module>\u001b[1;34m\u001b[0m\n\u001b[0;32m      5\u001b[0m                (df['age']>=100)&(df['age']<110)]\n\u001b[0;32m      6\u001b[0m \u001b[0mchoicelist\u001b[0m\u001b[1;33m=\u001b[0m\u001b[1;33m[\u001b[0m\u001b[1;34m'0s'\u001b[0m\u001b[1;33m,\u001b[0m\u001b[1;34m'10s'\u001b[0m\u001b[1;33m,\u001b[0m\u001b[1;34m'20s'\u001b[0m\u001b[1;33m,\u001b[0m\u001b[1;34m'30s'\u001b[0m\u001b[1;33m,\u001b[0m\u001b[1;34m'40s'\u001b[0m\u001b[1;33m,\u001b[0m\u001b[1;34m'50s'\u001b[0m\u001b[1;33m,\u001b[0m\u001b[1;34m'60s'\u001b[0m\u001b[1;33m,\u001b[0m\u001b[1;34m'70s'\u001b[0m\u001b[1;33m,\u001b[0m\u001b[1;34m'80s'\u001b[0m\u001b[1;33m,\u001b[0m\u001b[1;34m'90s'\u001b[0m\u001b[1;33m,\u001b[0m\u001b[1;34m'100s'\u001b[0m\u001b[1;33m]\u001b[0m\u001b[1;33m\u001b[0m\u001b[1;33m\u001b[0m\u001b[0m\n\u001b[1;32m----> 7\u001b[1;33m \u001b[0mdf\u001b[0m\u001b[1;33m[\u001b[0m\u001b[1;34m'age_range'\u001b[0m\u001b[1;33m]\u001b[0m \u001b[1;33m=\u001b[0m \u001b[0mnp\u001b[0m\u001b[1;33m.\u001b[0m\u001b[0mselect\u001b[0m\u001b[1;33m(\u001b[0m\u001b[0mconditionlist\u001b[0m\u001b[1;33m,\u001b[0m \u001b[0mchoicelist\u001b[0m\u001b[1;33m,\u001b[0m \u001b[0mdefault\u001b[0m\u001b[1;33m=\u001b[0m\u001b[1;34m'Not Specified'\u001b[0m\u001b[1;33m)\u001b[0m\u001b[1;33m\u001b[0m\u001b[1;33m\u001b[0m\u001b[0m\n\u001b[0m",
      "\u001b[1;32mC:\\ProgramData\\Anaconda3\\lib\\site-packages\\numpy\\core\\overrides.py\u001b[0m in \u001b[0;36mselect\u001b[1;34m(*args, **kwargs)\u001b[0m\n",
      "\u001b[1;32mC:\\ProgramData\\Anaconda3\\lib\\site-packages\\numpy\\lib\\function_base.py\u001b[0m in \u001b[0;36mselect\u001b[1;34m(condlist, choicelist, default)\u001b[0m\n\u001b[0;32m    851\u001b[0m         \u001b[0mresult_shape\u001b[0m \u001b[1;33m=\u001b[0m \u001b[0mnp\u001b[0m\u001b[1;33m.\u001b[0m\u001b[0mbroadcast_arrays\u001b[0m\u001b[1;33m(\u001b[0m\u001b[0mcondlist\u001b[0m\u001b[1;33m[\u001b[0m\u001b[1;36m0\u001b[0m\u001b[1;33m]\u001b[0m\u001b[1;33m,\u001b[0m \u001b[0mchoicelist\u001b[0m\u001b[1;33m[\u001b[0m\u001b[1;36m0\u001b[0m\u001b[1;33m]\u001b[0m\u001b[1;33m)\u001b[0m\u001b[1;33m[\u001b[0m\u001b[1;36m0\u001b[0m\u001b[1;33m]\u001b[0m\u001b[1;33m.\u001b[0m\u001b[0mshape\u001b[0m\u001b[1;33m\u001b[0m\u001b[1;33m\u001b[0m\u001b[0m\n\u001b[0;32m    852\u001b[0m \u001b[1;33m\u001b[0m\u001b[0m\n\u001b[1;32m--> 853\u001b[1;33m     \u001b[0mresult\u001b[0m \u001b[1;33m=\u001b[0m \u001b[0mnp\u001b[0m\u001b[1;33m.\u001b[0m\u001b[0mfull\u001b[0m\u001b[1;33m(\u001b[0m\u001b[0mresult_shape\u001b[0m\u001b[1;33m,\u001b[0m \u001b[0mchoicelist\u001b[0m\u001b[1;33m[\u001b[0m\u001b[1;33m-\u001b[0m\u001b[1;36m1\u001b[0m\u001b[1;33m]\u001b[0m\u001b[1;33m,\u001b[0m \u001b[0mdtype\u001b[0m\u001b[1;33m)\u001b[0m\u001b[1;33m\u001b[0m\u001b[1;33m\u001b[0m\u001b[0m\n\u001b[0m\u001b[0;32m    854\u001b[0m \u001b[1;33m\u001b[0m\u001b[0m\n\u001b[0;32m    855\u001b[0m     \u001b[1;31m# Use np.copyto to burn each choicelist array onto result, using the\u001b[0m\u001b[1;33m\u001b[0m\u001b[1;33m\u001b[0m\u001b[1;33m\u001b[0m\u001b[0m\n",
      "\u001b[1;32mC:\\ProgramData\\Anaconda3\\lib\\site-packages\\numpy\\core\\numeric.py\u001b[0m in \u001b[0;36mfull\u001b[1;34m(shape, fill_value, dtype, order, like)\u001b[0m\n\u001b[0;32m    341\u001b[0m         \u001b[0mfill_value\u001b[0m \u001b[1;33m=\u001b[0m \u001b[0masarray\u001b[0m\u001b[1;33m(\u001b[0m\u001b[0mfill_value\u001b[0m\u001b[1;33m)\u001b[0m\u001b[1;33m\u001b[0m\u001b[1;33m\u001b[0m\u001b[0m\n\u001b[0;32m    342\u001b[0m         \u001b[0mdtype\u001b[0m \u001b[1;33m=\u001b[0m \u001b[0mfill_value\u001b[0m\u001b[1;33m.\u001b[0m\u001b[0mdtype\u001b[0m\u001b[1;33m\u001b[0m\u001b[1;33m\u001b[0m\u001b[0m\n\u001b[1;32m--> 343\u001b[1;33m     \u001b[0ma\u001b[0m \u001b[1;33m=\u001b[0m \u001b[0mempty\u001b[0m\u001b[1;33m(\u001b[0m\u001b[0mshape\u001b[0m\u001b[1;33m,\u001b[0m \u001b[0mdtype\u001b[0m\u001b[1;33m,\u001b[0m \u001b[0morder\u001b[0m\u001b[1;33m)\u001b[0m\u001b[1;33m\u001b[0m\u001b[1;33m\u001b[0m\u001b[0m\n\u001b[0m\u001b[0;32m    344\u001b[0m     \u001b[0mmultiarray\u001b[0m\u001b[1;33m.\u001b[0m\u001b[0mcopyto\u001b[0m\u001b[1;33m(\u001b[0m\u001b[0ma\u001b[0m\u001b[1;33m,\u001b[0m \u001b[0mfill_value\u001b[0m\u001b[1;33m,\u001b[0m \u001b[0mcasting\u001b[0m\u001b[1;33m=\u001b[0m\u001b[1;34m'unsafe'\u001b[0m\u001b[1;33m)\u001b[0m\u001b[1;33m\u001b[0m\u001b[1;33m\u001b[0m\u001b[0m\n\u001b[0;32m    345\u001b[0m     \u001b[1;32mreturn\u001b[0m \u001b[0ma\u001b[0m\u001b[1;33m\u001b[0m\u001b[1;33m\u001b[0m\u001b[0m\n",
      "\u001b[1;31mMemoryError\u001b[0m: Unable to allocate 1.31 GiB for an array with shape (27135019,) and data type <U13"
     ]
    }
   ],
   "source": [
    "#age변수 이용하여 연령대 변수 생성\n",
    "conditionlist=[(df['age']<10), (df['age']>=10) & (df['age']<20), (df['age']>=20) & (df['age']<30), (df['age']>=30) & (df['age']<40),\n",
    "              (df['age']>=40)&(df['age']<50), (df['age']>=50)&(df['age']<60),(df['age']>=60)&(df['age']<70),\n",
    "              (df['age']>=70)&(df['age']<80),(df['age']>=80)&(df['age']<90),(df['age']>=90)&(df['age']<100),\n",
    "               (df['age']>=100)&(df['age']<110)]\n",
    "choicelist=['0s','10s','20s','30s','40s','50s','60s','70s','80s','90s','100s']\n",
    "df['age_range'] = np.select(conditionlist, choicelist, default='Not Specified')"
   ]
  },
  {
   "cell_type": "code",
   "execution_count": 63,
   "metadata": {},
   "outputs": [
    {
     "data": {
      "text/html": [
       "<div>\n",
       "<style scoped>\n",
       "    .dataframe tbody tr th:only-of-type {\n",
       "        vertical-align: middle;\n",
       "    }\n",
       "\n",
       "    .dataframe tbody tr th {\n",
       "        vertical-align: top;\n",
       "    }\n",
       "\n",
       "    .dataframe thead th {\n",
       "        text-align: right;\n",
       "    }\n",
       "</style>\n",
       "<table border=\"1\" class=\"dataframe\">\n",
       "  <thead>\n",
       "    <tr style=\"text-align: right;\">\n",
       "      <th></th>\n",
       "      <th>기준일자</th>\n",
       "      <th>기준시간대값</th>\n",
       "      <th>시군구명</th>\n",
       "      <th>행정동명</th>\n",
       "      <th>카드사명</th>\n",
       "      <th>업종명</th>\n",
       "      <th>출생년도</th>\n",
       "      <th>성별코드</th>\n",
       "      <th>거래건수</th>\n",
       "      <th>총거래금액</th>\n",
       "      <th>요일</th>\n",
       "      <th>age</th>\n",
       "    </tr>\n",
       "  </thead>\n",
       "  <tbody>\n",
       "    <tr>\n",
       "      <th>0</th>\n",
       "      <td>2022-06-01</td>\n",
       "      <td>0</td>\n",
       "      <td>중구</td>\n",
       "      <td>대청동</td>\n",
       "      <td>코나</td>\n",
       "      <td>편 의 점</td>\n",
       "      <td>1973</td>\n",
       "      <td>M</td>\n",
       "      <td>1</td>\n",
       "      <td>7350</td>\n",
       "      <td>Wednesday</td>\n",
       "      <td>50</td>\n",
       "    </tr>\n",
       "    <tr>\n",
       "      <th>1</th>\n",
       "      <td>2022-06-01</td>\n",
       "      <td>0</td>\n",
       "      <td>중구</td>\n",
       "      <td>중앙동</td>\n",
       "      <td>부산</td>\n",
       "      <td>편 의 점</td>\n",
       "      <td>1981</td>\n",
       "      <td>F</td>\n",
       "      <td>1</td>\n",
       "      <td>3700</td>\n",
       "      <td>Wednesday</td>\n",
       "      <td>42</td>\n",
       "    </tr>\n",
       "    <tr>\n",
       "      <th>2</th>\n",
       "      <td>2022-06-01</td>\n",
       "      <td>0</td>\n",
       "      <td>중구</td>\n",
       "      <td>중앙동</td>\n",
       "      <td>부산</td>\n",
       "      <td>편 의 점</td>\n",
       "      <td>1992</td>\n",
       "      <td>M</td>\n",
       "      <td>1</td>\n",
       "      <td>7500</td>\n",
       "      <td>Wednesday</td>\n",
       "      <td>31</td>\n",
       "    </tr>\n",
       "    <tr>\n",
       "      <th>3</th>\n",
       "      <td>2022-06-01</td>\n",
       "      <td>0</td>\n",
       "      <td>중구</td>\n",
       "      <td>중앙동</td>\n",
       "      <td>부산</td>\n",
       "      <td>편 의 점</td>\n",
       "      <td>1995</td>\n",
       "      <td>M</td>\n",
       "      <td>1</td>\n",
       "      <td>2700</td>\n",
       "      <td>Wednesday</td>\n",
       "      <td>28</td>\n",
       "    </tr>\n",
       "    <tr>\n",
       "      <th>4</th>\n",
       "      <td>2022-06-01</td>\n",
       "      <td>0</td>\n",
       "      <td>중구</td>\n",
       "      <td>중앙동</td>\n",
       "      <td>코나</td>\n",
       "      <td>편 의 점</td>\n",
       "      <td>1976</td>\n",
       "      <td>M</td>\n",
       "      <td>1</td>\n",
       "      <td>13900</td>\n",
       "      <td>Wednesday</td>\n",
       "      <td>47</td>\n",
       "    </tr>\n",
       "    <tr>\n",
       "      <th>...</th>\n",
       "      <td>...</td>\n",
       "      <td>...</td>\n",
       "      <td>...</td>\n",
       "      <td>...</td>\n",
       "      <td>...</td>\n",
       "      <td>...</td>\n",
       "      <td>...</td>\n",
       "      <td>...</td>\n",
       "      <td>...</td>\n",
       "      <td>...</td>\n",
       "      <td>...</td>\n",
       "      <td>...</td>\n",
       "    </tr>\n",
       "    <tr>\n",
       "      <th>27135155</th>\n",
       "      <td>2022-08-01</td>\n",
       "      <td>0</td>\n",
       "      <td>영도구</td>\n",
       "      <td>동삼1동</td>\n",
       "      <td>코나</td>\n",
       "      <td>슈퍼마켓</td>\n",
       "      <td>1958</td>\n",
       "      <td>M</td>\n",
       "      <td>1</td>\n",
       "      <td>30000</td>\n",
       "      <td>Monday</td>\n",
       "      <td>65</td>\n",
       "    </tr>\n",
       "    <tr>\n",
       "      <th>27135156</th>\n",
       "      <td>2022-08-01</td>\n",
       "      <td>0</td>\n",
       "      <td>영도구</td>\n",
       "      <td>동삼1동</td>\n",
       "      <td>코나</td>\n",
       "      <td>주점</td>\n",
       "      <td>1998</td>\n",
       "      <td>M</td>\n",
       "      <td>1</td>\n",
       "      <td>59600</td>\n",
       "      <td>Monday</td>\n",
       "      <td>25</td>\n",
       "    </tr>\n",
       "    <tr>\n",
       "      <th>27135157</th>\n",
       "      <td>2022-08-01</td>\n",
       "      <td>0</td>\n",
       "      <td>영도구</td>\n",
       "      <td>동삼1동</td>\n",
       "      <td>코나</td>\n",
       "      <td>기타음료식품</td>\n",
       "      <td>1998</td>\n",
       "      <td>F</td>\n",
       "      <td>1</td>\n",
       "      <td>7500</td>\n",
       "      <td>Monday</td>\n",
       "      <td>25</td>\n",
       "    </tr>\n",
       "    <tr>\n",
       "      <th>27135158</th>\n",
       "      <td>2022-08-01</td>\n",
       "      <td>0</td>\n",
       "      <td>영도구</td>\n",
       "      <td>동삼1동</td>\n",
       "      <td>하나</td>\n",
       "      <td>편 의 점</td>\n",
       "      <td>1971</td>\n",
       "      <td>F</td>\n",
       "      <td>2</td>\n",
       "      <td>7600</td>\n",
       "      <td>Monday</td>\n",
       "      <td>52</td>\n",
       "    </tr>\n",
       "    <tr>\n",
       "      <th>27135159</th>\n",
       "      <td>2022-08-01</td>\n",
       "      <td>0</td>\n",
       "      <td>영도구</td>\n",
       "      <td>동삼1동</td>\n",
       "      <td>하나</td>\n",
       "      <td>편 의 점</td>\n",
       "      <td>2001</td>\n",
       "      <td>M</td>\n",
       "      <td>1</td>\n",
       "      <td>2200</td>\n",
       "      <td>Monday</td>\n",
       "      <td>22</td>\n",
       "    </tr>\n",
       "  </tbody>\n",
       "</table>\n",
       "<p>27135019 rows × 12 columns</p>\n",
       "</div>"
      ],
      "text/plain": [
       "               기준일자  기준시간대값 시군구명  행정동명 카드사명     업종명  출생년도 성별코드  거래건수  총거래금액  \\\n",
       "0        2022-06-01       0   중구   대청동   코나   편 의 점  1973    M     1   7350   \n",
       "1        2022-06-01       0   중구   중앙동   부산   편 의 점  1981    F     1   3700   \n",
       "2        2022-06-01       0   중구   중앙동   부산   편 의 점  1992    M     1   7500   \n",
       "3        2022-06-01       0   중구   중앙동   부산   편 의 점  1995    M     1   2700   \n",
       "4        2022-06-01       0   중구   중앙동   코나   편 의 점  1976    M     1  13900   \n",
       "...             ...     ...  ...   ...  ...     ...   ...  ...   ...    ...   \n",
       "27135155 2022-08-01       0  영도구  동삼1동   코나    슈퍼마켓  1958    M     1  30000   \n",
       "27135156 2022-08-01       0  영도구  동삼1동   코나      주점  1998    M     1  59600   \n",
       "27135157 2022-08-01       0  영도구  동삼1동   코나  기타음료식품  1998    F     1   7500   \n",
       "27135158 2022-08-01       0  영도구  동삼1동   하나   편 의 점  1971    F     2   7600   \n",
       "27135159 2022-08-01       0  영도구  동삼1동   하나   편 의 점  2001    M     1   2200   \n",
       "\n",
       "                 요일  age  \n",
       "0         Wednesday   50  \n",
       "1         Wednesday   42  \n",
       "2         Wednesday   31  \n",
       "3         Wednesday   28  \n",
       "4         Wednesday   47  \n",
       "...             ...  ...  \n",
       "27135155     Monday   65  \n",
       "27135156     Monday   25  \n",
       "27135157     Monday   25  \n",
       "27135158     Monday   52  \n",
       "27135159     Monday   22  \n",
       "\n",
       "[27135019 rows x 12 columns]"
      ]
     },
     "execution_count": 63,
     "metadata": {},
     "output_type": "execute_result"
    }
   ],
   "source": [
    "df"
   ]
  },
  {
   "cell_type": "code",
   "execution_count": 64,
   "metadata": {},
   "outputs": [
    {
     "ename": "MemoryError",
     "evalue": "Unable to allocate 1.21 GiB for an array with shape (6, 27135019) and data type object",
     "output_type": "error",
     "traceback": [
      "\u001b[1;31m---------------------------------------------------------------------------\u001b[0m",
      "\u001b[1;31mMemoryError\u001b[0m                               Traceback (most recent call last)",
      "\u001b[1;32m<ipython-input-64-e93f80a54078>\u001b[0m in \u001b[0;36m<module>\u001b[1;34m\u001b[0m\n\u001b[1;32m----> 1\u001b[1;33m \u001b[0mdf\u001b[0m\u001b[1;33m=\u001b[0m\u001b[0mdf\u001b[0m\u001b[1;33m.\u001b[0m\u001b[0mdrop\u001b[0m\u001b[1;33m(\u001b[0m\u001b[1;33m[\u001b[0m\u001b[1;34m'age'\u001b[0m\u001b[1;33m]\u001b[0m\u001b[1;33m,\u001b[0m \u001b[0maxis\u001b[0m\u001b[1;33m=\u001b[0m\u001b[1;36m1\u001b[0m\u001b[1;33m)\u001b[0m\u001b[1;33m\u001b[0m\u001b[1;33m\u001b[0m\u001b[0m\n\u001b[0m",
      "\u001b[1;32mC:\\ProgramData\\Anaconda3\\lib\\site-packages\\pandas\\core\\frame.py\u001b[0m in \u001b[0;36mdrop\u001b[1;34m(self, labels, axis, index, columns, level, inplace, errors)\u001b[0m\n\u001b[0;32m   4161\u001b[0m                 \u001b[0mweight\u001b[0m  \u001b[1;36m1.0\u001b[0m     \u001b[1;36m0.8\u001b[0m\u001b[1;33m\u001b[0m\u001b[1;33m\u001b[0m\u001b[0m\n\u001b[0;32m   4162\u001b[0m         \"\"\"\n\u001b[1;32m-> 4163\u001b[1;33m         return super().drop(\n\u001b[0m\u001b[0;32m   4164\u001b[0m             \u001b[0mlabels\u001b[0m\u001b[1;33m=\u001b[0m\u001b[0mlabels\u001b[0m\u001b[1;33m,\u001b[0m\u001b[1;33m\u001b[0m\u001b[1;33m\u001b[0m\u001b[0m\n\u001b[0;32m   4165\u001b[0m             \u001b[0maxis\u001b[0m\u001b[1;33m=\u001b[0m\u001b[0maxis\u001b[0m\u001b[1;33m,\u001b[0m\u001b[1;33m\u001b[0m\u001b[1;33m\u001b[0m\u001b[0m\n",
      "\u001b[1;32mC:\\ProgramData\\Anaconda3\\lib\\site-packages\\pandas\\core\\generic.py\u001b[0m in \u001b[0;36mdrop\u001b[1;34m(self, labels, axis, index, columns, level, inplace, errors)\u001b[0m\n\u001b[0;32m   3885\u001b[0m         \u001b[1;32mfor\u001b[0m \u001b[0maxis\u001b[0m\u001b[1;33m,\u001b[0m \u001b[0mlabels\u001b[0m \u001b[1;32min\u001b[0m \u001b[0maxes\u001b[0m\u001b[1;33m.\u001b[0m\u001b[0mitems\u001b[0m\u001b[1;33m(\u001b[0m\u001b[1;33m)\u001b[0m\u001b[1;33m:\u001b[0m\u001b[1;33m\u001b[0m\u001b[1;33m\u001b[0m\u001b[0m\n\u001b[0;32m   3886\u001b[0m             \u001b[1;32mif\u001b[0m \u001b[0mlabels\u001b[0m \u001b[1;32mis\u001b[0m \u001b[1;32mnot\u001b[0m \u001b[1;32mNone\u001b[0m\u001b[1;33m:\u001b[0m\u001b[1;33m\u001b[0m\u001b[1;33m\u001b[0m\u001b[0m\n\u001b[1;32m-> 3887\u001b[1;33m                 \u001b[0mobj\u001b[0m \u001b[1;33m=\u001b[0m \u001b[0mobj\u001b[0m\u001b[1;33m.\u001b[0m\u001b[0m_drop_axis\u001b[0m\u001b[1;33m(\u001b[0m\u001b[0mlabels\u001b[0m\u001b[1;33m,\u001b[0m \u001b[0maxis\u001b[0m\u001b[1;33m,\u001b[0m \u001b[0mlevel\u001b[0m\u001b[1;33m=\u001b[0m\u001b[0mlevel\u001b[0m\u001b[1;33m,\u001b[0m \u001b[0merrors\u001b[0m\u001b[1;33m=\u001b[0m\u001b[0merrors\u001b[0m\u001b[1;33m)\u001b[0m\u001b[1;33m\u001b[0m\u001b[1;33m\u001b[0m\u001b[0m\n\u001b[0m\u001b[0;32m   3888\u001b[0m \u001b[1;33m\u001b[0m\u001b[0m\n\u001b[0;32m   3889\u001b[0m         \u001b[1;32mif\u001b[0m \u001b[0minplace\u001b[0m\u001b[1;33m:\u001b[0m\u001b[1;33m\u001b[0m\u001b[1;33m\u001b[0m\u001b[0m\n",
      "\u001b[1;32mC:\\ProgramData\\Anaconda3\\lib\\site-packages\\pandas\\core\\generic.py\u001b[0m in \u001b[0;36m_drop_axis\u001b[1;34m(self, labels, axis, level, errors)\u001b[0m\n\u001b[0;32m   3920\u001b[0m             \u001b[1;32melse\u001b[0m\u001b[1;33m:\u001b[0m\u001b[1;33m\u001b[0m\u001b[1;33m\u001b[0m\u001b[0m\n\u001b[0;32m   3921\u001b[0m                 \u001b[0mnew_axis\u001b[0m \u001b[1;33m=\u001b[0m \u001b[0maxis\u001b[0m\u001b[1;33m.\u001b[0m\u001b[0mdrop\u001b[0m\u001b[1;33m(\u001b[0m\u001b[0mlabels\u001b[0m\u001b[1;33m,\u001b[0m \u001b[0merrors\u001b[0m\u001b[1;33m=\u001b[0m\u001b[0merrors\u001b[0m\u001b[1;33m)\u001b[0m\u001b[1;33m\u001b[0m\u001b[1;33m\u001b[0m\u001b[0m\n\u001b[1;32m-> 3922\u001b[1;33m             \u001b[0mresult\u001b[0m \u001b[1;33m=\u001b[0m \u001b[0mself\u001b[0m\u001b[1;33m.\u001b[0m\u001b[0mreindex\u001b[0m\u001b[1;33m(\u001b[0m\u001b[1;33m**\u001b[0m\u001b[1;33m{\u001b[0m\u001b[0maxis_name\u001b[0m\u001b[1;33m:\u001b[0m \u001b[0mnew_axis\u001b[0m\u001b[1;33m}\u001b[0m\u001b[1;33m)\u001b[0m\u001b[1;33m\u001b[0m\u001b[1;33m\u001b[0m\u001b[0m\n\u001b[0m\u001b[0;32m   3923\u001b[0m \u001b[1;33m\u001b[0m\u001b[0m\n\u001b[0;32m   3924\u001b[0m         \u001b[1;31m# Case for non-unique axis\u001b[0m\u001b[1;33m\u001b[0m\u001b[1;33m\u001b[0m\u001b[1;33m\u001b[0m\u001b[0m\n",
      "\u001b[1;32mC:\\ProgramData\\Anaconda3\\lib\\site-packages\\pandas\\util\\_decorators.py\u001b[0m in \u001b[0;36mwrapper\u001b[1;34m(*args, **kwargs)\u001b[0m\n\u001b[0;32m    307\u001b[0m         \u001b[1;33m@\u001b[0m\u001b[0mwraps\u001b[0m\u001b[1;33m(\u001b[0m\u001b[0mfunc\u001b[0m\u001b[1;33m)\u001b[0m\u001b[1;33m\u001b[0m\u001b[1;33m\u001b[0m\u001b[0m\n\u001b[0;32m    308\u001b[0m         \u001b[1;32mdef\u001b[0m \u001b[0mwrapper\u001b[0m\u001b[1;33m(\u001b[0m\u001b[1;33m*\u001b[0m\u001b[0margs\u001b[0m\u001b[1;33m,\u001b[0m \u001b[1;33m**\u001b[0m\u001b[0mkwargs\u001b[0m\u001b[1;33m)\u001b[0m \u001b[1;33m->\u001b[0m \u001b[0mCallable\u001b[0m\u001b[1;33m[\u001b[0m\u001b[1;33m...\u001b[0m\u001b[1;33m,\u001b[0m \u001b[0mAny\u001b[0m\u001b[1;33m]\u001b[0m\u001b[1;33m:\u001b[0m\u001b[1;33m\u001b[0m\u001b[1;33m\u001b[0m\u001b[0m\n\u001b[1;32m--> 309\u001b[1;33m             \u001b[1;32mreturn\u001b[0m \u001b[0mfunc\u001b[0m\u001b[1;33m(\u001b[0m\u001b[1;33m*\u001b[0m\u001b[0margs\u001b[0m\u001b[1;33m,\u001b[0m \u001b[1;33m**\u001b[0m\u001b[0mkwargs\u001b[0m\u001b[1;33m)\u001b[0m\u001b[1;33m\u001b[0m\u001b[1;33m\u001b[0m\u001b[0m\n\u001b[0m\u001b[0;32m    310\u001b[0m \u001b[1;33m\u001b[0m\u001b[0m\n\u001b[0;32m    311\u001b[0m         \u001b[0mkind\u001b[0m \u001b[1;33m=\u001b[0m \u001b[0minspect\u001b[0m\u001b[1;33m.\u001b[0m\u001b[0mParameter\u001b[0m\u001b[1;33m.\u001b[0m\u001b[0mPOSITIONAL_OR_KEYWORD\u001b[0m\u001b[1;33m\u001b[0m\u001b[1;33m\u001b[0m\u001b[0m\n",
      "\u001b[1;32mC:\\ProgramData\\Anaconda3\\lib\\site-packages\\pandas\\core\\frame.py\u001b[0m in \u001b[0;36mreindex\u001b[1;34m(self, *args, **kwargs)\u001b[0m\n\u001b[0;32m   4030\u001b[0m         \u001b[0mkwargs\u001b[0m\u001b[1;33m.\u001b[0m\u001b[0mpop\u001b[0m\u001b[1;33m(\u001b[0m\u001b[1;34m\"axis\"\u001b[0m\u001b[1;33m,\u001b[0m \u001b[1;32mNone\u001b[0m\u001b[1;33m)\u001b[0m\u001b[1;33m\u001b[0m\u001b[1;33m\u001b[0m\u001b[0m\n\u001b[0;32m   4031\u001b[0m         \u001b[0mkwargs\u001b[0m\u001b[1;33m.\u001b[0m\u001b[0mpop\u001b[0m\u001b[1;33m(\u001b[0m\u001b[1;34m\"labels\"\u001b[0m\u001b[1;33m,\u001b[0m \u001b[1;32mNone\u001b[0m\u001b[1;33m)\u001b[0m\u001b[1;33m\u001b[0m\u001b[1;33m\u001b[0m\u001b[0m\n\u001b[1;32m-> 4032\u001b[1;33m         \u001b[1;32mreturn\u001b[0m \u001b[0msuper\u001b[0m\u001b[1;33m(\u001b[0m\u001b[1;33m)\u001b[0m\u001b[1;33m.\u001b[0m\u001b[0mreindex\u001b[0m\u001b[1;33m(\u001b[0m\u001b[1;33m**\u001b[0m\u001b[0mkwargs\u001b[0m\u001b[1;33m)\u001b[0m\u001b[1;33m\u001b[0m\u001b[1;33m\u001b[0m\u001b[0m\n\u001b[0m\u001b[0;32m   4033\u001b[0m \u001b[1;33m\u001b[0m\u001b[0m\n\u001b[0;32m   4034\u001b[0m     def drop(\n",
      "\u001b[1;32mC:\\ProgramData\\Anaconda3\\lib\\site-packages\\pandas\\core\\generic.py\u001b[0m in \u001b[0;36mreindex\u001b[1;34m(self, *args, **kwargs)\u001b[0m\n\u001b[0;32m   4459\u001b[0m \u001b[1;33m\u001b[0m\u001b[0m\n\u001b[0;32m   4460\u001b[0m         \u001b[1;31m# perform the reindex on the axes\u001b[0m\u001b[1;33m\u001b[0m\u001b[1;33m\u001b[0m\u001b[1;33m\u001b[0m\u001b[0m\n\u001b[1;32m-> 4461\u001b[1;33m         return self._reindex_axes(\n\u001b[0m\u001b[0;32m   4462\u001b[0m             \u001b[0maxes\u001b[0m\u001b[1;33m,\u001b[0m \u001b[0mlevel\u001b[0m\u001b[1;33m,\u001b[0m \u001b[0mlimit\u001b[0m\u001b[1;33m,\u001b[0m \u001b[0mtolerance\u001b[0m\u001b[1;33m,\u001b[0m \u001b[0mmethod\u001b[0m\u001b[1;33m,\u001b[0m \u001b[0mfill_value\u001b[0m\u001b[1;33m,\u001b[0m \u001b[0mcopy\u001b[0m\u001b[1;33m\u001b[0m\u001b[1;33m\u001b[0m\u001b[0m\n\u001b[0;32m   4463\u001b[0m         ).__finalize__(self, method=\"reindex\")\n",
      "\u001b[1;32mC:\\ProgramData\\Anaconda3\\lib\\site-packages\\pandas\\core\\frame.py\u001b[0m in \u001b[0;36m_reindex_axes\u001b[1;34m(self, axes, level, limit, tolerance, method, fill_value, copy)\u001b[0m\n\u001b[0;32m   3870\u001b[0m         \u001b[0mcolumns\u001b[0m \u001b[1;33m=\u001b[0m \u001b[0maxes\u001b[0m\u001b[1;33m[\u001b[0m\u001b[1;34m\"columns\"\u001b[0m\u001b[1;33m]\u001b[0m\u001b[1;33m\u001b[0m\u001b[1;33m\u001b[0m\u001b[0m\n\u001b[0;32m   3871\u001b[0m         \u001b[1;32mif\u001b[0m \u001b[0mcolumns\u001b[0m \u001b[1;32mis\u001b[0m \u001b[1;32mnot\u001b[0m \u001b[1;32mNone\u001b[0m\u001b[1;33m:\u001b[0m\u001b[1;33m\u001b[0m\u001b[1;33m\u001b[0m\u001b[0m\n\u001b[1;32m-> 3872\u001b[1;33m             frame = frame._reindex_columns(\n\u001b[0m\u001b[0;32m   3873\u001b[0m                 \u001b[0mcolumns\u001b[0m\u001b[1;33m,\u001b[0m \u001b[0mmethod\u001b[0m\u001b[1;33m,\u001b[0m \u001b[0mcopy\u001b[0m\u001b[1;33m,\u001b[0m \u001b[0mlevel\u001b[0m\u001b[1;33m,\u001b[0m \u001b[0mfill_value\u001b[0m\u001b[1;33m,\u001b[0m \u001b[0mlimit\u001b[0m\u001b[1;33m,\u001b[0m \u001b[0mtolerance\u001b[0m\u001b[1;33m\u001b[0m\u001b[1;33m\u001b[0m\u001b[0m\n\u001b[0;32m   3874\u001b[0m             )\n",
      "\u001b[1;32mC:\\ProgramData\\Anaconda3\\lib\\site-packages\\pandas\\core\\frame.py\u001b[0m in \u001b[0;36m_reindex_columns\u001b[1;34m(self, new_columns, method, copy, level, fill_value, limit, tolerance)\u001b[0m\n\u001b[0;32m   3915\u001b[0m             \u001b[0mnew_columns\u001b[0m\u001b[1;33m,\u001b[0m \u001b[0mmethod\u001b[0m\u001b[1;33m=\u001b[0m\u001b[0mmethod\u001b[0m\u001b[1;33m,\u001b[0m \u001b[0mlevel\u001b[0m\u001b[1;33m=\u001b[0m\u001b[0mlevel\u001b[0m\u001b[1;33m,\u001b[0m \u001b[0mlimit\u001b[0m\u001b[1;33m=\u001b[0m\u001b[0mlimit\u001b[0m\u001b[1;33m,\u001b[0m \u001b[0mtolerance\u001b[0m\u001b[1;33m=\u001b[0m\u001b[0mtolerance\u001b[0m\u001b[1;33m\u001b[0m\u001b[1;33m\u001b[0m\u001b[0m\n\u001b[0;32m   3916\u001b[0m         )\n\u001b[1;32m-> 3917\u001b[1;33m         return self._reindex_with_indexers(\n\u001b[0m\u001b[0;32m   3918\u001b[0m             \u001b[1;33m{\u001b[0m\u001b[1;36m1\u001b[0m\u001b[1;33m:\u001b[0m \u001b[1;33m[\u001b[0m\u001b[0mnew_columns\u001b[0m\u001b[1;33m,\u001b[0m \u001b[0mindexer\u001b[0m\u001b[1;33m]\u001b[0m\u001b[1;33m}\u001b[0m\u001b[1;33m,\u001b[0m\u001b[1;33m\u001b[0m\u001b[1;33m\u001b[0m\u001b[0m\n\u001b[0;32m   3919\u001b[0m             \u001b[0mcopy\u001b[0m\u001b[1;33m=\u001b[0m\u001b[0mcopy\u001b[0m\u001b[1;33m,\u001b[0m\u001b[1;33m\u001b[0m\u001b[1;33m\u001b[0m\u001b[0m\n",
      "\u001b[1;32mC:\\ProgramData\\Anaconda3\\lib\\site-packages\\pandas\\core\\generic.py\u001b[0m in \u001b[0;36m_reindex_with_indexers\u001b[1;34m(self, reindexers, fill_value, copy, allow_dups)\u001b[0m\n\u001b[0;32m   4522\u001b[0m \u001b[1;33m\u001b[0m\u001b[0m\n\u001b[0;32m   4523\u001b[0m             \u001b[1;31m# TODO: speed up on homogeneous DataFrame objects\u001b[0m\u001b[1;33m\u001b[0m\u001b[1;33m\u001b[0m\u001b[1;33m\u001b[0m\u001b[0m\n\u001b[1;32m-> 4524\u001b[1;33m             new_data = new_data.reindex_indexer(\n\u001b[0m\u001b[0;32m   4525\u001b[0m                 \u001b[0mindex\u001b[0m\u001b[1;33m,\u001b[0m\u001b[1;33m\u001b[0m\u001b[1;33m\u001b[0m\u001b[0m\n\u001b[0;32m   4526\u001b[0m                 \u001b[0mindexer\u001b[0m\u001b[1;33m,\u001b[0m\u001b[1;33m\u001b[0m\u001b[1;33m\u001b[0m\u001b[0m\n",
      "\u001b[1;32mC:\\ProgramData\\Anaconda3\\lib\\site-packages\\pandas\\core\\internals\\managers.py\u001b[0m in \u001b[0;36mreindex_indexer\u001b[1;34m(self, new_axis, indexer, axis, fill_value, allow_dups, copy, consolidate)\u001b[0m\n\u001b[0;32m   1280\u001b[0m \u001b[1;33m\u001b[0m\u001b[0m\n\u001b[0;32m   1281\u001b[0m         \u001b[1;32mif\u001b[0m \u001b[0maxis\u001b[0m \u001b[1;33m==\u001b[0m \u001b[1;36m0\u001b[0m\u001b[1;33m:\u001b[0m\u001b[1;33m\u001b[0m\u001b[1;33m\u001b[0m\u001b[0m\n\u001b[1;32m-> 1282\u001b[1;33m             \u001b[0mnew_blocks\u001b[0m \u001b[1;33m=\u001b[0m \u001b[0mself\u001b[0m\u001b[1;33m.\u001b[0m\u001b[0m_slice_take_blocks_ax0\u001b[0m\u001b[1;33m(\u001b[0m\u001b[0mindexer\u001b[0m\u001b[1;33m,\u001b[0m \u001b[0mfill_value\u001b[0m\u001b[1;33m=\u001b[0m\u001b[0mfill_value\u001b[0m\u001b[1;33m)\u001b[0m\u001b[1;33m\u001b[0m\u001b[1;33m\u001b[0m\u001b[0m\n\u001b[0m\u001b[0;32m   1283\u001b[0m         \u001b[1;32melse\u001b[0m\u001b[1;33m:\u001b[0m\u001b[1;33m\u001b[0m\u001b[1;33m\u001b[0m\u001b[0m\n\u001b[0;32m   1284\u001b[0m             new_blocks = [\n",
      "\u001b[1;32mC:\\ProgramData\\Anaconda3\\lib\\site-packages\\pandas\\core\\internals\\managers.py\u001b[0m in \u001b[0;36m_slice_take_blocks_ax0\u001b[1;34m(self, slice_or_indexer, fill_value, only_slice)\u001b[0m\n\u001b[0;32m   1408\u001b[0m                             \u001b[0mblocks\u001b[0m\u001b[1;33m.\u001b[0m\u001b[0mappend\u001b[0m\u001b[1;33m(\u001b[0m\u001b[0mnb\u001b[0m\u001b[1;33m)\u001b[0m\u001b[1;33m\u001b[0m\u001b[1;33m\u001b[0m\u001b[0m\n\u001b[0;32m   1409\u001b[0m                     \u001b[1;32melse\u001b[0m\u001b[1;33m:\u001b[0m\u001b[1;33m\u001b[0m\u001b[1;33m\u001b[0m\u001b[0m\n\u001b[1;32m-> 1410\u001b[1;33m                         \u001b[0mnb\u001b[0m \u001b[1;33m=\u001b[0m \u001b[0mblk\u001b[0m\u001b[1;33m.\u001b[0m\u001b[0mtake_nd\u001b[0m\u001b[1;33m(\u001b[0m\u001b[0mtaker\u001b[0m\u001b[1;33m,\u001b[0m \u001b[0maxis\u001b[0m\u001b[1;33m=\u001b[0m\u001b[1;36m0\u001b[0m\u001b[1;33m,\u001b[0m \u001b[0mnew_mgr_locs\u001b[0m\u001b[1;33m=\u001b[0m\u001b[0mmgr_locs\u001b[0m\u001b[1;33m)\u001b[0m\u001b[1;33m\u001b[0m\u001b[1;33m\u001b[0m\u001b[0m\n\u001b[0m\u001b[0;32m   1411\u001b[0m                         \u001b[0mblocks\u001b[0m\u001b[1;33m.\u001b[0m\u001b[0mappend\u001b[0m\u001b[1;33m(\u001b[0m\u001b[0mnb\u001b[0m\u001b[1;33m)\u001b[0m\u001b[1;33m\u001b[0m\u001b[1;33m\u001b[0m\u001b[0m\n\u001b[0;32m   1412\u001b[0m \u001b[1;33m\u001b[0m\u001b[0m\n",
      "\u001b[1;32mC:\\ProgramData\\Anaconda3\\lib\\site-packages\\pandas\\core\\internals\\blocks.py\u001b[0m in \u001b[0;36mtake_nd\u001b[1;34m(self, indexer, axis, new_mgr_locs, fill_value)\u001b[0m\n\u001b[0;32m   1253\u001b[0m             \u001b[0mallow_fill\u001b[0m \u001b[1;33m=\u001b[0m \u001b[1;32mTrue\u001b[0m\u001b[1;33m\u001b[0m\u001b[1;33m\u001b[0m\u001b[0m\n\u001b[0;32m   1254\u001b[0m \u001b[1;33m\u001b[0m\u001b[0m\n\u001b[1;32m-> 1255\u001b[1;33m         new_values = algos.take_nd(\n\u001b[0m\u001b[0;32m   1256\u001b[0m             \u001b[0mvalues\u001b[0m\u001b[1;33m,\u001b[0m \u001b[0mindexer\u001b[0m\u001b[1;33m,\u001b[0m \u001b[0maxis\u001b[0m\u001b[1;33m=\u001b[0m\u001b[0maxis\u001b[0m\u001b[1;33m,\u001b[0m \u001b[0mallow_fill\u001b[0m\u001b[1;33m=\u001b[0m\u001b[0mallow_fill\u001b[0m\u001b[1;33m,\u001b[0m \u001b[0mfill_value\u001b[0m\u001b[1;33m=\u001b[0m\u001b[0mfill_value\u001b[0m\u001b[1;33m\u001b[0m\u001b[1;33m\u001b[0m\u001b[0m\n\u001b[0;32m   1257\u001b[0m         )\n",
      "\u001b[1;32mC:\\ProgramData\\Anaconda3\\lib\\site-packages\\pandas\\core\\algorithms.py\u001b[0m in \u001b[0;36mtake_nd\u001b[1;34m(arr, indexer, axis, out, fill_value, allow_fill)\u001b[0m\n\u001b[0;32m   1706\u001b[0m             \u001b[0mout\u001b[0m \u001b[1;33m=\u001b[0m \u001b[0mnp\u001b[0m\u001b[1;33m.\u001b[0m\u001b[0mempty\u001b[0m\u001b[1;33m(\u001b[0m\u001b[0mout_shape\u001b[0m\u001b[1;33m,\u001b[0m \u001b[0mdtype\u001b[0m\u001b[1;33m=\u001b[0m\u001b[0mdtype\u001b[0m\u001b[1;33m,\u001b[0m \u001b[0morder\u001b[0m\u001b[1;33m=\u001b[0m\u001b[1;34m\"F\"\u001b[0m\u001b[1;33m)\u001b[0m\u001b[1;33m\u001b[0m\u001b[1;33m\u001b[0m\u001b[0m\n\u001b[0;32m   1707\u001b[0m         \u001b[1;32melse\u001b[0m\u001b[1;33m:\u001b[0m\u001b[1;33m\u001b[0m\u001b[1;33m\u001b[0m\u001b[0m\n\u001b[1;32m-> 1708\u001b[1;33m             \u001b[0mout\u001b[0m \u001b[1;33m=\u001b[0m \u001b[0mnp\u001b[0m\u001b[1;33m.\u001b[0m\u001b[0mempty\u001b[0m\u001b[1;33m(\u001b[0m\u001b[0mout_shape\u001b[0m\u001b[1;33m,\u001b[0m \u001b[0mdtype\u001b[0m\u001b[1;33m=\u001b[0m\u001b[0mdtype\u001b[0m\u001b[1;33m)\u001b[0m\u001b[1;33m\u001b[0m\u001b[1;33m\u001b[0m\u001b[0m\n\u001b[0m\u001b[0;32m   1709\u001b[0m \u001b[1;33m\u001b[0m\u001b[0m\n\u001b[0;32m   1710\u001b[0m     func = _get_take_nd_function(\n",
      "\u001b[1;31mMemoryError\u001b[0m: Unable to allocate 1.21 GiB for an array with shape (6, 27135019) and data type object"
     ]
    }
   ],
   "source": [
    "df=df.drop(['age'], axis=1)"
   ]
  },
  {
   "cell_type": "code",
   "execution_count": null,
   "metadata": {},
   "outputs": [],
   "source": []
  },
  {
   "cell_type": "code",
   "execution_count": null,
   "metadata": {},
   "outputs": [],
   "source": []
  },
  {
   "cell_type": "markdown",
   "metadata": {},
   "source": [
    "# sex_cd 성별코드"
   ]
  },
  {
   "cell_type": "code",
   "execution_count": 57,
   "metadata": {},
   "outputs": [
    {
     "data": {
      "text/plain": [
       "F    14912119\n",
       "M    12223041\n",
       "Name: sex_cd, dtype: int64"
      ]
     },
     "execution_count": 57,
     "metadata": {},
     "output_type": "execute_result"
    }
   ],
   "source": [
    "df['성별코드'].value_counts()"
   ]
  },
  {
   "cell_type": "code",
   "execution_count": 58,
   "metadata": {},
   "outputs": [
    {
     "data": {
      "image/png": "[encoded data removed]",
      "text/plain": [
       "<Figure size 432x288 with 1 Axes>"
      ]
     },
     "metadata": {
      "needs_background": "light"
     },
     "output_type": "display_data"
    }
   ],
   "source": [
    "sns.countplot(data=df, x=\"성별코드\")\n",
    "plt.show()"
   ]
  },
  {
   "cell_type": "code",
   "execution_count": 11,
   "metadata": {},
   "outputs": [
    {
     "data": {
      "text/plain": [
       "sex_cd\n",
       "F    22919.131814\n",
       "M    21703.987836\n",
       "Name: ttl_trns_amt, dtype: float64"
      ]
     },
     "execution_count": 11,
     "metadata": {},
     "output_type": "execute_result"
    }
   ],
   "source": [
    "df.groupby(['성별코드'])['총거래금액'].mean()"
   ]
  },
  {
   "cell_type": "code",
   "execution_count": 10,
   "metadata": {
    "scrolled": false
   },
   "outputs": [
    {
     "data": {
      "text/plain": [
       "<AxesSubplot:xlabel='sex_cd', ylabel='ttl_trns_amt'>"
      ]
     },
     "execution_count": 10,
     "metadata": {},
     "output_type": "execute_result"
    },
    {
     "data": {
      "image/png": "[encoded data removed]",
      "text/plain": [
       "<Figure size 432x288 with 1 Axes>"
      ]
     },
     "metadata": {
      "needs_background": "light"
     },
     "output_type": "display_data"
    }
   ],
   "source": [
    "sns.boxplot(x = '성별코드', y = '총거래금액', data = df)"
   ]
  },
  {
   "cell_type": "markdown",
   "metadata": {},
   "source": [
    "# trns_cnt 거래건수"
   ]
  },
  {
   "cell_type": "code",
   "execution_count": 59,
   "metadata": {},
   "outputs": [
    {
     "data": {
      "text/plain": [
       "array([ 1,  2,  3,  4,  5,  6, 10,  7,  8, 11, 30,  9, 12, 13, 24, 40, 20,\n",
       "       15, 14, 21, 16, 17, 19, 18, 22, 28, 55, 23, 31, 26, 29, 37, 34, 27,\n",
       "       56, 71, 57, 35, 36, 38, 41, 64, 25, 32, 63], dtype=int64)"
      ]
     },
     "execution_count": 59,
     "metadata": {},
     "output_type": "execute_result"
    }
   ],
   "source": [
    "df.거래건수.unique()"
   ]
  },
  {
   "cell_type": "code",
   "execution_count": 60,
   "metadata": {
    "scrolled": true
   },
   "outputs": [
    {
     "data": {
      "text/plain": [
       "1     24823825\n",
       "2      1964625\n",
       "3       264914\n",
       "4        55319\n",
       "5        15612\n",
       "6         5727\n",
       "7         2323\n",
       "8         1119\n",
       "9          569\n",
       "10         350\n",
       "11         227\n",
       "12         136\n",
       "13         114\n",
       "14          64\n",
       "15          47\n",
       "16          32\n",
       "17          28\n",
       "18          18\n",
       "20          17\n",
       "19          15\n",
       "22          11\n",
       "24          10\n",
       "21           8\n",
       "40           6\n",
       "23           5\n",
       "30           5\n",
       "26           4\n",
       "28           4\n",
       "31           4\n",
       "29           3\n",
       "41           2\n",
       "27           2\n",
       "32           2\n",
       "38           2\n",
       "64           1\n",
       "63           1\n",
       "57           1\n",
       "56           1\n",
       "55           1\n",
       "35           1\n",
       "37           1\n",
       "36           1\n",
       "25           1\n",
       "34           1\n",
       "71           1\n",
       "Name: trns_cnt, dtype: int64"
      ]
     },
     "execution_count": 60,
     "metadata": {},
     "output_type": "execute_result"
    }
   ],
   "source": [
    "df['거래건수'].value_counts()"
   ]
  },
  {
   "cell_type": "code",
   "execution_count": 24,
   "metadata": {
    "scrolled": true
   },
   "outputs": [
    {
     "data": {
      "text/html": [
       "<div>\n",
       "<style scoped>\n",
       "    .dataframe tbody tr th:only-of-type {\n",
       "        vertical-align: middle;\n",
       "    }\n",
       "\n",
       "    .dataframe tbody tr th {\n",
       "        vertical-align: top;\n",
       "    }\n",
       "\n",
       "    .dataframe thead th {\n",
       "        text-align: right;\n",
       "    }\n",
       "</style>\n",
       "<table border=\"1\" class=\"dataframe\">\n",
       "  <thead>\n",
       "    <tr style=\"text-align: right;\">\n",
       "      <th></th>\n",
       "      <th>strd_date</th>\n",
       "      <th>strd_tizn_val</th>\n",
       "      <th>ctpr_nm</th>\n",
       "      <th>ccg_nm</th>\n",
       "      <th>adn_dgnm</th>\n",
       "      <th>adng_no</th>\n",
       "      <th>cardc_nm</th>\n",
       "      <th>tpbuz_cd</th>\n",
       "      <th>tpbuz_nm</th>\n",
       "      <th>bth_yr</th>\n",
       "      <th>sex_cd</th>\n",
       "      <th>trns_cnt</th>\n",
       "      <th>ttl_trns_amt</th>\n",
       "    </tr>\n",
       "  </thead>\n",
       "  <tbody>\n",
       "    <tr>\n",
       "      <th>300998</th>\n",
       "      <td>20220601</td>\n",
       "      <td>19</td>\n",
       "      <td>부산광역시</td>\n",
       "      <td>금정구</td>\n",
       "      <td>장전1동</td>\n",
       "      <td>21110610</td>\n",
       "      <td>하나</td>\n",
       "      <td>5202</td>\n",
       "      <td>사무용 OA기기</td>\n",
       "      <td>1997</td>\n",
       "      <td>F</td>\n",
       "      <td>40</td>\n",
       "      <td>7000</td>\n",
       "    </tr>\n",
       "    <tr>\n",
       "      <th>10251335</th>\n",
       "      <td>20220701</td>\n",
       "      <td>17</td>\n",
       "      <td>부산광역시</td>\n",
       "      <td>동구</td>\n",
       "      <td>수정2동</td>\n",
       "      <td>21030570</td>\n",
       "      <td>부산</td>\n",
       "      <td>4010</td>\n",
       "      <td>편 의 점</td>\n",
       "      <td>1984</td>\n",
       "      <td>F</td>\n",
       "      <td>40</td>\n",
       "      <td>160800</td>\n",
       "    </tr>\n",
       "    <tr>\n",
       "      <th>13203105</th>\n",
       "      <td>20220710</td>\n",
       "      <td>15</td>\n",
       "      <td>부산광역시</td>\n",
       "      <td>사상구</td>\n",
       "      <td>주례2동</td>\n",
       "      <td>21150610</td>\n",
       "      <td>코나</td>\n",
       "      <td>9130</td>\n",
       "      <td>사무서비스</td>\n",
       "      <td>2000</td>\n",
       "      <td>F</td>\n",
       "      <td>40</td>\n",
       "      <td>6720</td>\n",
       "    </tr>\n",
       "    <tr>\n",
       "      <th>22931710</th>\n",
       "      <td>20220812</td>\n",
       "      <td>9</td>\n",
       "      <td>부산광역시</td>\n",
       "      <td>서구</td>\n",
       "      <td>동대신1동</td>\n",
       "      <td>21020510</td>\n",
       "      <td>부산</td>\n",
       "      <td>4010</td>\n",
       "      <td>편 의 점</td>\n",
       "      <td>1946</td>\n",
       "      <td>F</td>\n",
       "      <td>40</td>\n",
       "      <td>180000</td>\n",
       "    </tr>\n",
       "    <tr>\n",
       "      <th>23067550</th>\n",
       "      <td>20220812</td>\n",
       "      <td>16</td>\n",
       "      <td>부산광역시</td>\n",
       "      <td>동구</td>\n",
       "      <td>수정2동</td>\n",
       "      <td>21030570</td>\n",
       "      <td>부산</td>\n",
       "      <td>4010</td>\n",
       "      <td>편 의 점</td>\n",
       "      <td>1984</td>\n",
       "      <td>F</td>\n",
       "      <td>40</td>\n",
       "      <td>172500</td>\n",
       "    </tr>\n",
       "    <tr>\n",
       "      <th>26059010</th>\n",
       "      <td>20220825</td>\n",
       "      <td>21</td>\n",
       "      <td>부산광역시</td>\n",
       "      <td>동래구</td>\n",
       "      <td>온천2동</td>\n",
       "      <td>21060560</td>\n",
       "      <td>농협</td>\n",
       "      <td>4010</td>\n",
       "      <td>편 의 점</td>\n",
       "      <td>1980</td>\n",
       "      <td>F</td>\n",
       "      <td>40</td>\n",
       "      <td>127000</td>\n",
       "    </tr>\n",
       "  </tbody>\n",
       "</table>\n",
       "</div>"
      ],
      "text/plain": [
       "          strd_date  strd_tizn_val ctpr_nm ccg_nm adn_dgnm   adng_no cardc_nm  \\\n",
       "300998     20220601             19   부산광역시    금정구     장전1동  21110610       하나   \n",
       "10251335   20220701             17   부산광역시     동구     수정2동  21030570       부산   \n",
       "13203105   20220710             15   부산광역시    사상구     주례2동  21150610       코나   \n",
       "22931710   20220812              9   부산광역시     서구    동대신1동  21020510       부산   \n",
       "23067550   20220812             16   부산광역시     동구     수정2동  21030570       부산   \n",
       "26059010   20220825             21   부산광역시    동래구     온천2동  21060560       농협   \n",
       "\n",
       "          tpbuz_cd  tpbuz_nm  bth_yr sex_cd  trns_cnt  ttl_trns_amt  \n",
       "300998        5202  사무용 OA기기    1997      F        40          7000  \n",
       "10251335      4010     편 의 점    1984      F        40        160800  \n",
       "13203105      9130     사무서비스    2000      F        40          6720  \n",
       "22931710      4010     편 의 점    1946      F        40        180000  \n",
       "23067550      4010     편 의 점    1984      F        40        172500  \n",
       "26059010      4010     편 의 점    1980      F        40        127000  "
      ]
     },
     "execution_count": 24,
     "metadata": {},
     "output_type": "execute_result"
    }
   ],
   "source": [
    "df[df['거래건수']==40]"
   ]
  },
  {
   "cell_type": "code",
   "execution_count": null,
   "metadata": {},
   "outputs": [],
   "source": []
  },
  {
   "cell_type": "markdown",
   "metadata": {},
   "source": [
    "# ttl_trns_amt 총거래금액"
   ]
  },
  {
   "cell_type": "code",
   "execution_count": 67,
   "metadata": {},
   "outputs": [
    {
     "data": {
      "text/plain": [
       "array([  7350,   3700,   7500, ...,    579,    997, 106662], dtype=int64)"
      ]
     },
     "execution_count": 67,
     "metadata": {},
     "output_type": "execute_result"
    }
   ],
   "source": [
    "df.ttl_trns_amt.unique()"
   ]
  },
  {
   "cell_type": "code",
   "execution_count": null,
   "metadata": {},
   "outputs": [],
   "source": []
  }
 ],
 "metadata": {
  "kernelspec": {
   "display_name": "Python 3",
   "language": "python",
   "name": "python3"
  },
  "language_info": {
   "codemirror_mode": {
    "name": "ipython",
    "version": 3
   },
   "file_extension": ".py",
   "mimetype": "text/x-python",
   "name": "python",
   "nbconvert_exporter": "python",
   "pygments_lexer": "ipython3",
   "version": "3.8.5"
  }
 },
 "nbformat": 4,
 "nbformat_minor": 4
}
